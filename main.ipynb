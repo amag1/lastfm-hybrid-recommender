{
 "cells": [
  {
   "cell_type": "code",
   "execution_count": 28,
   "metadata": {},
   "outputs": [],
   "source": [
    "import pandas as pd\n",
    "\n",
    "artists = pd.read_csv('dataset/remapped/artists.csv')\n",
    "tags = pd.read_csv('dataset/remapped/tags.csv')\n",
    "user_artists = pd.read_csv('dataset/remapped/user_artists.csv')\n",
    "user_tags = pd.read_csv('dataset/remapped/user_tags.csv')"
   ]
  },
  {
   "cell_type": "code",
   "execution_count": 29,
   "metadata": {},
   "outputs": [
    {
     "data": {
      "text/plain": [
       "(12133, 9719)"
      ]
     },
     "execution_count": 29,
     "metadata": {},
     "output_type": "execute_result"
    }
   ],
   "source": [
    "import numpy as np\n",
    "from scipy.sparse import csr_matrix\n",
    "\n",
    "# Assuming user_tags, tags, and artists DataFrames are already loaded\n",
    "\n",
    "# Get the distribution of tags for each artist\n",
    "artist_tag_distribution = (\n",
    "    user_tags.groupby(['artistID', 'tagID'])\n",
    "    .size()\n",
    "    .unstack(fill_value=0)  # Converts to wide format with tagIDs as columns\n",
    ")\n",
    "artist_tag_distribution.columns.name = None  # Remove column name for clarity\n",
    "artist_tag_distribution.reset_index(inplace=True)  # Make artistID a regular column\n",
    "\n",
    "artist_tag_distribution.shape\n",
    "\n"
   ]
  },
  {
   "cell_type": "code",
   "execution_count": 30,
   "metadata": {},
   "outputs": [
    {
     "data": {
      "text/html": [
       "<div>\n",
       "<style scoped>\n",
       "    .dataframe tbody tr th:only-of-type {\n",
       "        vertical-align: middle;\n",
       "    }\n",
       "\n",
       "    .dataframe tbody tr th {\n",
       "        vertical-align: top;\n",
       "    }\n",
       "\n",
       "    .dataframe thead th {\n",
       "        text-align: right;\n",
       "    }\n",
       "</style>\n",
       "<table border=\"1\" class=\"dataframe\">\n",
       "  <thead>\n",
       "    <tr style=\"text-align: right;\">\n",
       "      <th></th>\n",
       "      <th>artistID</th>\n",
       "      <th>tagValue</th>\n",
       "    </tr>\n",
       "  </thead>\n",
       "  <tbody>\n",
       "    <tr>\n",
       "      <th>0</th>\n",
       "      <td>0</td>\n",
       "      <td>weeabo jrock j-rock visual kei better than lad...</td>\n",
       "    </tr>\n",
       "    <tr>\n",
       "      <th>1</th>\n",
       "      <td>1</td>\n",
       "      <td>german seen live darkwave industrial german ge...</td>\n",
       "    </tr>\n",
       "    <tr>\n",
       "      <th>2</th>\n",
       "      <td>2</td>\n",
       "      <td>black metal black metal norwegian black metal ...</td>\n",
       "    </tr>\n",
       "    <tr>\n",
       "      <th>3</th>\n",
       "      <td>3</td>\n",
       "      <td>j-rock visual kei metal gothic japanese bazaro...</td>\n",
       "    </tr>\n",
       "    <tr>\n",
       "      <th>4</th>\n",
       "      <td>4</td>\n",
       "      <td>gothic gothic rock darkwave darkwave deathrock...</td>\n",
       "    </tr>\n",
       "  </tbody>\n",
       "</table>\n",
       "</div>"
      ],
      "text/plain": [
       "   artistID                                           tagValue\n",
       "0         0  weeabo jrock j-rock visual kei better than lad...\n",
       "1         1  german seen live darkwave industrial german ge...\n",
       "2         2  black metal black metal norwegian black metal ...\n",
       "3         3  j-rock visual kei metal gothic japanese bazaro...\n",
       "4         4  gothic gothic rock darkwave darkwave deathrock..."
      ]
     },
     "execution_count": 30,
     "metadata": {},
     "output_type": "execute_result"
    }
   ],
   "source": [
    "\n",
    "# Build bag-of-words embeddings\n",
    "# Merge `user_tags` with `tags` to get the tag values\n",
    "user_tags_with_values = user_tags.merge(tags, how='left', left_on='tagID', right_on='tagID')\n",
    "\n",
    "# Combine all tag values for each artist\n",
    "artist_bow = user_tags_with_values.groupby('artistID')['tagValue'].apply(\n",
    "    lambda x: ' '.join(map(str, x))\n",
    ").reset_index()\n",
    "\n",
    "\n",
    "artist_bow.head()"
   ]
  },
  {
   "cell_type": "code",
   "execution_count": 31,
   "metadata": {},
   "outputs": [
    {
     "name": "stdout",
     "output_type": "stream",
     "text": [
      "Embedding dimension: 7592\n"
     ]
    }
   ],
   "source": [
    "\n",
    "# Vectorize using CountVectorizer to build bag-of-words embeddings\n",
    "from sklearn.feature_extraction.text import CountVectorizer\n",
    "\n",
    "vectorizer = CountVectorizer()\n",
    "bow_matrix = vectorizer.fit_transform(artist_bow['tagValue'])\n",
    "\n",
    "embedding_dim = len(vectorizer.get_feature_names_out())\n",
    "print(f\"Embedding dimension: {embedding_dim}\")"
   ]
  },
  {
   "cell_type": "code",
   "execution_count": 32,
   "metadata": {},
   "outputs": [
    {
     "data": {
      "text/plain": [
       "(12133, 7592)"
      ]
     },
     "execution_count": 32,
     "metadata": {},
     "output_type": "execute_result"
    }
   ],
   "source": [
    "# Create a DataFrame with bag-of-words embeddings\n",
    "artist_embeddings = pd.DataFrame.sparse.from_spmatrix(\n",
    "    bow_matrix, columns=vectorizer.get_feature_names_out(), index=artist_bow['artistID']\n",
    ")\n",
    "\n",
    "artist_embeddings.shape\n"
   ]
  },
  {
   "cell_type": "code",
   "execution_count": 33,
   "metadata": {},
   "outputs": [],
   "source": [
    "# Normalize rows in the embedding matrix\n",
    "artist_embeddings = artist_embeddings.div(artist_embeddings.sum(axis=0), axis=1)"
   ]
  },
  {
   "cell_type": "code",
   "execution_count": 34,
   "metadata": {},
   "outputs": [
    {
     "name": "stdout",
     "output_type": "stream",
     "text": [
      "Tag distribution by artist:\n",
      "       artistID  0  1  2  3  4  5  6  7  8  ...  11935  11936  11937  11938  \\\n",
      "0             0  0  0  0  0  0  0  0  0  0  ...      0      0      0      0   \n",
      "1             1  0  0  0  0  0  0  0  0  0  ...      0      0      0      0   \n",
      "2             2  0  0  0  3  0  0  0  0  0  ...      0      0      0      0   \n",
      "3             3  2  0  0  0  0  0  1  0  0  ...      0      0      0      0   \n",
      "4             4  0  0  0  0  0  0  0  0  0  ...      0      0      0      0   \n",
      "...         ... .. .. .. .. .. .. .. .. ..  ...    ...    ...    ...    ...   \n",
      "12128     17623  0  0  0  0  0  0  0  0  0  ...      0      0      0      0   \n",
      "12129     17625  0  0  0  0  0  0  0  0  0  ...      0      0      0      0   \n",
      "12130     17626  0  0  0  0  0  0  0  0  0  ...      0      0      0      0   \n",
      "12131     17627  0  0  0  0  0  0  0  0  0  ...      0      0      0      0   \n",
      "12132     17630  0  0  0  0  0  0  0  0  0  ...      0      0      0      0   \n",
      "\n",
      "       11939  11940  11941  11942  11943  11944  \n",
      "0          0      0      0      0      0      0  \n",
      "1          0      0      0      0      0      0  \n",
      "2          0      0      0      0      0      0  \n",
      "3          0      0      0      0      0      0  \n",
      "4          0      0      0      0      0      0  \n",
      "...      ...    ...    ...    ...    ...    ...  \n",
      "12128      0      0      0      0      0      0  \n",
      "12129      0      0      0      0      0      0  \n",
      "12130      0      0      0      0      0      0  \n",
      "12131      0      0      0      0      0      0  \n",
      "12132      0      0      0      0      0      0  \n",
      "\n",
      "[12133 rows x 9719 columns]\n",
      "\n",
      "Bag-of-Words Embeddings for artists:\n",
      "           00  007  00s   01   06   07   08   09   10  100  ...  zombie  \\\n",
      "artistID                                                    ...           \n",
      "0         0.0  0.0  0.0  0.0  0.0  0.0  0.0  0.0  0.0  0.0  ...     0.0   \n",
      "1         0.0  0.0  0.0  0.0  0.0  0.0  0.0  0.0  0.0  0.0  ...     0.0   \n",
      "2         0.0  0.0  0.0  0.0  0.0  0.0  0.0  0.0  0.0  0.0  ...     0.0   \n",
      "3         0.0  0.0  0.0  0.0  0.0  0.0  0.0  0.0  0.0  0.0  ...     0.0   \n",
      "4         0.0  0.0  0.0  0.0  0.0  0.0  0.0  0.0  0.0  0.0  ...     0.0   \n",
      "...       ...  ...  ...  ...  ...  ...  ...  ...  ...  ...  ...     ...   \n",
      "17623     0.0  0.0  0.0  0.0  0.0  0.0  0.0  0.0  0.0  0.0  ...     0.0   \n",
      "17625     0.0  0.0  0.0  0.0  0.0  0.0  0.0  0.0  0.0  0.0  ...     0.0   \n",
      "17626     0.0  0.0  0.0  0.0  0.0  0.0  0.0  0.0  0.0  0.0  ...     0.0   \n",
      "17627     0.0  0.0  0.0  0.0  0.0  0.0  0.0  0.0  0.0  0.0  ...     0.0   \n",
      "17630     0.0  0.0  0.0  0.0  0.0  0.0  0.0  0.0  0.0  0.0  ...     0.0   \n",
      "\n",
      "          zombieland  zone  zoocore  zooey  zorn  zornish  ztt   zu  ärzte  \n",
      "artistID                                                                    \n",
      "0                0.0   0.0      0.0    0.0   0.0      0.0  0.0  0.0    0.0  \n",
      "1                0.0   0.0      0.0    0.0   0.0      0.0  0.0  0.0    0.0  \n",
      "2                0.0   0.0      0.0    0.0   0.0      0.0  0.0  0.0    0.0  \n",
      "3                0.0   0.0      0.0    0.0   0.0      0.0  0.0  0.0    0.0  \n",
      "4                0.0   0.0      0.0    0.0   0.0      0.0  0.0  0.0    0.0  \n",
      "...              ...   ...      ...    ...   ...      ...  ...  ...    ...  \n",
      "17623            0.0   0.0      0.0    0.0   0.0      0.0  0.0  0.0    0.0  \n",
      "17625            0.0   0.0      0.0    0.0   0.0      0.0  0.0  0.0    0.0  \n",
      "17626            0.0   0.0      0.0    0.0   0.0      0.0  0.0  0.0    0.0  \n",
      "17627            0.0   0.0      0.0    0.0   0.0      0.0  0.0  0.0    0.0  \n",
      "17630            0.0   0.0      0.0    0.0   0.0      0.0  0.0  0.0    0.0  \n",
      "\n",
      "[12133 rows x 7592 columns]\n",
      "\n",
      "Sparse matrix shape (artist_count x embedding_dim): (17632, 7592)\n"
     ]
    }
   ],
   "source": [
    "# Build a sparse matrix of shape (artist_count, embedding_dim)\n",
    "# Ensure all artists have rows in the sparse matrix\n",
    "all_artists = artists[['id']].rename(columns={'id': 'artistID'})\n",
    "artist_embeddings_full = all_artists.merge(artist_embeddings, how='left', on='artistID').fillna(0)\n",
    "\n",
    "# Convert to sparse matrix\n",
    "embedding_sparse_matrix = csr_matrix(artist_embeddings_full.drop(columns=['artistID']).values)\n",
    "\n",
    "# Output results\n",
    "print(\"Tag distribution by artist:\")\n",
    "print(artist_tag_distribution)\n",
    "\n",
    "print(\"\\nBag-of-Words Embeddings for artists:\")\n",
    "print(artist_embeddings)\n",
    "\n",
    "print(\"\\nSparse matrix shape (artist_count x embedding_dim):\", embedding_sparse_matrix.shape)\n"
   ]
  },
  {
   "cell_type": "code",
   "execution_count": 35,
   "metadata": {},
   "outputs": [],
   "source": [
    "def get_artist_name(artist_id):\n",
    "    return artists.loc[artists['id'] == artist_id, 'name'].values[0]"
   ]
  },
  {
   "cell_type": "code",
   "execution_count": 36,
   "metadata": {},
   "outputs": [
    {
     "name": "stdout",
     "output_type": "stream",
     "text": [
      "Sparse matrix shape: (1892, 17632)\n"
     ]
    }
   ],
   "source": [
    "from scipy.sparse import coo_matrix\n",
    "\n",
    "# Create a sparse matrix for user-artist interactions\n",
    "user_artist_matrix = coo_matrix(\n",
    "    (user_artists['weight'], (user_artists['userID'], user_artists['artistID']))\n",
    ")\n",
    "\n",
    "# Output the shape of the matrix\n",
    "print(f\"Sparse matrix shape: {user_artist_matrix.shape}\")\n",
    "\n",
    "item_features = csr_matrix(embedding_sparse_matrix)\n",
    "\n"
   ]
  },
  {
   "cell_type": "code",
   "execution_count": 37,
   "metadata": {},
   "outputs": [
    {
     "name": "stdout",
     "output_type": "stream",
     "text": [
      "Interactions matrix shape: (1892, 17632)\n"
     ]
    }
   ],
   "source": [
    "from lightfm.data import Dataset\n",
    "\n",
    "# Initialize the Dataset object\n",
    "dataset = Dataset(user_identity_features=False, item_identity_features=False)\n",
    "\n",
    "# Fit the dataset with users and items\n",
    "# Specify the number of users and items based on the user_artist_matrix\n",
    "num_users, num_artists = user_artist_matrix.shape\n",
    "dataset.fit(\n",
    "    range(num_users),  # User IDs\n",
    "    range(num_artists)  # Artist IDs\n",
    ")\n",
    "\n",
    "# Build interactions and weights matrices\n",
    "(interactions, weights) = dataset.build_interactions(\n",
    "    [(row['userID'], row['artistID'], row['weight']) for _, row in user_artists.iterrows()]\n",
    ")\n",
    "\n",
    "# Output the shape of the interactions matrix\n",
    "print(f\"Interactions matrix shape: {interactions.shape}\")"
   ]
  },
  {
   "cell_type": "code",
   "execution_count": 38,
   "metadata": {},
   "outputs": [
    {
     "name": "stdout",
     "output_type": "stream",
     "text": [
      "Training interactions: 74267\n",
      "Testing interactions: 18567\n"
     ]
    }
   ],
   "source": [
    "seed = 42\n",
    "\n",
    "from lightfm.cross_validation import random_train_test_split\n",
    "\n",
    "# Split the interactions into training and testing datasets\n",
    "train, test = random_train_test_split(interactions, test_percentage=0.2, random_state=seed)\n",
    "trainweighted, testweighted = random_train_test_split(weights, test_percentage=0.2, random_state=seed)\n",
    "\n",
    "# Output the number of interactions in train and test\n",
    "print(f\"Training interactions: {train.getnnz()}\")\n",
    "print(f\"Testing interactions: {test.getnnz()}\")"
   ]
  },
  {
   "cell_type": "code",
   "execution_count": 36,
   "metadata": {},
   "outputs": [
    {
     "name": "stderr",
     "output_type": "stream",
     "text": [
      "Epoch:  20%|██        | 2/10 [00:08<00:34,  4.35s/it]\n"
     ]
    },
    {
     "ename": "KeyboardInterrupt",
     "evalue": "",
     "output_type": "error",
     "traceback": [
      "\u001b[0;31m---------------------------------------------------------------------------\u001b[0m",
      "\u001b[0;31mKeyboardInterrupt\u001b[0m                         Traceback (most recent call last)",
      "Cell \u001b[0;32mIn[36], line 6\u001b[0m\n\u001b[1;32m      4\u001b[0m \u001b[38;5;66;03m# Train a model to check sanity\u001b[39;00m\n\u001b[1;32m      5\u001b[0m model \u001b[38;5;241m=\u001b[39m LightFM(loss\u001b[38;5;241m=\u001b[39m\u001b[38;5;124m'\u001b[39m\u001b[38;5;124mwarp\u001b[39m\u001b[38;5;124m'\u001b[39m)\n\u001b[0;32m----> 6\u001b[0m \u001b[43mmodel\u001b[49m\u001b[38;5;241;43m.\u001b[39;49m\u001b[43mfit\u001b[49m\u001b[43m(\u001b[49m\u001b[43mtrain\u001b[49m\u001b[43m,\u001b[49m\u001b[43m \u001b[49m\u001b[43mepochs\u001b[49m\u001b[38;5;241;43m=\u001b[39;49m\u001b[38;5;241;43m10\u001b[39;49m\u001b[43m,\u001b[49m\u001b[43m \u001b[49m\u001b[43mnum_threads\u001b[49m\u001b[38;5;241;43m=\u001b[39;49m\u001b[38;5;241;43m4\u001b[39;49m\u001b[43m,\u001b[49m\u001b[43mitem_features\u001b[49m\u001b[38;5;241;43m=\u001b[39;49m\u001b[43mitem_features\u001b[49m\u001b[43m,\u001b[49m\u001b[43mverbose\u001b[49m\u001b[38;5;241;43m=\u001b[39;49m\u001b[38;5;28;43;01mTrue\u001b[39;49;00m\u001b[43m)\u001b[49m\n\u001b[1;32m      7\u001b[0m auc_score(model, test, train_interactions\u001b[38;5;241m=\u001b[39mtrain,item_features\u001b[38;5;241m=\u001b[39mitem_features)\u001b[38;5;241m.\u001b[39mmean()\n",
      "File \u001b[0;32m~/.local/lib/python3.12/site-packages/lightfm/lightfm.py:550\u001b[0m, in \u001b[0;36mLightFM.fit\u001b[0;34m(self, interactions, user_features, item_features, sample_weight, epochs, num_threads, verbose)\u001b[0m\n\u001b[1;32m    547\u001b[0m \u001b[38;5;66;03m# Discard old results, if any\u001b[39;00m\n\u001b[1;32m    548\u001b[0m \u001b[38;5;28mself\u001b[39m\u001b[38;5;241m.\u001b[39m_reset_state()\n\u001b[0;32m--> 550\u001b[0m \u001b[38;5;28;01mreturn\u001b[39;00m \u001b[38;5;28;43mself\u001b[39;49m\u001b[38;5;241;43m.\u001b[39;49m\u001b[43mfit_partial\u001b[49m\u001b[43m(\u001b[49m\n\u001b[1;32m    551\u001b[0m \u001b[43m    \u001b[49m\u001b[43minteractions\u001b[49m\u001b[43m,\u001b[49m\n\u001b[1;32m    552\u001b[0m \u001b[43m    \u001b[49m\u001b[43muser_features\u001b[49m\u001b[38;5;241;43m=\u001b[39;49m\u001b[43muser_features\u001b[49m\u001b[43m,\u001b[49m\n\u001b[1;32m    553\u001b[0m \u001b[43m    \u001b[49m\u001b[43mitem_features\u001b[49m\u001b[38;5;241;43m=\u001b[39;49m\u001b[43mitem_features\u001b[49m\u001b[43m,\u001b[49m\n\u001b[1;32m    554\u001b[0m \u001b[43m    \u001b[49m\u001b[43msample_weight\u001b[49m\u001b[38;5;241;43m=\u001b[39;49m\u001b[43msample_weight\u001b[49m\u001b[43m,\u001b[49m\n\u001b[1;32m    555\u001b[0m \u001b[43m    \u001b[49m\u001b[43mepochs\u001b[49m\u001b[38;5;241;43m=\u001b[39;49m\u001b[43mepochs\u001b[49m\u001b[43m,\u001b[49m\n\u001b[1;32m    556\u001b[0m \u001b[43m    \u001b[49m\u001b[43mnum_threads\u001b[49m\u001b[38;5;241;43m=\u001b[39;49m\u001b[43mnum_threads\u001b[49m\u001b[43m,\u001b[49m\n\u001b[1;32m    557\u001b[0m \u001b[43m    \u001b[49m\u001b[43mverbose\u001b[49m\u001b[38;5;241;43m=\u001b[39;49m\u001b[43mverbose\u001b[49m\u001b[43m,\u001b[49m\n\u001b[1;32m    558\u001b[0m \u001b[43m\u001b[49m\u001b[43m)\u001b[49m\n",
      "File \u001b[0;32m~/.local/lib/python3.12/site-packages/lightfm/lightfm.py:655\u001b[0m, in \u001b[0;36mLightFM.fit_partial\u001b[0;34m(self, interactions, user_features, item_features, sample_weight, epochs, num_threads, verbose)\u001b[0m\n\u001b[1;32m    652\u001b[0m     \u001b[38;5;28;01mraise\u001b[39;00m \u001b[38;5;167;01mValueError\u001b[39;00m(\u001b[38;5;124m\"\u001b[39m\u001b[38;5;124mNumber of threads must be 1 or larger.\u001b[39m\u001b[38;5;124m\"\u001b[39m)\n\u001b[1;32m    654\u001b[0m \u001b[38;5;28;01mfor\u001b[39;00m _ \u001b[38;5;129;01min\u001b[39;00m \u001b[38;5;28mself\u001b[39m\u001b[38;5;241m.\u001b[39m_progress(epochs, verbose\u001b[38;5;241m=\u001b[39mverbose):\n\u001b[0;32m--> 655\u001b[0m     \u001b[38;5;28;43mself\u001b[39;49m\u001b[38;5;241;43m.\u001b[39;49m\u001b[43m_run_epoch\u001b[49m\u001b[43m(\u001b[49m\n\u001b[1;32m    656\u001b[0m \u001b[43m        \u001b[49m\u001b[43mitem_features\u001b[49m\u001b[43m,\u001b[49m\n\u001b[1;32m    657\u001b[0m \u001b[43m        \u001b[49m\u001b[43muser_features\u001b[49m\u001b[43m,\u001b[49m\n\u001b[1;32m    658\u001b[0m \u001b[43m        \u001b[49m\u001b[43minteractions\u001b[49m\u001b[43m,\u001b[49m\n\u001b[1;32m    659\u001b[0m \u001b[43m        \u001b[49m\u001b[43msample_weight_data\u001b[49m\u001b[43m,\u001b[49m\n\u001b[1;32m    660\u001b[0m \u001b[43m        \u001b[49m\u001b[43mnum_threads\u001b[49m\u001b[43m,\u001b[49m\n\u001b[1;32m    661\u001b[0m \u001b[43m        \u001b[49m\u001b[38;5;28;43mself\u001b[39;49m\u001b[38;5;241;43m.\u001b[39;49m\u001b[43mloss\u001b[49m\u001b[43m,\u001b[49m\n\u001b[1;32m    662\u001b[0m \u001b[43m    \u001b[49m\u001b[43m)\u001b[49m\n\u001b[1;32m    664\u001b[0m     \u001b[38;5;28mself\u001b[39m\u001b[38;5;241m.\u001b[39m_check_finite()\n\u001b[1;32m    666\u001b[0m \u001b[38;5;28;01mreturn\u001b[39;00m \u001b[38;5;28mself\u001b[39m\n",
      "File \u001b[0;32m~/.local/lib/python3.12/site-packages/lightfm/lightfm.py:696\u001b[0m, in \u001b[0;36mLightFM._run_epoch\u001b[0;34m(self, item_features, user_features, interactions, sample_weight, num_threads, loss)\u001b[0m\n\u001b[1;32m    694\u001b[0m \u001b[38;5;66;03m# Call the estimation routines.\u001b[39;00m\n\u001b[1;32m    695\u001b[0m \u001b[38;5;28;01mif\u001b[39;00m loss \u001b[38;5;241m==\u001b[39m \u001b[38;5;124m\"\u001b[39m\u001b[38;5;124mwarp\u001b[39m\u001b[38;5;124m\"\u001b[39m:\n\u001b[0;32m--> 696\u001b[0m     \u001b[43mfit_warp\u001b[49m\u001b[43m(\u001b[49m\n\u001b[1;32m    697\u001b[0m \u001b[43m        \u001b[49m\u001b[43mCSRMatrix\u001b[49m\u001b[43m(\u001b[49m\u001b[43mitem_features\u001b[49m\u001b[43m)\u001b[49m\u001b[43m,\u001b[49m\n\u001b[1;32m    698\u001b[0m \u001b[43m        \u001b[49m\u001b[43mCSRMatrix\u001b[49m\u001b[43m(\u001b[49m\u001b[43muser_features\u001b[49m\u001b[43m)\u001b[49m\u001b[43m,\u001b[49m\n\u001b[1;32m    699\u001b[0m \u001b[43m        \u001b[49m\u001b[43mpositives_lookup\u001b[49m\u001b[43m,\u001b[49m\n\u001b[1;32m    700\u001b[0m \u001b[43m        \u001b[49m\u001b[43minteractions\u001b[49m\u001b[38;5;241;43m.\u001b[39;49m\u001b[43mrow\u001b[49m\u001b[43m,\u001b[49m\n\u001b[1;32m    701\u001b[0m \u001b[43m        \u001b[49m\u001b[43minteractions\u001b[49m\u001b[38;5;241;43m.\u001b[39;49m\u001b[43mcol\u001b[49m\u001b[43m,\u001b[49m\n\u001b[1;32m    702\u001b[0m \u001b[43m        \u001b[49m\u001b[43minteractions\u001b[49m\u001b[38;5;241;43m.\u001b[39;49m\u001b[43mdata\u001b[49m\u001b[43m,\u001b[49m\n\u001b[1;32m    703\u001b[0m \u001b[43m        \u001b[49m\u001b[43msample_weight\u001b[49m\u001b[43m,\u001b[49m\n\u001b[1;32m    704\u001b[0m \u001b[43m        \u001b[49m\u001b[43mshuffle_indices\u001b[49m\u001b[43m,\u001b[49m\n\u001b[1;32m    705\u001b[0m \u001b[43m        \u001b[49m\u001b[43mlightfm_data\u001b[49m\u001b[43m,\u001b[49m\n\u001b[1;32m    706\u001b[0m \u001b[43m        \u001b[49m\u001b[38;5;28;43mself\u001b[39;49m\u001b[38;5;241;43m.\u001b[39;49m\u001b[43mlearning_rate\u001b[49m\u001b[43m,\u001b[49m\n\u001b[1;32m    707\u001b[0m \u001b[43m        \u001b[49m\u001b[38;5;28;43mself\u001b[39;49m\u001b[38;5;241;43m.\u001b[39;49m\u001b[43mitem_alpha\u001b[49m\u001b[43m,\u001b[49m\n\u001b[1;32m    708\u001b[0m \u001b[43m        \u001b[49m\u001b[38;5;28;43mself\u001b[39;49m\u001b[38;5;241;43m.\u001b[39;49m\u001b[43muser_alpha\u001b[49m\u001b[43m,\u001b[49m\n\u001b[1;32m    709\u001b[0m \u001b[43m        \u001b[49m\u001b[43mnum_threads\u001b[49m\u001b[43m,\u001b[49m\n\u001b[1;32m    710\u001b[0m \u001b[43m        \u001b[49m\u001b[38;5;28;43mself\u001b[39;49m\u001b[38;5;241;43m.\u001b[39;49m\u001b[43mrandom_state\u001b[49m\u001b[43m,\u001b[49m\n\u001b[1;32m    711\u001b[0m \u001b[43m    \u001b[49m\u001b[43m)\u001b[49m\n\u001b[1;32m    712\u001b[0m \u001b[38;5;28;01melif\u001b[39;00m loss \u001b[38;5;241m==\u001b[39m \u001b[38;5;124m\"\u001b[39m\u001b[38;5;124mbpr\u001b[39m\u001b[38;5;124m\"\u001b[39m:\n\u001b[1;32m    713\u001b[0m     fit_bpr(\n\u001b[1;32m    714\u001b[0m         CSRMatrix(item_features),\n\u001b[1;32m    715\u001b[0m         CSRMatrix(user_features),\n\u001b[0;32m   (...)\u001b[0m\n\u001b[1;32m    727\u001b[0m         \u001b[38;5;28mself\u001b[39m\u001b[38;5;241m.\u001b[39mrandom_state,\n\u001b[1;32m    728\u001b[0m     )\n",
      "\u001b[0;31mKeyboardInterrupt\u001b[0m: "
     ]
    }
   ],
   "source": [
    "from lightfm import LightFM\n",
    "from lightfm.evaluation import auc_score\n",
    "\n",
    "# Train a model to check sanity\n",
    "model = LightFM(loss='warp')\n",
    "model.fit(train, epochs=10, num_threads=4,item_features=item_features,verbose=True)\n",
    "auc_score(model, test, train_interactions=train,item_features=item_features).mean()\n"
   ]
  },
  {
   "cell_type": "code",
   "execution_count": 37,
   "metadata": {},
   "outputs": [
    {
     "name": "stdout",
     "output_type": "stream",
     "text": [
      "Defaulting to user installation because normal site-packages is not writeable\n",
      "Requirement already satisfied: optuna in /home/andres/.local/lib/python3.12/site-packages (4.1.0)\n",
      "Requirement already satisfied: alembic>=1.5.0 in /home/andres/.local/lib/python3.12/site-packages (from optuna) (1.14.0)\n",
      "Requirement already satisfied: colorlog in /home/andres/.local/lib/python3.12/site-packages (from optuna) (6.9.0)\n",
      "Requirement already satisfied: numpy in /usr/lib64/python3.12/site-packages (from optuna) (1.26.4)\n",
      "Requirement already satisfied: packaging>=20.0 in /home/andres/.local/lib/python3.12/site-packages (from optuna) (24.1)\n",
      "Requirement already satisfied: sqlalchemy>=1.4.2 in /home/andres/.local/lib/python3.12/site-packages (from optuna) (2.0.35)\n",
      "Requirement already satisfied: tqdm in /home/andres/.local/lib/python3.12/site-packages (from optuna) (4.66.5)\n",
      "Requirement already satisfied: PyYAML in /home/andres/.local/lib/python3.12/site-packages (from optuna) (6.0.2)\n",
      "Requirement already satisfied: Mako in /usr/lib/python3.12/site-packages (from alembic>=1.5.0->optuna) (1.2.3)\n",
      "Requirement already satisfied: typing-extensions>=4 in /home/andres/.local/lib/python3.12/site-packages (from alembic>=1.5.0->optuna) (4.12.2)\n",
      "Requirement already satisfied: greenlet!=0.4.17 in /home/andres/.local/lib/python3.12/site-packages (from sqlalchemy>=1.4.2->optuna) (3.1.1)\n",
      "Requirement already satisfied: MarkupSafe>=0.9.2 in /home/andres/.local/lib/python3.12/site-packages (from Mako->alembic>=1.5.0->optuna) (2.1.5)\n"
     ]
    },
    {
     "name": "stderr",
     "output_type": "stream",
     "text": [
      "[I 2024-12-15 19:23:22,557] A new study created in memory with name: no-name-e3700133-5041-4c0a-8a77-bb8447e567b9\n"
     ]
    },
    {
     "name": "stdout",
     "output_type": "stream",
     "text": [
      "Note: you may need to restart the kernel to use updated packages.\n"
     ]
    }
   ],
   "source": [
    "%pip install optuna\n",
    "import optuna\n",
    "\n",
    "def objective(trial):\n",
    "    seed = 123\n",
    "    tr, val = random_train_test_split(train, test_percentage=0.2, random_state=seed)\n",
    "\n",
    "\n",
    "    param = {\n",
    "        'no_components': trial.suggest_int(\"no_components\", 5, 64),\n",
    "        \"learning_schedule\": trial.suggest_categorical(\"learning_schedule\", [\"adagrad\"]),\n",
    "        \"loss\":  trial.suggest_categorical(\"loss\", [\"bpr\", \"warp\", \"warp-kos\"]),\n",
    "        \"learning_rate\": trial.suggest_float(\"learning_rate\", 0.001, 1),\n",
    "        \"item_alpha\": trial.suggest_float(\"item_alpha\", 1e-10, 1e-06, log=True),\n",
    "        \"user_alpha\": trial.suggest_float(\"user_alpha\", 1e-10, 1e-06, log=True), \n",
    "    }\n",
    "    epochs = trial.suggest_int(\"epochs\", 20, 50)\n",
    "\n",
    "    model = LightFM(**param, random_state=seed)\n",
    "\n",
    "    model.fit(tr,epochs=epochs, num_threads=4, item_features=item_features,verbose=True)\n",
    "\n",
    "    print('Evaluating AUC')\n",
    "    val_auc = auc_score(model, val, train_interactions=tr, num_threads=4, item_features=item_features).mean()\n",
    "\n",
    "    return val_auc\n",
    "\n",
    "study = optuna.create_study(direction=\"maximize\")"
   ]
  },
  {
   "cell_type": "code",
   "execution_count": 38,
   "metadata": {},
   "outputs": [
    {
     "name": "stderr",
     "output_type": "stream",
     "text": [
      "Epoch:   0%|          | 0/36 [00:00<?, ?it/s]"
     ]
    },
    {
     "name": "stderr",
     "output_type": "stream",
     "text": [
      "Epoch: 100%|██████████| 36/36 [05:55<00:00,  9.86s/it]\n"
     ]
    },
    {
     "name": "stdout",
     "output_type": "stream",
     "text": [
      "Evaluating AUC\n"
     ]
    },
    {
     "name": "stderr",
     "output_type": "stream",
     "text": [
      "[I 2024-12-15 19:31:52,920] Trial 0 finished with value: 0.5123187303543091 and parameters: {'no_components': 47, 'learning_schedule': 'adagrad', 'loss': 'warp', 'learning_rate': 0.5269557899307902, 'item_alpha': 2.2478318878272398e-07, 'user_alpha': 9.973266264677835e-07, 'epochs': 36}. Best is trial 0 with value: 0.5123187303543091.\n",
      "Epoch: 100%|██████████| 27/27 [04:29<00:00, 10.00s/it]\n"
     ]
    },
    {
     "name": "stdout",
     "output_type": "stream",
     "text": [
      "Evaluating AUC\n"
     ]
    },
    {
     "name": "stderr",
     "output_type": "stream",
     "text": [
      "[I 2024-12-15 19:39:03,009] Trial 1 finished with value: 0.4993444085121155 and parameters: {'no_components': 47, 'learning_schedule': 'adagrad', 'loss': 'warp', 'learning_rate': 0.8416278086589835, 'item_alpha': 1.743956556331243e-07, 'user_alpha': 5.54876351830769e-10, 'epochs': 27}. Best is trial 0 with value: 0.5123187303543091.\n",
      "Epoch: 100%|██████████| 38/38 [03:57<00:00,  6.25s/it]\n"
     ]
    },
    {
     "name": "stdout",
     "output_type": "stream",
     "text": [
      "Evaluating AUC\n"
     ]
    },
    {
     "name": "stderr",
     "output_type": "stream",
     "text": [
      "[I 2024-12-15 19:45:37,217] Trial 2 finished with value: 0.5434648990631104 and parameters: {'no_components': 42, 'learning_schedule': 'adagrad', 'loss': 'warp-kos', 'learning_rate': 0.15064884672411447, 'item_alpha': 2.9651213522308017e-09, 'user_alpha': 3.652724441143773e-10, 'epochs': 38}. Best is trial 2 with value: 0.5434648990631104.\n",
      "Epoch: 100%|██████████| 29/29 [12:36<00:00, 26.08s/it]\n"
     ]
    },
    {
     "name": "stdout",
     "output_type": "stream",
     "text": [
      "Evaluating AUC\n"
     ]
    },
    {
     "name": "stderr",
     "output_type": "stream",
     "text": [
      "[I 2024-12-15 20:00:48,205] Trial 3 finished with value: 0.6597545146942139 and parameters: {'no_components': 53, 'learning_schedule': 'adagrad', 'loss': 'bpr', 'learning_rate': 0.08552487702995491, 'item_alpha': 3.5327455460482625e-08, 'user_alpha': 2.8303901561212053e-07, 'epochs': 29}. Best is trial 3 with value: 0.6597545146942139.\n",
      "Epoch: 100%|██████████| 22/22 [01:01<00:00,  2.81s/it]\n"
     ]
    },
    {
     "name": "stdout",
     "output_type": "stream",
     "text": [
      "Evaluating AUC\n"
     ]
    },
    {
     "name": "stderr",
     "output_type": "stream",
     "text": [
      "[I 2024-12-15 20:04:03,114] Trial 4 finished with value: 0.5018500089645386 and parameters: {'no_components': 12, 'learning_schedule': 'adagrad', 'loss': 'warp', 'learning_rate': 0.8782963728800627, 'item_alpha': 2.030332577990992e-07, 'user_alpha': 9.5082872590387e-10, 'epochs': 22}. Best is trial 3 with value: 0.6597545146942139.\n",
      "Epoch: 100%|██████████| 25/25 [00:52<00:00,  2.12s/it]\n"
     ]
    },
    {
     "name": "stdout",
     "output_type": "stream",
     "text": [
      "Evaluating AUC\n"
     ]
    },
    {
     "name": "stderr",
     "output_type": "stream",
     "text": [
      "[I 2024-12-15 20:07:04,742] Trial 5 finished with value: 0.49926549196243286 and parameters: {'no_components': 9, 'learning_schedule': 'adagrad', 'loss': 'warp', 'learning_rate': 0.7274136061900485, 'item_alpha': 3.3991808330506276e-09, 'user_alpha': 1.4191756379788426e-09, 'epochs': 25}. Best is trial 3 with value: 0.6597545146942139.\n",
      "Epoch: 100%|██████████| 39/39 [06:19<00:00,  9.72s/it]\n"
     ]
    },
    {
     "name": "stdout",
     "output_type": "stream",
     "text": [
      "Evaluating AUC\n"
     ]
    },
    {
     "name": "stderr",
     "output_type": "stream",
     "text": [
      "[I 2024-12-15 20:15:58,396] Trial 6 finished with value: 0.4921845495700836 and parameters: {'no_components': 60, 'learning_schedule': 'adagrad', 'loss': 'warp-kos', 'learning_rate': 0.8967530113832768, 'item_alpha': 1.5238745444759913e-10, 'user_alpha': 4.482543828621837e-10, 'epochs': 39}. Best is trial 3 with value: 0.6597545146942139.\n",
      "Epoch: 100%|██████████| 49/49 [04:25<00:00,  5.41s/it]\n"
     ]
    },
    {
     "name": "stdout",
     "output_type": "stream",
     "text": [
      "Evaluating AUC\n"
     ]
    },
    {
     "name": "stderr",
     "output_type": "stream",
     "text": [
      "[I 2024-12-15 20:22:48,723] Trial 7 finished with value: 0.5002003312110901 and parameters: {'no_components': 26, 'learning_schedule': 'adagrad', 'loss': 'warp', 'learning_rate': 0.5012870724672603, 'item_alpha': 8.55692830088078e-07, 'user_alpha': 3.319921921937027e-09, 'epochs': 49}. Best is trial 3 with value: 0.6597545146942139.\n",
      "Epoch: 100%|██████████| 27/27 [00:36<00:00,  1.33s/it]\n"
     ]
    },
    {
     "name": "stdout",
     "output_type": "stream",
     "text": [
      "Evaluating AUC\n"
     ]
    },
    {
     "name": "stderr",
     "output_type": "stream",
     "text": [
      "[I 2024-12-15 20:25:26,449] Trial 8 finished with value: 0.49589771032333374 and parameters: {'no_components': 5, 'learning_schedule': 'adagrad', 'loss': 'warp', 'learning_rate': 0.4859097588858361, 'item_alpha': 1.3033738644199414e-07, 'user_alpha': 4.832886213412742e-08, 'epochs': 27}. Best is trial 3 with value: 0.6597545146942139.\n",
      "Epoch: 100%|██████████| 38/38 [04:00<00:00,  6.32s/it]\n"
     ]
    },
    {
     "name": "stdout",
     "output_type": "stream",
     "text": [
      "Evaluating AUC\n"
     ]
    },
    {
     "name": "stderr",
     "output_type": "stream",
     "text": [
      "[I 2024-12-15 20:31:59,043] Trial 9 finished with value: 0.5042657852172852 and parameters: {'no_components': 38, 'learning_schedule': 'adagrad', 'loss': 'warp-kos', 'learning_rate': 0.6849763254981361, 'item_alpha': 1.1025979617260175e-07, 'user_alpha': 8.409020219391872e-09, 'epochs': 38}. Best is trial 3 with value: 0.6597545146942139.\n",
      "Epoch: 100%|██████████| 31/31 [15:07<00:00, 29.27s/it]\n"
     ]
    },
    {
     "name": "stdout",
     "output_type": "stream",
     "text": [
      "Evaluating AUC\n"
     ]
    },
    {
     "name": "stderr",
     "output_type": "stream",
     "text": [
      "[I 2024-12-15 20:49:39,230] Trial 10 finished with value: 0.6666444540023804 and parameters: {'no_components': 60, 'learning_schedule': 'adagrad', 'loss': 'bpr', 'learning_rate': 0.06742335839498442, 'item_alpha': 1.8721648349024738e-08, 'user_alpha': 1.4568104575534705e-07, 'epochs': 31}. Best is trial 10 with value: 0.6666444540023804.\n",
      "Epoch: 100%|██████████| 31/31 [16:07<00:00, 31.19s/it]\n"
     ]
    },
    {
     "name": "stdout",
     "output_type": "stream",
     "text": [
      "Evaluating AUC\n"
     ]
    },
    {
     "name": "stderr",
     "output_type": "stream",
     "text": [
      "[I 2024-12-15 21:08:18,909] Trial 11 finished with value: 0.6943098306655884 and parameters: {'no_components': 64, 'learning_schedule': 'adagrad', 'loss': 'bpr', 'learning_rate': 0.013115408203141471, 'item_alpha': 1.5091914856963442e-08, 'user_alpha': 2.4557265208238066e-07, 'epochs': 31}. Best is trial 11 with value: 0.6943098306655884.\n",
      "Epoch: 100%|██████████| 31/31 [15:53<00:00, 30.76s/it]\n"
     ]
    },
    {
     "name": "stdout",
     "output_type": "stream",
     "text": [
      "Evaluating AUC\n"
     ]
    },
    {
     "name": "stderr",
     "output_type": "stream",
     "text": [
      "[I 2024-12-15 21:26:44,670] Trial 12 finished with value: 0.555104672908783 and parameters: {'no_components': 64, 'learning_schedule': 'adagrad', 'loss': 'bpr', 'learning_rate': 0.24999649312817884, 'item_alpha': 1.1925711736657066e-08, 'user_alpha': 3.9660498365400616e-08, 'epochs': 31}. Best is trial 11 with value: 0.6943098306655884.\n",
      "Epoch: 100%|██████████| 33/33 [15:20<00:00, 27.89s/it]\n"
     ]
    },
    {
     "name": "stdout",
     "output_type": "stream",
     "text": [
      "Evaluating AUC\n"
     ]
    },
    {
     "name": "stderr",
     "output_type": "stream",
     "text": [
      "[I 2024-12-15 21:44:37,739] Trial 13 finished with value: 0.689663827419281 and parameters: {'no_components': 57, 'learning_schedule': 'adagrad', 'loss': 'bpr', 'learning_rate': 0.01071135751925617, 'item_alpha': 5.470462006121272e-10, 'user_alpha': 1.3349842918856967e-07, 'epochs': 33}. Best is trial 11 with value: 0.6943098306655884.\n",
      "Epoch: 100%|██████████| 44/44 [10:21<00:00, 14.12s/it]\n"
     ]
    },
    {
     "name": "stdout",
     "output_type": "stream",
     "text": [
      "Evaluating AUC\n"
     ]
    },
    {
     "name": "stderr",
     "output_type": "stream",
     "text": [
      "[I 2024-12-15 21:57:24,928] Trial 14 finished with value: 0.6326454281806946 and parameters: {'no_components': 28, 'learning_schedule': 'adagrad', 'loss': 'bpr', 'learning_rate': 0.29228814753088916, 'item_alpha': 4.544793568515257e-10, 'user_alpha': 9.172520647705161e-07, 'epochs': 44}. Best is trial 11 with value: 0.6943098306655884.\n",
      "Epoch: 100%|██████████| 33/33 [13:56<00:00, 25.35s/it]\n"
     ]
    },
    {
     "name": "stdout",
     "output_type": "stream",
     "text": [
      "Evaluating AUC\n"
     ]
    },
    {
     "name": "stderr",
     "output_type": "stream",
     "text": [
      "[I 2024-12-15 22:13:54,592] Trial 15 finished with value: 0.546320915222168 and parameters: {'no_components': 53, 'learning_schedule': 'adagrad', 'loss': 'bpr', 'learning_rate': 0.27448802074820045, 'item_alpha': 1.3318870951459755e-09, 'user_alpha': 4.429881311554726e-08, 'epochs': 33}. Best is trial 11 with value: 0.6943098306655884.\n",
      "Epoch: 100%|██████████| 20/20 [08:50<00:00, 26.50s/it]\n"
     ]
    },
    {
     "name": "stdout",
     "output_type": "stream",
     "text": [
      "Evaluating AUC\n"
     ]
    },
    {
     "name": "stderr",
     "output_type": "stream",
     "text": [
      "[I 2024-12-15 22:25:20,684] Trial 16 finished with value: 0.683260440826416 and parameters: {'no_components': 54, 'learning_schedule': 'adagrad', 'loss': 'bpr', 'learning_rate': 0.006007913692567842, 'item_alpha': 1.1476004321132497e-10, 'user_alpha': 1.9606073804811565e-07, 'epochs': 20}. Best is trial 11 with value: 0.6943098306655884.\n",
      "Epoch: 100%|██████████| 42/42 [10:25<00:00, 14.89s/it]\n"
     ]
    },
    {
     "name": "stdout",
     "output_type": "stream",
     "text": [
      "Evaluating AUC\n"
     ]
    },
    {
     "name": "stderr",
     "output_type": "stream",
     "text": [
      "[I 2024-12-15 22:38:16,625] Trial 17 finished with value: 0.5958719849586487 and parameters: {'no_components': 30, 'learning_schedule': 'adagrad', 'loss': 'bpr', 'learning_rate': 0.39989218853902353, 'item_alpha': 6.222163021293326e-10, 'user_alpha': 1.1115553718525073e-10, 'epochs': 42}. Best is trial 11 with value: 0.6943098306655884.\n",
      "Epoch: 100%|██████████| 34/34 [17:42<00:00, 31.24s/it]\n"
     ]
    },
    {
     "name": "stdout",
     "output_type": "stream",
     "text": [
      "Evaluating AUC\n"
     ]
    },
    {
     "name": "stderr",
     "output_type": "stream",
     "text": [
      "[I 2024-12-15 22:58:32,547] Trial 18 finished with value: 0.6027612686157227 and parameters: {'no_components': 64, 'learning_schedule': 'adagrad', 'loss': 'bpr', 'learning_rate': 0.13079880929240412, 'item_alpha': 3.735535162660529e-09, 'user_alpha': 1.517410806138472e-08, 'epochs': 34}. Best is trial 11 with value: 0.6943098306655884.\n",
      "Epoch: 100%|██████████| 43/43 [16:10<00:00, 22.58s/it]\n"
     ]
    },
    {
     "name": "stdout",
     "output_type": "stream",
     "text": [
      "Evaluating AUC\n"
     ]
    },
    {
     "name": "stderr",
     "output_type": "stream",
     "text": [
      "[I 2024-12-15 23:17:20,102] Trial 19 finished with value: 0.5929297208786011 and parameters: {'no_components': 46, 'learning_schedule': 'adagrad', 'loss': 'bpr', 'learning_rate': 0.2210249224600619, 'item_alpha': 4.1605001795778055e-08, 'user_alpha': 4.187597368079008e-07, 'epochs': 43}. Best is trial 11 with value: 0.6943098306655884.\n"
     ]
    },
    {
     "name": "stdout",
     "output_type": "stream",
     "text": [
      "no_components: 64\n",
      "learning_schedule: adagrad\n",
      "loss: bpr\n",
      "learning_rate: 0.013115408203141471\n",
      "item_alpha: 1.5091914856963442e-08\n",
      "user_alpha: 2.4557265208238066e-07\n",
      "epochs: 31\n"
     ]
    }
   ],
   "source": [
    "study.optimize(objective, n_trials=20)\n",
    "\n",
    "best_params = study.best_params\n",
    "\n",
    "# Save the best parameters to a file\n",
    "with open('best_params.txt', 'w') as f:\n",
    "    f.write(str(best_params))\n",
    "\n",
    "for k,v in best_params.items():\n",
    "    print(f\"{k}: {v}\")"
   ]
  },
  {
   "cell_type": "code",
   "execution_count": 39,
   "metadata": {},
   "outputs": [
    {
     "data": {
      "text/plain": [
       "{'learning_rate': 0.5170781761781031,\n",
       " 'loss': 0.3590724350853819,\n",
       " 'epochs': 0.060940014112745744,\n",
       " 'user_alpha': 0.05164747507947809,\n",
       " 'no_components': 0.010938851034558966,\n",
       " 'item_alpha': 0.0003230485097321638,\n",
       " 'learning_schedule': 0.0}"
      ]
     },
     "execution_count": 39,
     "metadata": {},
     "output_type": "execute_result"
    }
   ],
   "source": [
    "optuna.importance.get_param_importances(study)"
   ]
  },
  {
   "cell_type": "code",
   "execution_count": 13,
   "metadata": {},
   "outputs": [],
   "source": [
    "from lightfm.evaluation import auc_score\n",
    "\n",
    "def iterative_fit(model, epochs,item_features,sample_weights, train,test):\n",
    "    train_scores = []\n",
    "    test_scores = []\n",
    "\n",
    "    for epoch in range(epochs):\n",
    "        model.fit_partial(train, item_features=item_features, sample_weight=sample_weights, num_threads=4, verbose=True)\n",
    "\n",
    "        train_auc = auc_score(model, train, item_features=item_features, num_threads=4).mean()\n",
    "        test_auc = auc_score(model, test, train_interactions=train, item_features=item_features, num_threads=4).mean()\n",
    "\n",
    "        print(f'Epoch {epoch} Train AUC: {train_auc:.2f}, Test AUC: {test_auc:.2f}')\n",
    "        train_scores.append(train_auc)\n",
    "        test_scores.append(test_auc)\n",
    "        print(f\"Epoch {epoch} completed\")\n",
    "\n",
    "    return model, train_scores, test_scores"
   ]
  },
  {
   "cell_type": "code",
   "execution_count": 14,
   "metadata": {},
   "outputs": [
    {
     "name": "stderr",
     "output_type": "stream",
     "text": [
      "Epoch: 100%|██████████| 1/1 [00:03<00:00,  3.17s/it]\n"
     ]
    },
    {
     "name": "stdout",
     "output_type": "stream",
     "text": [
      "Epoch 0 Train AUC: 0.52, Test AUC: 0.50\n",
      "Epoch 0 completed\n"
     ]
    },
    {
     "name": "stderr",
     "output_type": "stream",
     "text": [
      "Epoch: 100%|██████████| 1/1 [00:03<00:00,  3.25s/it]\n"
     ]
    },
    {
     "name": "stdout",
     "output_type": "stream",
     "text": [
      "Epoch 1 Train AUC: 0.52, Test AUC: 0.50\n",
      "Epoch 1 completed\n"
     ]
    }
   ],
   "source": [
    "from lightfm import LightFM\n",
    "model = LightFM(loss='bpr',no_components=4, random_state=123, learning_rate=0.01, item_alpha=1e-06, user_alpha=1e-06, learning_schedule='adagrad')\n",
    "\n",
    "model, train_scores, test_scores = iterative_fit(model, 2, item_features,trainweighted, train, test)\n"
   ]
  },
  {
   "cell_type": "code",
   "execution_count": 22,
   "metadata": {},
   "outputs": [],
   "source": [
    "# Plot the training and testing scores\n",
    "import matplotlib.pyplot as plt\n",
    "def plot_scores(train_scores, test_scores, image_name):\n",
    "\n",
    "    plt.plot(train_scores, label='Train AUC')\n",
    "    plt.plot(test_scores, label='Test AUC')\n",
    "    plt.xlabel('Epoch')\n",
    "    plt.ylabel('AUC')\n",
    "    plt.legend()\n",
    "\n",
    "    plt.savefig(image_name)\n",
    "    plt.show()"
   ]
  },
  {
   "cell_type": "code",
   "execution_count": 23,
   "metadata": {},
   "outputs": [
    {
     "data": {
      "image/png": "[encoded data removed]",
      "text/plain": [
       "<Figure size 640x480 with 1 Axes>"
      ]
     },
     "metadata": {},
     "output_type": "display_data"
    }
   ],
   "source": [
    "plot_scores(train_scores, test_scores, 'img/train_test_scores-test00.png')"
   ]
  },
  {
   "cell_type": "code",
   "execution_count": 19,
   "metadata": {},
   "outputs": [],
   "source": [
    "import pickle \n",
    "def save_model(model, filename):\n",
    "    # Pickles the model\n",
    "    with open(filename, 'wb') as f:\n",
    "        pickle.dump(model, f, pickle.HIGHEST_PROTOCOL)\n",
    "\n",
    "save_model(model, 'lightfm_model_test.pkl')"
   ]
  },
  {
   "cell_type": "code",
   "execution_count": 32,
   "metadata": {},
   "outputs": [
    {
     "name": "stderr",
     "output_type": "stream",
     "text": [
      "Epoch:   0%|          | 0/30 [00:00<?, ?it/s]"
     ]
    },
    {
     "name": "stderr",
     "output_type": "stream",
     "text": [
      "Epoch: 100%|██████████| 30/30 [1:14:57<00:00, 149.92s/it]\n"
     ]
    },
    {
     "data": {
      "text/plain": [
       "<lightfm.lightfm.LightFM at 0x7f2692311f40>"
      ]
     },
     "execution_count": 32,
     "metadata": {},
     "output_type": "execute_result"
    }
   ],
   "source": [
    "# Tidy up epochs as not a parameter to be passed to LightFM() directly\n",
    "# num_epochs = best_params['epochs'] # save best epochs as a separate object\n",
    "# del best_params['epochs'] # then remove it from best_params object\n",
    "\n",
    "# Train with the best parameters\n",
    "# model = LightFM(**best_params, random_state=123)\n",
    "from lightfm import LightFM\n",
    "\n",
    "\n",
    "model = LightFM(loss='bpr',no_components=64, random_state=123, learning_rate=0.01, item_alpha=1e-06, user_alpha=1e-06, learning_schedule='adagrad')\n",
    "model.fit(train, \n",
    "          item_features=item_features,\n",
    "          epochs = 30,\n",
    "          verbose=True)"
   ]
  },
  {
   "cell_type": "code",
   "execution_count": 34,
   "metadata": {},
   "outputs": [
    {
     "name": "stdout",
     "output_type": "stream",
     "text": [
      "Train AUC: 0.75\n",
      "Test AUC: 0.71\n"
     ]
    }
   ],
   "source": [
    "# Evaluate the trained model\n",
    "train_auc = auc_score(model, train, item_features=item_features).mean()\n",
    "test_auc = auc_score(model, test, item_features=item_features).mean()\n",
    "\n",
    "print(f\"Train AUC: {train_auc:.2f}\")\n",
    "print(f\"Test AUC: {test_auc:.2f}\")"
   ]
  },
  {
   "cell_type": "code",
   "execution_count": 35,
   "metadata": {},
   "outputs": [
    {
     "name": "stderr",
     "output_type": "stream",
     "text": [
      "Epoch: 100%|██████████| 30/30 [02:07<00:00,  4.24s/it]\n"
     ]
    },
    {
     "name": "stdout",
     "output_type": "stream",
     "text": [
      "Train AUC (no features): 0.79\n",
      "Test AUC (no features): 0.75\n"
     ]
    }
   ],
   "source": [
    "# build a model without features\n",
    "model_no_features = LightFM(loss='bpr',no_components=64, random_state=123, learning_rate=0.01, item_alpha=1e-06, user_alpha=1e-06, learning_schedule='adagrad')\n",
    "model_no_features.fit(train, epochs=30, verbose=True)\n",
    "\n",
    "# Evaluate the model without features\n",
    "train_auc_no_features = auc_score(model_no_features, train).mean()\n",
    "test_auc_no_features = auc_score(model_no_features, test).mean()\n",
    "\n",
    "print(f\"Train AUC (no features): {train_auc_no_features:.2f}\")\n",
    "print(f\"Test AUC (no features): {test_auc_no_features:.2f}\")"
   ]
  },
  {
   "cell_type": "code",
   "execution_count": 36,
   "metadata": {},
   "outputs": [
    {
     "name": "stderr",
     "output_type": "stream",
     "text": [
      "Epoch: 100%|██████████| 30/30 [14:20<00:00, 28.70s/it]\n"
     ]
    },
    {
     "name": "stdout",
     "output_type": "stream",
     "text": [
      "Train AUC (weighted): 0.88\n",
      "Test AUC (weighted): 0.86\n"
     ]
    }
   ],
   "source": [
    "# Model with weights\n",
    "model_weighted = LightFM(loss='warp',no_components=64, random_state=123, learning_rate=0.01, item_alpha=1e-06, user_alpha=1e-06, learning_schedule='adagrad')\n",
    "model_weighted.fit(train, epochs=30, item_features=item_features, sample_weight=trainweighted, verbose=True)\n",
    "\n",
    "# Evaluate the model with weights\n",
    "train_auc_weighted = auc_score(model_weighted, train, item_features=item_features).mean()\n",
    "test_auc_weighted = auc_score(model_weighted, test, item_features=item_features).mean()\n",
    "\n",
    "print(f\"Train AUC (weighted): {train_auc_weighted:.2f}\")\n",
    "print(f\"Test AUC (weighted): {test_auc_weighted:.2f}\")\n"
   ]
  },
  {
   "cell_type": "code",
   "execution_count": 38,
   "metadata": {},
   "outputs": [
    {
     "name": "stdout",
     "output_type": "stream",
     "text": [
      "Defaulting to user installation because normal site-packages is not writeable\n",
      "\u001b[31mERROR: Could not find a version that satisfies the requirement pickle (from versions: none)\u001b[0m\u001b[31m\n",
      "\u001b[0m\u001b[31mERROR: No matching distribution found for pickle\u001b[0m\u001b[31m\n",
      "\u001b[0mNote: you may need to restart the kernel to use updated packages.\n"
     ]
    }
   ],
   "source": [
    "%pip install pickle\n",
    "import pickle\n",
    "\n",
    "with open('final_model.pkl', 'wb') as f:\n",
    "    pickle.dump(model_weighted, f, protocol=pickle.HIGHEST_PROTOCOL)"
   ]
  },
  {
   "cell_type": "markdown",
   "metadata": {},
   "source": [
    "Final model using 128 components"
   ]
  },
  {
   "cell_type": "code",
   "execution_count": 24,
   "metadata": {},
   "outputs": [
    {
     "name": "stderr",
     "output_type": "stream",
     "text": [
      "Epoch: 100%|██████████| 1/1 [01:14<00:00, 74.40s/it]\n"
     ]
    },
    {
     "name": "stdout",
     "output_type": "stream",
     "text": [
      "Epoch 0 Train AUC: 0.52, Test AUC: 0.50\n",
      "Epoch 0 completed\n"
     ]
    },
    {
     "name": "stderr",
     "output_type": "stream",
     "text": [
      "Epoch: 100%|██████████| 1/1 [01:13<00:00, 73.62s/it]\n"
     ]
    },
    {
     "name": "stdout",
     "output_type": "stream",
     "text": [
      "Epoch 1 Train AUC: 0.53, Test AUC: 0.50\n",
      "Epoch 1 completed\n"
     ]
    },
    {
     "name": "stderr",
     "output_type": "stream",
     "text": [
      "Epoch: 100%|██████████| 1/1 [01:14<00:00, 74.25s/it]\n"
     ]
    },
    {
     "name": "stdout",
     "output_type": "stream",
     "text": [
      "Epoch 2 Train AUC: 0.53, Test AUC: 0.50\n",
      "Epoch 2 completed\n"
     ]
    },
    {
     "name": "stderr",
     "output_type": "stream",
     "text": [
      "Epoch: 100%|██████████| 1/1 [01:13<00:00, 73.46s/it]\n"
     ]
    },
    {
     "name": "stdout",
     "output_type": "stream",
     "text": [
      "Epoch 3 Train AUC: 0.53, Test AUC: 0.50\n",
      "Epoch 3 completed\n"
     ]
    },
    {
     "name": "stderr",
     "output_type": "stream",
     "text": [
      "Epoch: 100%|██████████| 1/1 [01:13<00:00, 73.30s/it]\n"
     ]
    },
    {
     "name": "stdout",
     "output_type": "stream",
     "text": [
      "Epoch 4 Train AUC: 0.53, Test AUC: 0.50\n",
      "Epoch 4 completed\n"
     ]
    },
    {
     "name": "stderr",
     "output_type": "stream",
     "text": [
      "Epoch: 100%|██████████| 1/1 [01:14<00:00, 74.22s/it]\n"
     ]
    },
    {
     "name": "stdout",
     "output_type": "stream",
     "text": [
      "Epoch 5 Train AUC: 0.53, Test AUC: 0.50\n",
      "Epoch 5 completed\n"
     ]
    },
    {
     "name": "stderr",
     "output_type": "stream",
     "text": [
      "Epoch: 100%|██████████| 1/1 [01:13<00:00, 73.70s/it]\n"
     ]
    },
    {
     "name": "stdout",
     "output_type": "stream",
     "text": [
      "Epoch 6 Train AUC: 0.53, Test AUC: 0.50\n",
      "Epoch 6 completed\n"
     ]
    },
    {
     "name": "stderr",
     "output_type": "stream",
     "text": [
      "Epoch: 100%|██████████| 1/1 [01:13<00:00, 73.09s/it]\n"
     ]
    },
    {
     "name": "stdout",
     "output_type": "stream",
     "text": [
      "Epoch 7 Train AUC: 0.53, Test AUC: 0.50\n",
      "Epoch 7 completed\n"
     ]
    },
    {
     "name": "stderr",
     "output_type": "stream",
     "text": [
      "Epoch: 100%|██████████| 1/1 [01:13<00:00, 73.42s/it]\n"
     ]
    },
    {
     "name": "stdout",
     "output_type": "stream",
     "text": [
      "Epoch 8 Train AUC: 0.53, Test AUC: 0.50\n",
      "Epoch 8 completed\n"
     ]
    },
    {
     "name": "stderr",
     "output_type": "stream",
     "text": [
      "Epoch: 100%|██████████| 1/1 [01:12<00:00, 72.91s/it]\n"
     ]
    },
    {
     "name": "stdout",
     "output_type": "stream",
     "text": [
      "Epoch 9 Train AUC: 0.53, Test AUC: 0.50\n",
      "Epoch 9 completed\n"
     ]
    },
    {
     "name": "stderr",
     "output_type": "stream",
     "text": [
      "Epoch: 100%|██████████| 1/1 [01:13<00:00, 73.37s/it]\n"
     ]
    },
    {
     "name": "stdout",
     "output_type": "stream",
     "text": [
      "Epoch 10 Train AUC: 0.53, Test AUC: 0.50\n",
      "Epoch 10 completed\n"
     ]
    },
    {
     "name": "stderr",
     "output_type": "stream",
     "text": [
      "Epoch: 100%|██████████| 1/1 [01:13<00:00, 73.41s/it]\n"
     ]
    },
    {
     "name": "stdout",
     "output_type": "stream",
     "text": [
      "Epoch 11 Train AUC: 0.53, Test AUC: 0.50\n",
      "Epoch 11 completed\n"
     ]
    },
    {
     "name": "stderr",
     "output_type": "stream",
     "text": [
      "Epoch: 100%|██████████| 1/1 [01:12<00:00, 72.93s/it]\n"
     ]
    },
    {
     "name": "stdout",
     "output_type": "stream",
     "text": [
      "Epoch 12 Train AUC: 0.53, Test AUC: 0.50\n",
      "Epoch 12 completed\n"
     ]
    },
    {
     "name": "stderr",
     "output_type": "stream",
     "text": [
      "Epoch: 100%|██████████| 1/1 [01:13<00:00, 73.25s/it]\n"
     ]
    },
    {
     "name": "stdout",
     "output_type": "stream",
     "text": [
      "Epoch 13 Train AUC: 0.53, Test AUC: 0.50\n",
      "Epoch 13 completed\n"
     ]
    },
    {
     "name": "stderr",
     "output_type": "stream",
     "text": [
      "Epoch: 100%|██████████| 1/1 [01:12<00:00, 72.88s/it]\n"
     ]
    },
    {
     "name": "stdout",
     "output_type": "stream",
     "text": [
      "Epoch 14 Train AUC: 0.53, Test AUC: 0.50\n",
      "Epoch 14 completed\n"
     ]
    },
    {
     "name": "stderr",
     "output_type": "stream",
     "text": [
      "Epoch: 100%|██████████| 1/1 [01:14<00:00, 74.09s/it]\n"
     ]
    },
    {
     "name": "stdout",
     "output_type": "stream",
     "text": [
      "Epoch 15 Train AUC: 0.53, Test AUC: 0.50\n",
      "Epoch 15 completed\n"
     ]
    },
    {
     "name": "stderr",
     "output_type": "stream",
     "text": [
      "Epoch: 100%|██████████| 1/1 [01:13<00:00, 73.03s/it]\n"
     ]
    },
    {
     "name": "stdout",
     "output_type": "stream",
     "text": [
      "Epoch 16 Train AUC: 0.53, Test AUC: 0.50\n",
      "Epoch 16 completed\n"
     ]
    },
    {
     "name": "stderr",
     "output_type": "stream",
     "text": [
      "Epoch: 100%|██████████| 1/1 [01:12<00:00, 72.74s/it]\n"
     ]
    },
    {
     "name": "stdout",
     "output_type": "stream",
     "text": [
      "Epoch 17 Train AUC: 0.53, Test AUC: 0.50\n",
      "Epoch 17 completed\n"
     ]
    },
    {
     "name": "stderr",
     "output_type": "stream",
     "text": [
      "Epoch: 100%|██████████| 1/1 [01:13<00:00, 73.77s/it]\n"
     ]
    },
    {
     "name": "stdout",
     "output_type": "stream",
     "text": [
      "Epoch 18 Train AUC: 0.53, Test AUC: 0.50\n",
      "Epoch 18 completed\n"
     ]
    },
    {
     "name": "stderr",
     "output_type": "stream",
     "text": [
      "Epoch: 100%|██████████| 1/1 [01:13<00:00, 73.56s/it]\n"
     ]
    },
    {
     "name": "stdout",
     "output_type": "stream",
     "text": [
      "Epoch 19 Train AUC: 0.53, Test AUC: 0.50\n",
      "Epoch 19 completed\n"
     ]
    },
    {
     "name": "stderr",
     "output_type": "stream",
     "text": [
      "Epoch: 100%|██████████| 1/1 [01:13<00:00, 73.19s/it]\n"
     ]
    },
    {
     "name": "stdout",
     "output_type": "stream",
     "text": [
      "Epoch 20 Train AUC: 0.53, Test AUC: 0.50\n",
      "Epoch 20 completed\n"
     ]
    },
    {
     "name": "stderr",
     "output_type": "stream",
     "text": [
      "Epoch: 100%|██████████| 1/1 [01:13<00:00, 73.41s/it]\n"
     ]
    },
    {
     "name": "stdout",
     "output_type": "stream",
     "text": [
      "Epoch 21 Train AUC: 0.53, Test AUC: 0.50\n",
      "Epoch 21 completed\n"
     ]
    },
    {
     "name": "stderr",
     "output_type": "stream",
     "text": [
      "Epoch: 100%|██████████| 1/1 [01:13<00:00, 73.14s/it]\n"
     ]
    },
    {
     "name": "stdout",
     "output_type": "stream",
     "text": [
      "Epoch 22 Train AUC: 0.53, Test AUC: 0.50\n",
      "Epoch 22 completed\n"
     ]
    },
    {
     "name": "stderr",
     "output_type": "stream",
     "text": [
      "Epoch: 100%|██████████| 1/1 [01:13<00:00, 73.22s/it]\n"
     ]
    },
    {
     "name": "stdout",
     "output_type": "stream",
     "text": [
      "Epoch 23 Train AUC: 0.53, Test AUC: 0.50\n",
      "Epoch 23 completed\n"
     ]
    },
    {
     "name": "stderr",
     "output_type": "stream",
     "text": [
      "Epoch: 100%|██████████| 1/1 [01:13<00:00, 73.76s/it]\n"
     ]
    },
    {
     "name": "stdout",
     "output_type": "stream",
     "text": [
      "Epoch 24 Train AUC: 0.53, Test AUC: 0.50\n",
      "Epoch 24 completed\n"
     ]
    },
    {
     "name": "stderr",
     "output_type": "stream",
     "text": [
      "Epoch: 100%|██████████| 1/1 [01:13<00:00, 73.43s/it]\n"
     ]
    },
    {
     "name": "stdout",
     "output_type": "stream",
     "text": [
      "Epoch 25 Train AUC: 0.53, Test AUC: 0.50\n",
      "Epoch 25 completed\n"
     ]
    },
    {
     "name": "stderr",
     "output_type": "stream",
     "text": [
      "Epoch: 100%|██████████| 1/1 [01:13<00:00, 73.11s/it]\n"
     ]
    },
    {
     "name": "stdout",
     "output_type": "stream",
     "text": [
      "Epoch 26 Train AUC: 0.53, Test AUC: 0.50\n",
      "Epoch 26 completed\n"
     ]
    },
    {
     "name": "stderr",
     "output_type": "stream",
     "text": [
      "Epoch: 100%|██████████| 1/1 [01:13<00:00, 73.23s/it]\n"
     ]
    },
    {
     "name": "stdout",
     "output_type": "stream",
     "text": [
      "Epoch 27 Train AUC: 0.53, Test AUC: 0.50\n",
      "Epoch 27 completed\n"
     ]
    },
    {
     "name": "stderr",
     "output_type": "stream",
     "text": [
      "Epoch: 100%|██████████| 1/1 [01:13<00:00, 73.13s/it]\n"
     ]
    },
    {
     "name": "stdout",
     "output_type": "stream",
     "text": [
      "Epoch 28 Train AUC: 0.53, Test AUC: 0.50\n",
      "Epoch 28 completed\n"
     ]
    },
    {
     "name": "stderr",
     "output_type": "stream",
     "text": [
      "Epoch: 100%|██████████| 1/1 [01:13<00:00, 73.04s/it]\n"
     ]
    },
    {
     "name": "stdout",
     "output_type": "stream",
     "text": [
      "Epoch 29 Train AUC: 0.53, Test AUC: 0.50\n",
      "Epoch 29 completed\n"
     ]
    },
    {
     "name": "stderr",
     "output_type": "stream",
     "text": [
      "Epoch: 100%|██████████| 1/1 [01:13<00:00, 73.25s/it]\n"
     ]
    },
    {
     "name": "stdout",
     "output_type": "stream",
     "text": [
      "Epoch 30 Train AUC: 0.53, Test AUC: 0.50\n",
      "Epoch 30 completed\n"
     ]
    }
   ],
   "source": [
    "model = LightFM(loss='warp',no_components=64, random_state=123, learning_rate=0.01, item_alpha=1e-06, user_alpha=1e-06, learning_schedule='adagrad')\n",
    "model.fit(train, epochs=30, item_features=item_features, sample_weight=trainweighted, verbose=True)"
   ]
  },
  {
   "cell_type": "code",
   "execution_count": 25,
   "metadata": {},
   "outputs": [
    {
     "data": {
      "image/png": "[encoded data removed]",
      "text/plain": [
       "<Figure size 640x480 with 1 Axes>"
      ]
     },
     "metadata": {},
     "output_type": "display_data"
    }
   ],
   "source": [
    "train_auc = auc_score(model, train, item_features=item_features).mean()\n",
    "test_auc = auc_score(model, test, item_features=item_features).mean()"
   ]
  },
  {
   "cell_type": "code",
   "execution_count": 26,
   "metadata": {},
   "outputs": [],
   "source": [
    "save_model(model, 'lightfm_model_128components_31epochs.pkl')"
   ]
  },
  {
   "cell_type": "markdown",
   "metadata": {},
   "source": [
    "Testing the best model"
   ]
  },
  {
   "cell_type": "code",
   "execution_count": 23,
   "metadata": {},
   "outputs": [],
   "source": [
    "# Load the model from pickle\n",
    "import pickle\n",
    "with open('final_model.pkl', 'rb') as f:\n",
    "    model_loaded = pickle.load(f)"
   ]
  },
  {
   "cell_type": "code",
   "execution_count": 5,
   "metadata": {},
   "outputs": [
    {
     "data": {
      "text/html": [
       "<div>\n",
       "<style scoped>\n",
       "    .dataframe tbody tr th:only-of-type {\n",
       "        vertical-align: middle;\n",
       "    }\n",
       "\n",
       "    .dataframe tbody tr th {\n",
       "        vertical-align: top;\n",
       "    }\n",
       "\n",
       "    .dataframe thead th {\n",
       "        text-align: right;\n",
       "    }\n",
       "</style>\n",
       "<table border=\"1\" class=\"dataframe\">\n",
       "  <thead>\n",
       "    <tr style=\"text-align: right;\">\n",
       "      <th></th>\n",
       "      <th>userID</th>\n",
       "      <th>artistID</th>\n",
       "      <th>tagID</th>\n",
       "      <th>day</th>\n",
       "      <th>month</th>\n",
       "      <th>year</th>\n",
       "      <th>tagValue</th>\n",
       "    </tr>\n",
       "  </thead>\n",
       "  <tbody>\n",
       "    <tr>\n",
       "      <th>0</th>\n",
       "      <td>0</td>\n",
       "      <td>46</td>\n",
       "      <td>12</td>\n",
       "      <td>1</td>\n",
       "      <td>4</td>\n",
       "      <td>2009</td>\n",
       "      <td>chillout</td>\n",
       "    </tr>\n",
       "    <tr>\n",
       "      <th>1</th>\n",
       "      <td>0</td>\n",
       "      <td>46</td>\n",
       "      <td>14</td>\n",
       "      <td>1</td>\n",
       "      <td>4</td>\n",
       "      <td>2009</td>\n",
       "      <td>downtempo</td>\n",
       "    </tr>\n",
       "    <tr>\n",
       "      <th>2</th>\n",
       "      <td>0</td>\n",
       "      <td>46</td>\n",
       "      <td>17</td>\n",
       "      <td>1</td>\n",
       "      <td>4</td>\n",
       "      <td>2009</td>\n",
       "      <td>electronic</td>\n",
       "    </tr>\n",
       "    <tr>\n",
       "      <th>3</th>\n",
       "      <td>0</td>\n",
       "      <td>46</td>\n",
       "      <td>20</td>\n",
       "      <td>1</td>\n",
       "      <td>4</td>\n",
       "      <td>2009</td>\n",
       "      <td>trip-hop</td>\n",
       "    </tr>\n",
       "    <tr>\n",
       "      <th>4</th>\n",
       "      <td>0</td>\n",
       "      <td>46</td>\n",
       "      <td>40</td>\n",
       "      <td>1</td>\n",
       "      <td>4</td>\n",
       "      <td>2009</td>\n",
       "      <td>female vovalists</td>\n",
       "    </tr>\n",
       "  </tbody>\n",
       "</table>\n",
       "</div>"
      ],
      "text/plain": [
       "   userID  artistID  tagID  day  month  year          tagValue\n",
       "0       0        46     12    1      4  2009          chillout\n",
       "1       0        46     14    1      4  2009         downtempo\n",
       "2       0        46     17    1      4  2009        electronic\n",
       "3       0        46     20    1      4  2009          trip-hop\n",
       "4       0        46     40    1      4  2009  female vovalists"
      ]
     },
     "execution_count": 5,
     "metadata": {},
     "output_type": "execute_result"
    }
   ],
   "source": [
    "# Load the user_tags dataframe and merge it with the tags dataframe\n",
    "user_tags_with_values = user_tags.merge(tags, how='left', left_on='tagID', right_on='tagID')\n",
    "user_tags_with_values.head()"
   ]
  },
  {
   "cell_type": "code",
   "execution_count": 111,
   "metadata": {},
   "outputs": [
    {
     "data": {
      "text/html": [
       "<div>\n",
       "<style scoped>\n",
       "    .dataframe tbody tr th:only-of-type {\n",
       "        vertical-align: middle;\n",
       "    }\n",
       "\n",
       "    .dataframe tbody tr th {\n",
       "        vertical-align: top;\n",
       "    }\n",
       "\n",
       "    .dataframe thead th {\n",
       "        text-align: right;\n",
       "    }\n",
       "</style>\n",
       "<table border=\"1\" class=\"dataframe\">\n",
       "  <thead>\n",
       "    <tr style=\"text-align: right;\">\n",
       "      <th></th>\n",
       "      <th>count</th>\n",
       "    </tr>\n",
       "    <tr>\n",
       "      <th>tagValue</th>\n",
       "      <th></th>\n",
       "    </tr>\n",
       "  </thead>\n",
       "  <tbody>\n",
       "    <tr>\n",
       "      <th>noize</th>\n",
       "      <td>2</td>\n",
       "    </tr>\n",
       "    <tr>\n",
       "      <th>crust</th>\n",
       "      <td>1</td>\n",
       "    </tr>\n",
       "    <tr>\n",
       "      <th>downtempo</th>\n",
       "      <td>1</td>\n",
       "    </tr>\n",
       "    <tr>\n",
       "      <th>drone</th>\n",
       "      <td>1</td>\n",
       "    </tr>\n",
       "    <tr>\n",
       "      <th>idm</th>\n",
       "      <td>1</td>\n",
       "    </tr>\n",
       "    <tr>\n",
       "      <th>idmbient</th>\n",
       "      <td>1</td>\n",
       "    </tr>\n",
       "    <tr>\n",
       "      <th>screamo</th>\n",
       "      <td>1</td>\n",
       "    </tr>\n",
       "    <tr>\n",
       "      <th>witch house</th>\n",
       "      <td>1</td>\n",
       "    </tr>\n",
       "  </tbody>\n",
       "</table>\n",
       "</div>"
      ],
      "text/plain": [
       "             count\n",
       "tagValue          \n",
       "noize            2\n",
       "crust            1\n",
       "downtempo        1\n",
       "drone            1\n",
       "idm              1\n",
       "idmbient         1\n",
       "screamo          1\n",
       "witch house      1"
      ]
     },
     "execution_count": 111,
     "metadata": {},
     "output_type": "execute_result"
    }
   ],
   "source": [
    "# A function to get the tags for a user, showing only the tagValue and number of times it appears\n",
    "user_to_recommend = 17\n",
    "def get_user_tags(user_id):\n",
    "    user_tags_values = user_tags_with_values[user_tags_with_values['userID'] == user_id]\n",
    "    return user_tags_values[['tagValue', 'userID']].groupby('tagValue').count().sort_values(by='userID', ascending=False).rename(columns={'userID': 'count'})\n",
    "\n",
    "get_user_tags(user_to_recommend)[:10]"
   ]
  },
  {
   "cell_type": "code",
   "execution_count": 112,
   "metadata": {},
   "outputs": [
    {
     "data": {
      "text/html": [
       "<div>\n",
       "<style scoped>\n",
       "    .dataframe tbody tr th:only-of-type {\n",
       "        vertical-align: middle;\n",
       "    }\n",
       "\n",
       "    .dataframe tbody tr th {\n",
       "        vertical-align: top;\n",
       "    }\n",
       "\n",
       "    .dataframe thead th {\n",
       "        text-align: right;\n",
       "    }\n",
       "</style>\n",
       "<table border=\"1\" class=\"dataframe\">\n",
       "  <thead>\n",
       "    <tr style=\"text-align: right;\">\n",
       "      <th></th>\n",
       "      <th>weight</th>\n",
       "    </tr>\n",
       "    <tr>\n",
       "      <th>name</th>\n",
       "      <th></th>\n",
       "    </tr>\n",
       "  </thead>\n",
       "  <tbody>\n",
       "    <tr>\n",
       "      <th>Aidan Baker</th>\n",
       "      <td>987</td>\n",
       "    </tr>\n",
       "    <tr>\n",
       "      <th>Nadja</th>\n",
       "      <td>483</td>\n",
       "    </tr>\n",
       "    <tr>\n",
       "      <th>Autechre</th>\n",
       "      <td>375</td>\n",
       "    </tr>\n",
       "    <tr>\n",
       "      <th>Aidan Baker &amp; thisquietarmy</th>\n",
       "      <td>304</td>\n",
       "    </tr>\n",
       "    <tr>\n",
       "      <th>Deftones</th>\n",
       "      <td>290</td>\n",
       "    </tr>\n",
       "    <tr>\n",
       "      <th>Salem</th>\n",
       "      <td>285</td>\n",
       "    </tr>\n",
       "    <tr>\n",
       "      <th>Carbon Based Lifeforms</th>\n",
       "      <td>274</td>\n",
       "    </tr>\n",
       "    <tr>\n",
       "      <th>Boards of Canada</th>\n",
       "      <td>268</td>\n",
       "    </tr>\n",
       "    <tr>\n",
       "      <th>Casino Versus Japan</th>\n",
       "      <td>261</td>\n",
       "    </tr>\n",
       "    <tr>\n",
       "      <th>Bill Withers</th>\n",
       "      <td>245</td>\n",
       "    </tr>\n",
       "  </tbody>\n",
       "</table>\n",
       "</div>"
      ],
      "text/plain": [
       "                             weight\n",
       "name                               \n",
       "Aidan Baker                     987\n",
       "Nadja                           483\n",
       "Autechre                        375\n",
       "Aidan Baker & thisquietarmy     304\n",
       "Deftones                        290\n",
       "Salem                           285\n",
       "Carbon Based Lifeforms          274\n",
       "Boards of Canada                268\n",
       "Casino Versus Japan             261\n",
       "Bill Withers                    245"
      ]
     },
     "execution_count": 112,
     "metadata": {},
     "output_type": "execute_result"
    }
   ],
   "source": [
    "# Show the top 10 artists for the given user, with number of times they were listened to (merging with artist dataframe)\n",
    "def get_user_artists(user_id):\n",
    "    user_artists_values = user_artists[user_artists['userID'] == user_id]\n",
    "    user_artists_values = user_artists_values.merge(artists, how='left', left_on='artistID', right_on='id')\n",
    "    return user_artists_values[['name', 'weight']].groupby('name').sum().sort_values(by='weight', ascending=False)\n",
    "\n",
    "get_user_artists(user_to_recommend)[:10]"
   ]
  },
  {
   "cell_type": "code",
   "execution_count": 114,
   "metadata": {},
   "outputs": [
    {
     "data": {
      "text/plain": [
       "['Depeche Mode',\n",
       " 'Sigur Rós',\n",
       " 'Nine Inch Nails',\n",
       " 'Radiohead',\n",
       " 'The Cure',\n",
       " 'Metallica',\n",
       " 'The Beatles',\n",
       " 'Muse',\n",
       " 'Led Zeppelin',\n",
       " 'System of a Down']"
      ]
     },
     "execution_count": 114,
     "metadata": {},
     "output_type": "execute_result"
    }
   ],
   "source": [
    "# Make recommendations for the user\n",
    "def recommend_artists(user_id, model, artist_embeddings, n=10):\n",
    "    # Get the user's interactions\n",
    "    user_interactions = user_artist_matrix.getrow(user_id)\n",
    "    # Predict scores\n",
    "    scores = model.predict(user_id, np.arange(num_artists), item_features=artist_embeddings)\n",
    "    # Get top artist IDs\n",
    "    top_artist_ids = np.argsort(-scores)\n",
    "    # Filter out artists the user has already interacted with\n",
    "    top_artist_ids = [artist_id for artist_id in top_artist_ids if user_interactions[0, artist_id] == 0]\n",
    "    # Get the artist names\n",
    "    top_artists = [get_artist_name(artist_id) for artist_id in top_artist_ids]\n",
    "    return top_artists[:n]\n",
    "\n",
    "recommend_artists(user_to_recommend, model_loaded, item_features)"
   ]
  },
  {
   "cell_type": "code",
   "execution_count": null,
   "metadata": {},
   "outputs": [],
   "source": []
  }
 ],
 "metadata": {
  "kernelspec": {
   "display_name": "Python 3",
   "language": "python",
   "name": "python3"
  },
  "language_info": {
   "codemirror_mode": {
    "name": "ipython",
    "version": 3
   },
   "file_extension": ".py",
   "mimetype": "text/x-python",
   "name": "python",
   "nbconvert_exporter": "python",
   "pygments_lexer": "ipython3",
   "version": "3.12.7"
  }
 },
 "nbformat": 4,
 "nbformat_minor": 2
}
