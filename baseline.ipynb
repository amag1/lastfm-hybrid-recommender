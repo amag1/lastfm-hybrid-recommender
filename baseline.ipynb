{
 "cells": [
  {
   "cell_type": "code",
   "execution_count": 1,
   "metadata": {},
   "outputs": [
    {
     "name": "stdout",
     "output_type": "stream",
     "text": [
      "Original length: 92834\n"
     ]
    },
    {
     "data": {
      "text/html": [
       "<div>\n",
       "<style scoped>\n",
       "    .dataframe tbody tr th:only-of-type {\n",
       "        vertical-align: middle;\n",
       "    }\n",
       "\n",
       "    .dataframe tbody tr th {\n",
       "        vertical-align: top;\n",
       "    }\n",
       "\n",
       "    .dataframe thead th {\n",
       "        text-align: right;\n",
       "    }\n",
       "</style>\n",
       "<table border=\"1\" class=\"dataframe\">\n",
       "  <thead>\n",
       "    <tr style=\"text-align: right;\">\n",
       "      <th></th>\n",
       "      <th>userID</th>\n",
       "      <th>artistID</th>\n",
       "      <th>tagID</th>\n",
       "      <th>day</th>\n",
       "      <th>month</th>\n",
       "      <th>year</th>\n",
       "    </tr>\n",
       "  </thead>\n",
       "  <tbody>\n",
       "    <tr>\n",
       "      <th>0</th>\n",
       "      <td>2</td>\n",
       "      <td>52</td>\n",
       "      <td>13</td>\n",
       "      <td>1</td>\n",
       "      <td>4</td>\n",
       "      <td>2009</td>\n",
       "    </tr>\n",
       "    <tr>\n",
       "      <th>1</th>\n",
       "      <td>2</td>\n",
       "      <td>52</td>\n",
       "      <td>15</td>\n",
       "      <td>1</td>\n",
       "      <td>4</td>\n",
       "      <td>2009</td>\n",
       "    </tr>\n",
       "    <tr>\n",
       "      <th>2</th>\n",
       "      <td>2</td>\n",
       "      <td>52</td>\n",
       "      <td>18</td>\n",
       "      <td>1</td>\n",
       "      <td>4</td>\n",
       "      <td>2009</td>\n",
       "    </tr>\n",
       "    <tr>\n",
       "      <th>3</th>\n",
       "      <td>2</td>\n",
       "      <td>52</td>\n",
       "      <td>21</td>\n",
       "      <td>1</td>\n",
       "      <td>4</td>\n",
       "      <td>2009</td>\n",
       "    </tr>\n",
       "    <tr>\n",
       "      <th>4</th>\n",
       "      <td>2</td>\n",
       "      <td>52</td>\n",
       "      <td>41</td>\n",
       "      <td>1</td>\n",
       "      <td>4</td>\n",
       "      <td>2009</td>\n",
       "    </tr>\n",
       "  </tbody>\n",
       "</table>\n",
       "</div>"
      ],
      "text/plain": [
       "   userID  artistID  tagID  day  month  year\n",
       "0       2        52     13    1      4  2009\n",
       "1       2        52     15    1      4  2009\n",
       "2       2        52     18    1      4  2009\n",
       "3       2        52     21    1      4  2009\n",
       "4       2        52     41    1      4  2009"
      ]
     },
     "execution_count": 1,
     "metadata": {},
     "output_type": "execute_result"
    }
   ],
   "source": [
    "import pandas as pd\n",
    "\n",
    "artists = pd.read_csv('dataset/artists.dat', sep='\\t')\n",
    "tags = pd.read_csv('dataset/tags.dat', sep='\\t', encoding='ISO-8859-1')\n",
    "user_artists = pd.read_csv('dataset/user_artists.dat', sep='\\t')\n",
    "user_tags = pd.read_csv('dataset/user_taggedartists.dat', sep='\\t')\n",
    "\n",
    "print(f\"Original length: {len(user_artists)}\")\n",
    "user_tags.head()"
   ]
  },
  {
   "cell_type": "code",
   "execution_count": 3,
   "metadata": {},
   "outputs": [],
   "source": [
    "class Baseline():\n",
    "    \"\"\"\n",
    "    A model that always recommends the most popular artists.\n",
    "    \"\"\"\n",
    "    def __init__(self, top):\n",
    "        self.top = top\n",
    "\n",
    "    def fit(self, user_artists):\n",
    "        self.popular_artists = user_artists.groupby('artistID').sum().sort_values('weight', ascending=False).index[:self.top]\n",
    "\n",
    "    def recommend(self, user_id):\n",
    "        return self.popular_artists[:self.top]"
   ]
  },
  {
   "cell_type": "markdown",
   "metadata": {},
   "source": [
    "We should also build functions to evaluate the performance of the model. We will use Precision@k, Recall@k and Coverage as the evaluation metrics."
   ]
  },
  {
   "cell_type": "code",
   "execution_count": 4,
   "metadata": {},
   "outputs": [
    {
     "data": {
      "text/plain": [
       "Index([289, 72, 89, 292, 498, 67, 288, 701, 227, 300], dtype='int64', name='artistID')"
      ]
     },
     "execution_count": 4,
     "metadata": {},
     "output_type": "execute_result"
    }
   ],
   "source": [
    "base = Baseline(10)\n",
    "base.fit(user_artists)\n",
    "base.recommend(2)"
   ]
  },
  {
   "cell_type": "code",
   "execution_count": 5,
   "metadata": {},
   "outputs": [],
   "source": [
    "from sklearn.metrics import roc_auc_score\n",
    "\n",
    "def is_relevant(recommended, user_id, user_artists):\n",
    "    \"\"\"\n",
    "    Returns a boolean array indicating whether each recommended artist is relevant to the user.\n",
    "    An artist is relevant if the user has listened to it at least k times.\n",
    "    \"\"\"\n",
    "\n",
    "    user_artists = user_artists[user_artists.userID == user_id]\n",
    "    \n",
    "    relevant = []\n",
    "    for artist_id in recommended:\n",
    "        relevant.append(artist_id in user_artists.artistID.values)\n",
    "    return relevant\n",
    "\n",
    "def precision(recommended, user_id, user_artists):\n",
    "    \"\"\"\n",
    "    Returns the precision of the recommendations.\n",
    "    Precision is the proportion of recommended artists that are relevant.\n",
    "    \"\"\"\n",
    "\n",
    "    relevant = is_relevant(recommended, user_id, user_artists)\n",
    "    return sum(relevant) / len(recommended)\n",
    "\n",
    "def recall(recommended, user_id, user_artists):\n",
    "    \"\"\"\n",
    "    Returns the recall of the recommendations.\n",
    "    Recall is the proportion of relevant artists that are recommended.\n",
    "    \"\"\"\n",
    "\n",
    "    relevant = is_relevant(recommended, user_id, user_artists)\n",
    "    return sum(relevant) / len(user_artists[user_artists.userID == user_id])\n",
    "\n",
    "def f1_score(recommended, user_id, user_artists):\n",
    "    \"\"\"\n",
    "    Returns the F1 score of the recommendations.\n",
    "    The F1 score is the harmonic mean of precision and recall.\n",
    "    \"\"\"\n",
    "\n",
    "    prec = precision(recommended, user_id, user_artists)\n",
    "    rec = recall(recommended, user_id, user_artists)\n",
    "\n",
    "    if prec + rec == 0:\n",
    "        return 0\n",
    "    \n",
    "    return 2 * prec * rec / (prec + rec)\n",
    "\n",
    "def coverage(recommended, user_artists):\n",
    "    \"\"\"\n",
    "    Returns the coverage of the recommendations.\n",
    "    Coverage is the proportion of artists that are recommended.\n",
    "    \"\"\"\n",
    "\n",
    "    return len(recommended) / len(user_artists.artistID.unique())\n",
    "\n",
    "def auc(recommended, user_id, user_artists):\n",
    "    \"\"\"\n",
    "    Returns the AUC (Area Under the Curve) of the recommendations for a specific user.\n",
    "    AUC measures the ranking quality of recommendations.\n",
    "    \"\"\"\n",
    "    # Get all artists the user has interacted with\n",
    "    user_artists = user_artists[user_artists.userID == user_id]\n",
    "    relevant_artists = set(user_artists.artistID.values)\n",
    "\n",
    "    # Create binary labels: 1 if relevant, 0 if not\n",
    "    y_true = [1 if artist_id in relevant_artists else 0 for artist_id in recommended]\n",
    "    y_scores = list(range(len(recommended), 0, -1))  # Higher rank means higher score\n",
    "\n",
    "    # If there are no relevant artists, return NaN to ignore in the average\n",
    "    if sum(y_true) == 0:\n",
    "        return float('nan')\n",
    "\n",
    "    return roc_auc_score(y_true, y_scores)\n",
    "\n",
    "def evaluate(model, user_artists, user_ids):\n",
    "    \"\"\"\n",
    "    Evaluates a model on a set of users.\n",
    "    Returns a dictionary containing the average precision, recall, F1 score, coverage, and AUC.\n",
    "    \"\"\"\n",
    "\n",
    "    model.fit(user_artists)\n",
    "\n",
    "    precisions = []\n",
    "    recalls = []\n",
    "    f1_scores = []\n",
    "    aucs = []\n",
    "\n",
    "    recommendations = set()\n",
    "\n",
    "    for user_id in user_ids:\n",
    "        recommended = model.recommend(user_id)\n",
    "        precisions.append(precision(recommended, user_id, user_artists))\n",
    "        recalls.append(recall(recommended, user_id, user_artists))\n",
    "        f1_scores.append(f1_score(recommended, user_id, user_artists))\n",
    "        aucs.append(auc(recommended, user_id, user_artists))\n",
    "        \n",
    "        recommendations.update(recommended)\n",
    "\n",
    "    # Filter out NaN values from AUC\n",
    "    aucs = [a for a in aucs if not pd.isna(a)]\n",
    "\n",
    "    return {\n",
    "        'precision': sum(precisions) / len(precisions),\n",
    "        'recall': sum(recalls) / len(recalls),\n",
    "        'f1_score': sum(f1_scores) / len(f1_scores),\n",
    "        'coverage': len(recommendations) / len(user_artists.artistID.unique()),\n",
    "        'auc': sum(aucs) / len(aucs) if aucs else float('nan')  # Avoid division by zero\n",
    "    }\n",
    "    "
   ]
  },
  {
   "cell_type": "code",
   "execution_count": 6,
   "metadata": {},
   "outputs": [
    {
     "data": {
      "text/plain": [
       "{'precision': 0.2328752642706131,\n",
       " 'recall': 0.048249036830513736,\n",
       " 'f1_score': 0.07875021852213392,\n",
       " 'coverage': 0.0005671506352087115,\n",
       " 'auc': 0.4842685660715725}"
      ]
     },
     "execution_count": 6,
     "metadata": {},
     "output_type": "execute_result"
    }
   ],
   "source": [
    "evaluate(base, user_artists, user_artists.userID.unique())"
   ]
  },
  {
   "cell_type": "markdown",
   "metadata": {},
   "source": [
    "Our baseline model gets a Precision@10 of 0.23, and AUC of 0.48"
   ]
  }
 ],
 "metadata": {
  "kernelspec": {
   "display_name": "Python 3",
   "language": "python",
   "name": "python3"
  },
  "language_info": {
   "codemirror_mode": {
    "name": "ipython",
    "version": 3
   },
   "file_extension": ".py",
   "mimetype": "text/x-python",
   "name": "python",
   "nbconvert_exporter": "python",
   "pygments_lexer": "ipython3",
   "version": "3.12.7"
  }
 },
 "nbformat": 4,
 "nbformat_minor": 2
}
