{
 "cells": [
  {
   "cell_type": "code",
   "execution_count": 64,
   "metadata": {},
   "outputs": [
    {
     "name": "stdout",
     "output_type": "stream",
     "text": [
      "Original length: 92834\n"
     ]
    },
    {
     "data": {
      "text/html": [
       "<div>\n",
       "<style scoped>\n",
       "    .dataframe tbody tr th:only-of-type {\n",
       "        vertical-align: middle;\n",
       "    }\n",
       "\n",
       "    .dataframe tbody tr th {\n",
       "        vertical-align: top;\n",
       "    }\n",
       "\n",
       "    .dataframe thead th {\n",
       "        text-align: right;\n",
       "    }\n",
       "</style>\n",
       "<table border=\"1\" class=\"dataframe\">\n",
       "  <thead>\n",
       "    <tr style=\"text-align: right;\">\n",
       "      <th></th>\n",
       "      <th>userID</th>\n",
       "      <th>artistID</th>\n",
       "      <th>tagID</th>\n",
       "      <th>day</th>\n",
       "      <th>month</th>\n",
       "      <th>year</th>\n",
       "    </tr>\n",
       "  </thead>\n",
       "  <tbody>\n",
       "    <tr>\n",
       "      <th>0</th>\n",
       "      <td>0</td>\n",
       "      <td>46</td>\n",
       "      <td>12</td>\n",
       "      <td>1</td>\n",
       "      <td>4</td>\n",
       "      <td>2009</td>\n",
       "    </tr>\n",
       "    <tr>\n",
       "      <th>1</th>\n",
       "      <td>0</td>\n",
       "      <td>46</td>\n",
       "      <td>14</td>\n",
       "      <td>1</td>\n",
       "      <td>4</td>\n",
       "      <td>2009</td>\n",
       "    </tr>\n",
       "    <tr>\n",
       "      <th>2</th>\n",
       "      <td>0</td>\n",
       "      <td>46</td>\n",
       "      <td>17</td>\n",
       "      <td>1</td>\n",
       "      <td>4</td>\n",
       "      <td>2009</td>\n",
       "    </tr>\n",
       "    <tr>\n",
       "      <th>3</th>\n",
       "      <td>0</td>\n",
       "      <td>46</td>\n",
       "      <td>20</td>\n",
       "      <td>1</td>\n",
       "      <td>4</td>\n",
       "      <td>2009</td>\n",
       "    </tr>\n",
       "    <tr>\n",
       "      <th>4</th>\n",
       "      <td>0</td>\n",
       "      <td>46</td>\n",
       "      <td>40</td>\n",
       "      <td>1</td>\n",
       "      <td>4</td>\n",
       "      <td>2009</td>\n",
       "    </tr>\n",
       "  </tbody>\n",
       "</table>\n",
       "</div>"
      ],
      "text/plain": [
       "   userID  artistID  tagID  day  month  year\n",
       "0       0        46     12    1      4  2009\n",
       "1       0        46     14    1      4  2009\n",
       "2       0        46     17    1      4  2009\n",
       "3       0        46     20    1      4  2009\n",
       "4       0        46     40    1      4  2009"
      ]
     },
     "execution_count": 64,
     "metadata": {},
     "output_type": "execute_result"
    }
   ],
   "source": [
    "import pandas as pd\n",
    "\n",
    "artists = pd.read_csv('dataset/remapped/artists.csv')\n",
    "tags = pd.read_csv('dataset/remapped/tags.csv')\n",
    "user_artists = pd.read_csv('dataset/remapped/user_artists.csv')\n",
    "user_tags = pd.read_csv('dataset/remapped/user_tags.csv')\n",
    "\n",
    "print(f\"Original length: {len(user_artists)}\")\n",
    "user_tags.head()"
   ]
  },
  {
   "cell_type": "code",
   "execution_count": 65,
   "metadata": {},
   "outputs": [
    {
     "name": "stdout",
     "output_type": "stream",
     "text": [
      "Artists in user_artists but not in user_tags: 5499\n",
      "Artists in user_tags but not in user_artists: 0\n"
     ]
    }
   ],
   "source": [
    "user_artist_ids = set(user_artists['artistID'].unique())\n",
    "user_tag_artist_ids = set(user_tags['artistID'].unique())\n",
    "\n",
    "# Step 2: Find discrepancies\n",
    "missing_in_user_tags = user_artist_ids - user_tag_artist_ids\n",
    "missing_in_user_artists = user_tag_artist_ids - user_artist_ids\n",
    "\n",
    "# Print debug information\n",
    "print(f\"Artists in user_artists but not in user_tags: {len(missing_in_user_tags)}\")\n",
    "print(f\"Artists in user_tags but not in user_artists: {len(missing_in_user_artists)}\")\n",
    "\n",
    "user_artists = user_artists[~user_artists['artistID'].isin(missing_in_user_tags)]\n",
    "user_tags = user_tags[~user_tags['artistID'].isin(missing_in_user_artists)]\n"
   ]
  },
  {
   "cell_type": "code",
   "execution_count": 66,
   "metadata": {},
   "outputs": [
    {
     "data": {
      "text/plain": [
       "(1892, 17631)"
      ]
     },
     "execution_count": 66,
     "metadata": {},
     "output_type": "execute_result"
    }
   ],
   "source": [
    "import numpy as np\n",
    "from scipy.sparse import coo_matrix\n",
    "\n",
    "def build_user_item_matrix(user_artists):\n",
    "    users = user_artists['userID'].values\n",
    "    items = user_artists['artistID'].values\n",
    "    weights = user_artists['weight'].values\n",
    "\n",
    "    num_users = users.max() + 1\n",
    "    num_items = items.max() + 1\n",
    "\n",
    "    user_item_matrix = coo_matrix((weights, (users, items)), shape=(num_users, num_items))\n",
    "    return user_item_matrix\n",
    "\n",
    "user_item_matrix = build_user_item_matrix(user_artists)\n",
    "user_item_matrix.shape"
   ]
  },
  {
   "cell_type": "code",
   "execution_count": 67,
   "metadata": {},
   "outputs": [
    {
     "data": {
      "text/plain": [
       "(17631, 11946)"
      ]
     },
     "execution_count": 67,
     "metadata": {},
     "output_type": "execute_result"
    }
   ],
   "source": [
    "def build_item_tag_matrix(user_tags, tags):\n",
    "    items = user_tags['artistID'].values\n",
    "    tag_ids = user_tags['tagID'].values\n",
    "\n",
    "    # Use binary 1 for tag occurrence\n",
    "    data = np.ones_like(items)\n",
    "\n",
    "    num_items = items.max() + 1\n",
    "    num_tags = tags['tagID'].max() + 1\n",
    "\n",
    "    item_tag_matrix = coo_matrix((data, (items, tag_ids)), shape=(num_items, num_tags))\n",
    "    return item_tag_matrix\n",
    "\n",
    "item_tag_matrix = build_item_tag_matrix(user_tags, tags)\n",
    "item_tag_matrix.shape"
   ]
  },
  {
   "cell_type": "code",
   "execution_count": 68,
   "metadata": {},
   "outputs": [],
   "source": [
    "assert user_item_matrix.shape[1] == item_tag_matrix.shape[0], (\n",
    "    \"The number of items (artists) must be the same in both matrices!\"\n",
    ")"
   ]
  },
  {
   "cell_type": "code",
   "execution_count": 69,
   "metadata": {},
   "outputs": [],
   "source": [
    "from lightfm import LightFM\n",
    "from lightfm.data import Dataset\n",
    "from lightfm.cross_validation import random_train_test_split\n",
    "from lightfm.evaluation import precision_at_k, recall_at_k\n",
    "\n",
    "train, test = random_train_test_split(user_item_matrix, test_percentage=0.2)\n",
    "\n",
    "item_features = item_tag_matrix.tocsr()\n"
   ]
  },
  {
   "cell_type": "code",
   "execution_count": 70,
   "metadata": {},
   "outputs": [],
   "source": [
    "model = LightFM(loss='warp')"
   ]
  },
  {
   "cell_type": "code",
   "execution_count": 71,
   "metadata": {},
   "outputs": [],
   "source": [
    "EPOCHS = 10\n",
    "THREADS = 16"
   ]
  },
  {
   "cell_type": "code",
   "execution_count": 72,
   "metadata": {},
   "outputs": [
    {
     "name": "stdout",
     "output_type": "stream",
     "text": [
      "Finished fit\n"
     ]
    }
   ],
   "source": [
    "model.fit(train, epochs=EPOCHS, num_threads=THREADS)\n",
    "print('Finished fit')"
   ]
  },
  {
   "cell_type": "code",
   "execution_count": 74,
   "metadata": {},
   "outputs": [
    {
     "name": "stdout",
     "output_type": "stream",
     "text": [
      "Precision: 0.42\n"
     ]
    }
   ],
   "source": [
    "precision = precision_at_k(model, train, k=5).mean()\n",
    "print(f\"Precision: {precision:.2f}\")"
   ]
  },
  {
   "cell_type": "code",
   "execution_count": null,
   "metadata": {},
   "outputs": [],
   "source": [
    "# Using lightfm dataset format\n",
    "max_item_id = user_item_matrix.shape[1]\n",
    "max_user_id = user_item_matrix.shape[0]"
   ]
  }
 ],
 "metadata": {
  "kernelspec": {
   "display_name": "Python 3",
   "language": "python",
   "name": "python3"
  },
  "language_info": {
   "codemirror_mode": {
    "name": "ipython",
    "version": 3
   },
   "file_extension": ".py",
   "mimetype": "text/x-python",
   "name": "python",
   "nbconvert_exporter": "python",
   "pygments_lexer": "ipython3",
   "version": "3.12.7"
  }
 },
 "nbformat": 4,
 "nbformat_minor": 2
}
