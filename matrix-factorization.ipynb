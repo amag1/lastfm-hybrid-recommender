{
 "cells": [
  {
   "cell_type": "markdown",
   "metadata": {},
   "source": [
    "# Matrix Factorization\n",
    "This notebook explores a matrix factorization approach for the recommender system"
   ]
  },
  {
   "cell_type": "code",
   "execution_count": 55,
   "metadata": {},
   "outputs": [
    {
     "name": "stdout",
     "output_type": "stream",
     "text": [
      "Original length: 92834\n"
     ]
    }
   ],
   "source": [
    "import pandas as pd\n",
    "\n",
    "artists = pd.read_csv('dataset/artists.dat', sep='\\t')\n",
    "tags = pd.read_csv('dataset/tags.dat', sep='\\t', encoding='ISO-8859-1')\n",
    "user_artists = pd.read_csv('dataset/user_artists.dat', sep='\\t')\n",
    "user_tags = pd.read_csv('dataset/user_taggedartists.dat', sep='\\t')\n",
    "\n",
    "print(f\"Original length: {len(user_artists)}\")\n"
   ]
  },
  {
   "cell_type": "markdown",
   "metadata": {},
   "source": [
    "In this notebook, we will build a baseline model that recommends the most popular items to all users. We will then build a matrix factorization model using the Alternating Least Squares (ALS) algorithm."
   ]
  },
  {
   "cell_type": "markdown",
   "metadata": {},
   "source": [
    "As a convention, we will deal with top 10 recommendations for each user."
   ]
  },
  {
   "cell_type": "code",
   "execution_count": 56,
   "metadata": {},
   "outputs": [],
   "source": [
    "class Baseline():\n",
    "    \"\"\"\n",
    "    A model that always recommends the most popular artists.\n",
    "    \"\"\"\n",
    "    def __init__(self, top):\n",
    "        self.top = top\n",
    "\n",
    "    def fit(self, user_artists):\n",
    "        self.popular_artists = user_artists.groupby('artistID').sum().sort_values('weight', ascending=False).index[:self.top]\n",
    "\n",
    "    def recommend(self, user_id):\n",
    "        return self.popular_artists[:self.top]"
   ]
  },
  {
   "cell_type": "markdown",
   "metadata": {},
   "source": [
    "We should also build functions to evaluate the performance of the model. We will use Precision@k, Recall@k and Coverage as the evaluation metrics."
   ]
  },
  {
   "cell_type": "code",
   "execution_count": 57,
   "metadata": {},
   "outputs": [
    {
     "data": {
      "text/plain": [
       "Index([289, 72, 89, 292, 498, 67, 288, 701, 227, 300], dtype='int64', name='artistID')"
      ]
     },
     "execution_count": 57,
     "metadata": {},
     "output_type": "execute_result"
    }
   ],
   "source": [
    "base = Baseline(10)\n",
    "base.fit(user_artists)\n",
    "base.recommend(2)"
   ]
  },
  {
   "cell_type": "code",
   "execution_count": 58,
   "metadata": {},
   "outputs": [],
   "source": [
    "def is_relevant(recommended, user_id, user_artists):\n",
    "    \"\"\"\n",
    "    Returns a boolean array indicating whether each recommended artist is relevant to the user.\n",
    "    An artist is relevant if the user has listened to it at least k times.\n",
    "    \"\"\"\n",
    "\n",
    "    user_artists = user_artists[user_artists.userID == user_id]\n",
    "    \n",
    "    relevant = []\n",
    "    for artist_id in recommended:\n",
    "        relevant.append(artist_id in user_artists.artistID.values)\n",
    "    return relevant\n",
    "\n",
    "def precision(recommended, user_id, user_artists):\n",
    "    \"\"\"\n",
    "    Returns the precision of the recommendations.\n",
    "    Precision is the proportion of recommended artists that are relevant.\n",
    "    \"\"\"\n",
    "\n",
    "    relevant = is_relevant(recommended, user_id, user_artists)\n",
    "    return sum(relevant) / len(recommended)\n",
    "\n",
    "def recall(recommended, user_id, user_artists):\n",
    "    \"\"\"\n",
    "    Returns the recall of the recommendations.\n",
    "    Recall is the proportion of relevant artists that are recommended.\n",
    "    \"\"\"\n",
    "\n",
    "    relevant = is_relevant(recommended, user_id, user_artists)\n",
    "    return sum(relevant) / len(user_artists[user_artists.userID == user_id])\n",
    "\n",
    "def f1_score(recommended, user_id, user_artists):\n",
    "    \"\"\"\n",
    "    Returns the F1 score of the recommendations.\n",
    "    The F1 score is the harmonic mean of precision and recall.\n",
    "    \"\"\"\n",
    "\n",
    "    prec = precision(recommended, user_id, user_artists)\n",
    "    rec = recall(recommended, user_id, user_artists)\n",
    "\n",
    "    if prec + rec == 0:\n",
    "        return 0\n",
    "    \n",
    "    return 2 * prec * rec / (prec + rec)\n",
    "\n",
    "def coverage(recommended, user_artists):\n",
    "    \"\"\"\n",
    "    Returns the coverage of the recommendations.\n",
    "    Coverage is the proportion of artists that are recommended.\n",
    "    \"\"\"\n",
    "\n",
    "    return len(recommended) / len(user_artists.artistID.unique())\n",
    "\n",
    "\n",
    "def evaluate(model, user_artists, user_ids):\n",
    "    \"\"\"\n",
    "    Evaluates a model on a set of users.\n",
    "    Returns a dictionary containing the average precision, recall, F1 score and coverage.\n",
    "    \"\"\"\n",
    "\n",
    "    model.fit(user_artists)\n",
    "\n",
    "\n",
    "    precisions = []\n",
    "    recalls = []\n",
    "    f1_scores = []\n",
    "    \n",
    "    recommendations = set()\n",
    "\n",
    "    for user_id in user_ids:\n",
    "        recommended = model.recommend(user_id)\n",
    "        precisions.append(precision(recommended, user_id, user_artists))\n",
    "        recalls.append(recall(recommended, user_id, user_artists))\n",
    "        f1_scores.append(f1_score(recommended, user_id, user_artists))\n",
    "        \n",
    "        recommendations.update(recommended)\n",
    "\n",
    "    return {\n",
    "        'precision': sum(precisions) / len(precisions),\n",
    "        'recall': sum(recalls) / len(recalls),\n",
    "        'f1_score': sum(f1_scores) / len(f1_scores),\n",
    "        'coverage': len(recommendations) / len(user_artists.artistID.unique())\n",
    "    }\n",
    "    "
   ]
  },
  {
   "cell_type": "code",
   "execution_count": 59,
   "metadata": {},
   "outputs": [
    {
     "data": {
      "text/plain": [
       "{'precision': 0.2328752642706131,\n",
       " 'recall': 0.048249036830513736,\n",
       " 'f1_score': 0.07875021852213392,\n",
       " 'coverage': 0.0005671506352087115}"
      ]
     },
     "execution_count": 59,
     "metadata": {},
     "output_type": "execute_result"
    }
   ],
   "source": [
    "evaluate(base, user_artists, user_artists.userID.unique())"
   ]
  },
  {
   "cell_type": "markdown",
   "metadata": {},
   "source": [
    "Our baseline model gets a Precision@10 of 0.23, Recall@10 of 0.04 and F1@10 of 0.07."
   ]
  },
  {
   "cell_type": "markdown",
   "metadata": {},
   "source": [
    "# Matrix factorization\n",
    "Now, we build a matrix factorization model using LightFM."
   ]
  },
  {
   "cell_type": "code",
   "execution_count": 61,
   "metadata": {},
   "outputs": [
    {
     "data": {
      "text/plain": [
       "(2101, 18746)"
      ]
     },
     "execution_count": 61,
     "metadata": {},
     "output_type": "execute_result"
    }
   ],
   "source": [
    "# Start by generating a sparse matrix of user-artist interactions.\n",
    "from scipy.sparse import coo_matrix\n",
    "\n",
    "user_artist_matrix = coo_matrix((user_artists.weight, (user_artists.userID, user_artists.artistID)))\n",
    "user_artist_matrix.shape"
   ]
  },
  {
   "cell_type": "code",
   "execution_count": 63,
   "metadata": {},
   "outputs": [
    {
     "name": "stdout",
     "output_type": "stream",
     "text": [
      "Sparsity: 0.9976429304442317\n"
     ]
    }
   ],
   "source": [
    "def get_sparsity(matrix):\n",
    "    \"\"\"\n",
    "    Returns the sparsity of a matrix.\n",
    "    Sparsity is the proportion of zero values in the matrix.\n",
    "    \"\"\"\n",
    "\n",
    "    return 1 - matrix.nnz / (matrix.shape[0] * matrix.shape[1])\n",
    "\n",
    "print(f\"Sparsity: {get_sparsity(user_artist_matrix)}\")"
   ]
  },
  {
   "cell_type": "code",
   "execution_count": null,
   "metadata": {},
   "outputs": [],
   "source": []
  }
 ],
 "metadata": {
  "kernelspec": {
   "display_name": "Python 3",
   "language": "python",
   "name": "python3"
  },
  "language_info": {
   "codemirror_mode": {
    "name": "ipython",
    "version": 3
   },
   "file_extension": ".py",
   "mimetype": "text/x-python",
   "name": "python",
   "nbconvert_exporter": "python",
   "pygments_lexer": "ipython3",
   "version": "3.12.7"
  }
 },
 "nbformat": 4,
 "nbformat_minor": 2
}
