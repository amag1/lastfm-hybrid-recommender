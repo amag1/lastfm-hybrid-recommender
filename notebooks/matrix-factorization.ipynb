{
 "cells": [
  {
   "cell_type": "markdown",
   "metadata": {},
   "source": [
    "# Matrix Factorization\n",
    "This notebook explores a matrix factorization approach for the recommender system"
   ]
  },
  {
   "cell_type": "code",
   "execution_count": 2,
   "metadata": {},
   "outputs": [
    {
     "name": "stdout",
     "output_type": "stream",
     "text": [
      "Original length: 92834\n"
     ]
    },
    {
     "data": {
      "text/html": [
       "<div>\n",
       "<style scoped>\n",
       "    .dataframe tbody tr th:only-of-type {\n",
       "        vertical-align: middle;\n",
       "    }\n",
       "\n",
       "    .dataframe tbody tr th {\n",
       "        vertical-align: top;\n",
       "    }\n",
       "\n",
       "    .dataframe thead th {\n",
       "        text-align: right;\n",
       "    }\n",
       "</style>\n",
       "<table border=\"1\" class=\"dataframe\">\n",
       "  <thead>\n",
       "    <tr style=\"text-align: right;\">\n",
       "      <th></th>\n",
       "      <th>userID</th>\n",
       "      <th>artistID</th>\n",
       "      <th>tagID</th>\n",
       "      <th>day</th>\n",
       "      <th>month</th>\n",
       "      <th>year</th>\n",
       "    </tr>\n",
       "  </thead>\n",
       "  <tbody>\n",
       "    <tr>\n",
       "      <th>0</th>\n",
       "      <td>2</td>\n",
       "      <td>52</td>\n",
       "      <td>13</td>\n",
       "      <td>1</td>\n",
       "      <td>4</td>\n",
       "      <td>2009</td>\n",
       "    </tr>\n",
       "    <tr>\n",
       "      <th>1</th>\n",
       "      <td>2</td>\n",
       "      <td>52</td>\n",
       "      <td>15</td>\n",
       "      <td>1</td>\n",
       "      <td>4</td>\n",
       "      <td>2009</td>\n",
       "    </tr>\n",
       "    <tr>\n",
       "      <th>2</th>\n",
       "      <td>2</td>\n",
       "      <td>52</td>\n",
       "      <td>18</td>\n",
       "      <td>1</td>\n",
       "      <td>4</td>\n",
       "      <td>2009</td>\n",
       "    </tr>\n",
       "    <tr>\n",
       "      <th>3</th>\n",
       "      <td>2</td>\n",
       "      <td>52</td>\n",
       "      <td>21</td>\n",
       "      <td>1</td>\n",
       "      <td>4</td>\n",
       "      <td>2009</td>\n",
       "    </tr>\n",
       "    <tr>\n",
       "      <th>4</th>\n",
       "      <td>2</td>\n",
       "      <td>52</td>\n",
       "      <td>41</td>\n",
       "      <td>1</td>\n",
       "      <td>4</td>\n",
       "      <td>2009</td>\n",
       "    </tr>\n",
       "  </tbody>\n",
       "</table>\n",
       "</div>"
      ],
      "text/plain": [
       "   userID  artistID  tagID  day  month  year\n",
       "0       2        52     13    1      4  2009\n",
       "1       2        52     15    1      4  2009\n",
       "2       2        52     18    1      4  2009\n",
       "3       2        52     21    1      4  2009\n",
       "4       2        52     41    1      4  2009"
      ]
     },
     "execution_count": 2,
     "metadata": {},
     "output_type": "execute_result"
    }
   ],
   "source": [
    "import pandas as pd\n",
    "\n",
    "artists = pd.read_csv('../dataset/artists.dat', sep='\\t')\n",
    "tags = pd.read_csv('../dataset/tags.dat', sep='\\t', encoding='ISO-8859-1')\n",
    "user_artists = pd.read_csv('../dataset/user_artists.dat', sep='\\t')\n",
    "user_tags = pd.read_csv('../dataset/user_taggedartists.dat', sep='\\t')\n",
    "\n",
    "print(f\"Original length: {len(user_artists)}\")\n",
    "user_tags.head()"
   ]
  },
  {
   "cell_type": "markdown",
   "metadata": {},
   "source": [
    "In this notebook, we will build a baseline model that recommends the most popular items to all users. We will then build a matrix factorization model using the Alternating Least Squares (ALS) algorithm."
   ]
  },
  {
   "cell_type": "markdown",
   "metadata": {},
   "source": [
    "As a convention, we will deal with top 10 recommendations for each user."
   ]
  },
  {
   "cell_type": "code",
   "execution_count": 3,
   "metadata": {},
   "outputs": [],
   "source": [
    "class Baseline():\n",
    "    \"\"\"\n",
    "    A model that always recommends the most popular artists.\n",
    "    \"\"\"\n",
    "    def __init__(self, top):\n",
    "        self.top = top\n",
    "\n",
    "    def fit(self, user_artists):\n",
    "        self.popular_artists = user_artists.groupby('artistID').sum().sort_values('weight', ascending=False).index[:self.top]\n",
    "\n",
    "    def recommend(self, user_id):\n",
    "        return self.popular_artists[:self.top]"
   ]
  },
  {
   "cell_type": "markdown",
   "metadata": {},
   "source": [
    "We should also build functions to evaluate the performance of the model. We will use Precision@k, Recall@k and Coverage as the evaluation metrics."
   ]
  },
  {
   "cell_type": "code",
   "execution_count": 4,
   "metadata": {},
   "outputs": [
    {
     "data": {
      "text/plain": [
       "Index([289, 72, 89, 292, 498, 67, 288, 701, 227, 300], dtype='int64', name='artistID')"
      ]
     },
     "execution_count": 4,
     "metadata": {},
     "output_type": "execute_result"
    }
   ],
   "source": [
    "base = Baseline(10)\n",
    "base.fit(user_artists)\n",
    "base.recommend(2)"
   ]
  },
  {
   "cell_type": "code",
   "execution_count": 5,
   "metadata": {},
   "outputs": [],
   "source": [
    "from sklearn.metrics import roc_auc_score\n",
    "\n",
    "def is_relevant(recommended, user_id, user_artists):\n",
    "    \"\"\"\n",
    "    Returns a boolean array indicating whether each recommended artist is relevant to the user.\n",
    "    An artist is relevant if the user has listened to it at least k times.\n",
    "    \"\"\"\n",
    "\n",
    "    user_artists = user_artists[user_artists.userID == user_id]\n",
    "    \n",
    "    relevant = []\n",
    "    for artist_id in recommended:\n",
    "        relevant.append(artist_id in user_artists.artistID.values)\n",
    "    return relevant\n",
    "\n",
    "def precision(recommended, user_id, user_artists):\n",
    "    \"\"\"\n",
    "    Returns the precision of the recommendations.\n",
    "    Precision is the proportion of recommended artists that are relevant.\n",
    "    \"\"\"\n",
    "\n",
    "    relevant = is_relevant(recommended, user_id, user_artists)\n",
    "    return sum(relevant) / len(recommended)\n",
    "\n",
    "def recall(recommended, user_id, user_artists):\n",
    "    \"\"\"\n",
    "    Returns the recall of the recommendations.\n",
    "    Recall is the proportion of relevant artists that are recommended.\n",
    "    \"\"\"\n",
    "\n",
    "    relevant = is_relevant(recommended, user_id, user_artists)\n",
    "    return sum(relevant) / len(user_artists[user_artists.userID == user_id])\n",
    "\n",
    "def f1_score(recommended, user_id, user_artists):\n",
    "    \"\"\"\n",
    "    Returns the F1 score of the recommendations.\n",
    "    The F1 score is the harmonic mean of precision and recall.\n",
    "    \"\"\"\n",
    "\n",
    "    prec = precision(recommended, user_id, user_artists)\n",
    "    rec = recall(recommended, user_id, user_artists)\n",
    "\n",
    "    if prec + rec == 0:\n",
    "        return 0\n",
    "    \n",
    "    return 2 * prec * rec / (prec + rec)\n",
    "\n",
    "def coverage(recommended, user_artists):\n",
    "    \"\"\"\n",
    "    Returns the coverage of the recommendations.\n",
    "    Coverage is the proportion of artists that are recommended.\n",
    "    \"\"\"\n",
    "\n",
    "    return len(recommended) / len(user_artists.artistID.unique())\n",
    "\n",
    "def auc(recommended, user_id, user_artists):\n",
    "    \"\"\"\n",
    "    Returns the AUC (Area Under the Curve) of the recommendations for a specific user.\n",
    "    AUC measures the ranking quality of recommendations.\n",
    "    \"\"\"\n",
    "    # Get all artists the user has interacted with\n",
    "    user_artists = user_artists[user_artists.userID == user_id]\n",
    "    relevant_artists = set(user_artists.artistID.values)\n",
    "\n",
    "    # Create binary labels: 1 if relevant, 0 if not\n",
    "    y_true = [1 if artist_id in relevant_artists else 0 for artist_id in recommended]\n",
    "    y_scores = list(range(len(recommended), 0, -1))  # Higher rank means higher score\n",
    "\n",
    "    # If there are no relevant artists, return NaN to ignore in the average\n",
    "    if sum(y_true) == 0:\n",
    "        return float('nan')\n",
    "\n",
    "    return roc_auc_score(y_true, y_scores)\n",
    "\n",
    "def evaluate(model, user_artists, user_ids):\n",
    "    \"\"\"\n",
    "    Evaluates a model on a set of users.\n",
    "    Returns a dictionary containing the average precision, recall, F1 score, coverage, and AUC.\n",
    "    \"\"\"\n",
    "\n",
    "    model.fit(user_artists)\n",
    "\n",
    "    precisions = []\n",
    "    recalls = []\n",
    "    f1_scores = []\n",
    "    aucs = []\n",
    "\n",
    "    recommendations = set()\n",
    "\n",
    "    for user_id in user_ids:\n",
    "        recommended = model.recommend(user_id)\n",
    "        precisions.append(precision(recommended, user_id, user_artists))\n",
    "        recalls.append(recall(recommended, user_id, user_artists))\n",
    "        f1_scores.append(f1_score(recommended, user_id, user_artists))\n",
    "        aucs.append(auc(recommended, user_id, user_artists))\n",
    "        \n",
    "        recommendations.update(recommended)\n",
    "\n",
    "    # Filter out NaN values from AUC\n",
    "    aucs = [a for a in aucs if not pd.isna(a)]\n",
    "\n",
    "    return {\n",
    "        'precision': sum(precisions) / len(precisions),\n",
    "        'recall': sum(recalls) / len(recalls),\n",
    "        'f1_score': sum(f1_scores) / len(f1_scores),\n",
    "        'coverage': len(recommendations) / len(user_artists.artistID.unique()),\n",
    "        'auc': sum(aucs) / len(aucs) if aucs else float('nan')  # Avoid division by zero\n",
    "    }\n",
    "    "
   ]
  },
  {
   "cell_type": "code",
   "execution_count": 6,
   "metadata": {},
   "outputs": [
    {
     "data": {
      "text/plain": [
       "{'precision': 0.2328752642706131,\n",
       " 'recall': 0.048249036830513736,\n",
       " 'f1_score': 0.07875021852213392,\n",
       " 'coverage': 0.0005671506352087115,\n",
       " 'auc': 0.4842685660715725}"
      ]
     },
     "execution_count": 6,
     "metadata": {},
     "output_type": "execute_result"
    }
   ],
   "source": [
    "evaluate(base, user_artists, user_artists.userID.unique())"
   ]
  },
  {
   "cell_type": "markdown",
   "metadata": {},
   "source": [
    "Our baseline model gets a Precision@10 of 0.23, Recall@10 of 0.04 and F1@10 of 0.07."
   ]
  },
  {
   "cell_type": "markdown",
   "metadata": {},
   "source": [
    "# Matrix factorization\n",
    "Now, we build a matrix factorization model using LightFM."
   ]
  },
  {
   "cell_type": "code",
   "execution_count": 94,
   "metadata": {},
   "outputs": [
    {
     "name": "stdout",
     "output_type": "stream",
     "text": [
      "17632\n"
     ]
    }
   ],
   "source": [
    "print(user_artists[\"artistID\"].unique().size)"
   ]
  },
  {
   "cell_type": "code",
   "execution_count": 95,
   "metadata": {},
   "outputs": [
    {
     "data": {
      "text/plain": [
       "(2101, 18746)"
      ]
     },
     "execution_count": 95,
     "metadata": {},
     "output_type": "execute_result"
    }
   ],
   "source": [
    "# Start by generating a sparse matrix of user-artist interactions.\n",
    "from scipy.sparse import coo_matrix\n",
    "\n",
    "user_artist_matrix = coo_matrix((user_artists.weight, (user_artists.userID, user_artists.artistID)))\n",
    "user_artist_matrix.shape"
   ]
  },
  {
   "cell_type": "code",
   "execution_count": 96,
   "metadata": {},
   "outputs": [],
   "source": [
    "from sklearn.preprocessing import normalize\n",
    "user_artist_matrix = normalize(user_artist_matrix, axis=1)"
   ]
  },
  {
   "cell_type": "code",
   "execution_count": 97,
   "metadata": {},
   "outputs": [
    {
     "name": "stdout",
     "output_type": "stream",
     "text": [
      "Sparsity: 0.9976429304442317\n"
     ]
    }
   ],
   "source": [
    "def get_sparsity(matrix):\n",
    "    \"\"\"\n",
    "    Returns the sparsity of a matrix.\n",
    "    Sparsity is the proportion of zero values in the matrix.\n",
    "    \"\"\"\n",
    "\n",
    "    return 1 - matrix.nnz / (matrix.shape[0] * matrix.shape[1])\n",
    "\n",
    "print(f\"Sparsity: {get_sparsity(user_artist_matrix)}\")"
   ]
  },
  {
   "cell_type": "code",
   "execution_count": 98,
   "metadata": {},
   "outputs": [],
   "source": [
    "# %pip install git+https://github.com/daviddavo/lightfm"
   ]
  },
  {
   "cell_type": "code",
   "execution_count": 99,
   "metadata": {},
   "outputs": [],
   "source": [
    "from lightfm import cross_validation\n",
    "train, test = cross_validation.random_train_test_split(user_artist_matrix, test_percentage=0.2)"
   ]
  },
  {
   "cell_type": "code",
   "execution_count": 100,
   "metadata": {},
   "outputs": [
    {
     "data": {
      "text/plain": [
       "(74267, 18567)"
      ]
     },
     "execution_count": 100,
     "metadata": {},
     "output_type": "execute_result"
    }
   ],
   "source": [
    "# Count the number of non-empty entries in the training and test sets.\n",
    "train.nnz, test.nnz"
   ]
  },
  {
   "cell_type": "markdown",
   "metadata": {},
   "source": []
  },
  {
   "cell_type": "code",
   "execution_count": 101,
   "metadata": {},
   "outputs": [
    {
     "data": {
      "text/plain": [
       "<lightfm.lightfm.LightFM at 0x7f87823bd610>"
      ]
     },
     "execution_count": 101,
     "metadata": {},
     "output_type": "execute_result"
    }
   ],
   "source": [
    "from lightfm import LightFM\n",
    "\n",
    "model = LightFM(loss='warp')\n",
    "model.fit(train, epochs=10)"
   ]
  },
  {
   "cell_type": "code",
   "execution_count": 102,
   "metadata": {},
   "outputs": [
    {
     "name": "stdout",
     "output_type": "stream",
     "text": [
      "Train precision: 0.38111114501953125\n"
     ]
    }
   ],
   "source": [
    "from lightfm.evaluation import precision_at_k, recall_at_k\n",
    "\n",
    "train_precision = precision_at_k(model, train, k=10).mean()\n",
    "print(f\"Train precision: {train_precision}\")"
   ]
  },
  {
   "cell_type": "code",
   "execution_count": 41,
   "metadata": {},
   "outputs": [],
   "source": [
    "from lightfm.evaluation import precision_at_k, recall_at_k\n",
    "\n",
    "train_precision = precision_at_k(model, train, k=10).mean()\n",
    "test_precision = precision_at_k(model, test, k=10, train_interactions=train).mean()\n",
    "\n",
    "train_recall = recall_at_k(model, train, k=10).mean()\n",
    "test_recall = recall_at_k(model, test, k=10, train_interactions=train).mean()"
   ]
  },
  {
   "cell_type": "code",
   "execution_count": 42,
   "metadata": {},
   "outputs": [
    {
     "name": "stdout",
     "output_type": "stream",
     "text": [
      "Train precision: 0.3635449707508087\n",
      "Test precision: 0.12004254013299942\n",
      "Train recall: 0.09331063419106211\n",
      "Test recall: 0.12347351671082296\n"
     ]
    }
   ],
   "source": [
    "print(f\"Train precision: {train_precision}\")\n",
    "print(f\"Test precision: {test_precision}\")\n",
    "print(f\"Train recall: {train_recall}\")\n",
    "print(f\"Test recall: {test_recall}\")"
   ]
  },
  {
   "cell_type": "markdown",
   "metadata": {},
   "source": [
    "Obtenemos una precision@k de 0.38 (en testing), considerablemente mejor que el modelo baseline"
   ]
  },
  {
   "cell_type": "code",
   "execution_count": 43,
   "metadata": {},
   "outputs": [],
   "source": [
    "import time\n",
    "\n",
    "def partial_fit_with_test_evaluation(model, train, test, epochs, threads=8, k=10):\n",
    "    \"\"\"\n",
    "    Fits a model incrementally on a training dataset and evaluates precision@k on the test set.\n",
    "    \"\"\"\n",
    "    train_precisions = []\n",
    "    test_precisions = []\n",
    "\n",
    "    times = []\n",
    "\n",
    "    for epoch in range(epochs):\n",
    "        start_time = time.time()\n",
    "        \n",
    "        # Fit the model incrementally on the training set\n",
    "        model.fit_partial(train, epochs=1, num_threads=threads)\n",
    "\n",
    "        # Compute precision@k for the training set\n",
    "        train_precision = precision_at_k(model, train, k=k).mean()\n",
    "        train_precisions.append(train_precision)\n",
    "\n",
    "        # Compute precision@k for the test set\n",
    "        test_precision = precision_at_k(model, test, k=k).mean()\n",
    "        test_precisions.append(test_precision)\n",
    "\n",
    "        end_time = time.time()\n",
    "        epoch_time = end_time - start_time\n",
    "        times.append(epoch_time)\n",
    "\n",
    "        print(f\"Epoch {epoch + 1}/{epochs} - Train Precision@{k}: {train_precision:.4f}, Test Precision@{k}: {test_precision:.4f}, Time: {epoch_time:.2f} seconds\")\n",
    "\n",
    "    return train_precisions, test_precisions\n"
   ]
  },
  {
   "cell_type": "code",
   "execution_count": 45,
   "metadata": {},
   "outputs": [
    {
     "name": "stdout",
     "output_type": "stream",
     "text": [
      "Epoch 1/10 - Train Precision@10: 0.1089, Test Precision@10: 0.0258\n",
      "Epoch 2/10 - Train Precision@10: 0.1589, Test Precision@10: 0.0373\n",
      "Epoch 3/10 - Train Precision@10: 0.2306, Test Precision@10: 0.0548\n",
      "Epoch 4/10 - Train Precision@10: 0.2843, Test Precision@10: 0.0646\n",
      "Epoch 5/10 - Train Precision@10: 0.2860, Test Precision@10: 0.0651\n",
      "Epoch 6/10 - Train Precision@10: 0.2912, Test Precision@10: 0.0669\n",
      "Epoch 7/10 - Train Precision@10: 0.3054, Test Precision@10: 0.0681\n",
      "Epoch 8/10 - Train Precision@10: 0.3237, Test Precision@10: 0.0714\n",
      "Epoch 9/10 - Train Precision@10: 0.3347, Test Precision@10: 0.0725\n",
      "Epoch 10/10 - Train Precision@10: 0.3485, Test Precision@10: 0.0753\n"
     ]
    }
   ],
   "source": [
    "model = LightFM(loss='bpr')\n",
    "train_precision, test_precision = partial_fit_with_test_evaluation(model, train,test, 1)"
   ]
  },
  {
   "cell_type": "code",
   "execution_count": 46,
   "metadata": {},
   "outputs": [
    {
     "data": {
      "image/png": "[encoded data removed]",
      "text/plain": [
       "<Figure size 640x480 with 1 Axes>"
      ]
     },
     "metadata": {},
     "output_type": "display_data"
    }
   ],
   "source": [
    "# Plot results\n",
    "import matplotlib.pyplot as plt\n",
    "import seaborn as sns\n",
    "\n",
    "sns.lineplot(x=range(10), y=train_precision, label='Train Precision')\n",
    "sns.lineplot(x=range(10), y=test_precision, label='Test Precision')\n",
    "\n",
    "plt.xlabel('Epoch')\n",
    "plt.ylabel('Score')\n",
    "plt.legend()\n",
    "plt.show()\n"
   ]
  },
  {
   "cell_type": "markdown",
   "metadata": {},
   "source": [
    "# Using tags to build a hybrid model\n",
    "We will now build a hybrid model that combines the matrix factorization model with the tags of the items. We will use the tags to build item features and use them in the matrix factorization model."
   ]
  },
  {
   "cell_type": "code",
   "execution_count": 58,
   "metadata": {},
   "outputs": [
    {
     "name": "stdout",
     "output_type": "stream",
     "text": [
      "(1892,) (17632,)\n"
     ]
    }
   ],
   "source": [
    "# First, reorder the dataset by building a mapping from user ids to their index\n",
    "user_ids = user_artists.userID.unique()\n",
    "user_id_to_index = {id: i for i, id in enumerate(user_ids)}\n",
    "\n",
    "# Then, build a mapping from artist ids to their index\n",
    "artist_ids = artists.id.unique()\n",
    "artist_id_to_index = {id: i for i, id in enumerate(artist_ids)}\n",
    "\n",
    "tag_ids = tags.tagID.unique()\n",
    "tag_id_to_index = {id: i for i, id in enumerate(tag_ids)}\n",
    "\n",
    "print(user_ids.shape, artist_ids.shape)\n"
   ]
  },
  {
   "cell_type": "code",
   "execution_count": 60,
   "metadata": {},
   "outputs": [
    {
     "name": "stdout",
     "output_type": "stream",
     "text": [
      "(92834, 3)\n",
      "(184941, 6)\n"
     ]
    }
   ],
   "source": [
    "updated_user_artists = user_artists.copy()\n",
    "updated_user_artists['userID'] = user_artists['userID'].map(user_id_to_index)\n",
    "updated_user_artists['artistID'] = user_artists['artistID'].map(artist_id_to_index)\n",
    "\n",
    "updated_artists = artists.copy()\n",
    "updated_artists['id'] = artists['id'].map(artist_id_to_index)\n",
    "\n",
    "updated_user_tags = user_tags.copy()\n",
    "updated_user_tags['userID'] = user_tags['userID'].map(user_id_to_index)\n",
    "\n",
    "updated_user_tags['artistID'] = user_tags['artistID'].map(artist_id_to_index).fillna(-1).astype(int)\n",
    "updated_user_tags = updated_user_tags[updated_user_tags['artistID'] != -1]\n",
    "\n",
    "updated_user_tags['tagID'] = user_tags['tagID'].map(tag_id_to_index)\n",
    "\n",
    "updated_tags = tags.copy()\n",
    "updated_tags['tagID'] = tags['tagID'].map(tag_id_to_index)\n",
    "\n",
    "print(updated_user_artists.shape)\n",
    "print(updated_user_tags.shape)\n"
   ]
  },
  {
   "cell_type": "code",
   "execution_count": 81,
   "metadata": {},
   "outputs": [
    {
     "name": "stdout",
     "output_type": "stream",
     "text": [
      "(11530,)\n"
     ]
    }
   ],
   "source": [
    "# Build a sparse matrix of item features\n",
    "from scipy.sparse import coo_matrix\n",
    "\n",
    "artist_tag_counts = updated_user_tags.groupby(['artistID','tagID']).size().reset_index(name='count')\n",
    "artist_tag_counts.head()\n",
    "\n",
    "# Drop all rows that do not match any artist\n",
    "artist_tag_counts = artist_tag_counts[artist_tag_counts['artistID'].isin(artist_id_to_index.keys())]\n",
    "top_n = 5\n",
    "# Now, generate a matrix of artist-tag interactions, considering only the top n tags for each artist\n",
    "artist_tag_matrix = coo_matrix((artist_tag_counts['count'], (artist_tag_counts['artistID'], artist_tag_counts['tagID'])))\n",
    "\n",
    "print(artist_tag_counts['artistID'].unique().shape)\n",
    "\n"
   ]
  },
  {
   "cell_type": "code",
   "execution_count": 83,
   "metadata": {},
   "outputs": [
    {
     "name": "stdout",
     "output_type": "stream",
     "text": [
      "(17632, 4)\n",
      "(17632,)\n",
      "(2,)\n"
     ]
    }
   ],
   "source": [
    "print(updated_artists.shape)\n",
    "print(updated_user_artists['artistID'].unique().shape)\n",
    "print(updated_user_tags['artistID'].isin(artist_id_to_index.keys()).unique().shape)"
   ]
  },
  {
   "cell_type": "code",
   "execution_count": 69,
   "metadata": {},
   "outputs": [],
   "source": [
    "# Build new sparse matrix\n",
    "from scipy.sparse import coo_matrix\n",
    "\n",
    "user_artist_matrix = coo_matrix((updated_user_artists.weight, (updated_user_artists.userID, updated_user_artists.artistID)))"
   ]
  },
  {
   "cell_type": "code",
   "execution_count": 71,
   "metadata": {},
   "outputs": [
    {
     "name": "stdout",
     "output_type": "stream",
     "text": [
      "(1892, 17632)\n"
     ]
    }
   ],
   "source": [
    "from lightfm import cross_validation\n",
    "\n",
    "train, test = cross_validation.random_train_test_split(user_artist_matrix, test_percentage=0.2)\n",
    "\n",
    "print(train.shape)"
   ]
  },
  {
   "cell_type": "code",
   "execution_count": 89,
   "metadata": {},
   "outputs": [
    {
     "name": "stdout",
     "output_type": "stream",
     "text": [
      "46950\n",
      "46950\n"
     ]
    }
   ],
   "source": [
    "import pandas as pd\n",
    "from scipy.sparse import csr_matrix, vstack\n",
    "\n",
    "# Step 1: Count occurrences of each tag for each artist\n",
    "artist_tag_counts = user_tags.groupby(['artistID', 'tagID']).size().reset_index(name='count')\n",
    "\n",
    "# Step 2: Select the top N tags for each artist (e.g., top 3)\n",
    "top_n = 5\n",
    "artist_top_tags = artist_tag_counts.sort_values(['artistID', 'count'], ascending=[True, False]) \\\n",
    "                                   .groupby('artistID').head(top_n)\n",
    "\n",
    "# Step 3: Build a mapping from tagID to column index\n",
    "unique_tags = artist_top_tags['tagID'].unique()\n",
    "tag_mapping = {tag_id: idx for idx, tag_id in enumerate(unique_tags)}\n",
    "\n",
    "# Step 4: Map artistID and tagID to indices\n",
    "# Get all artists from the train matrix\n",
    "all_artists = sorted(user_artists['artistID'].unique())  # Sorted list of all artistIDs\n",
    "artist_mapping = {artist_id: idx for idx, artist_id in enumerate(all_artists)}  # Map all artists\n",
    "\n",
    "# Map artistID to indices for existing data\n",
    "artist_top_tags['artist_idx'] = artist_top_tags['artistID'].map(artist_mapping)\n",
    "artist_top_tags['tag_idx'] = artist_top_tags['tagID'].map(tag_mapping)\n",
    "\n",
    "# Step 5: Create the initial sparse matrix\n",
    "rows = artist_top_tags['artist_idx']\n",
    "cols = artist_top_tags['tag_idx']\n",
    "data = artist_top_tags['count']\n",
    "\n",
    "print(rows.size)\n",
    "print(cols.size)\n",
    "\n",
    "\n"
   ]
  },
  {
   "cell_type": "code",
   "execution_count": 72,
   "metadata": {},
   "outputs": [
    {
     "ename": "Exception",
     "evalue": "Number of item feature rows does not equal the number of items",
     "output_type": "error",
     "traceback": [
      "\u001b[0;31m---------------------------------------------------------------------------\u001b[0m",
      "\u001b[0;31mException\u001b[0m                                 Traceback (most recent call last)",
      "Cell \u001b[0;32mIn[72], line 3\u001b[0m\n\u001b[1;32m      1\u001b[0m \u001b[38;5;28;01mfrom\u001b[39;00m \u001b[38;5;21;01mlightfm\u001b[39;00m \u001b[38;5;28;01mimport\u001b[39;00m LightFM\n\u001b[1;32m      2\u001b[0m mode \u001b[38;5;241m=\u001b[39m LightFM(loss\u001b[38;5;241m=\u001b[39m\u001b[38;5;124m'\u001b[39m\u001b[38;5;124mbpr\u001b[39m\u001b[38;5;124m'\u001b[39m, no_components\u001b[38;5;241m=\u001b[39m\u001b[38;5;241m30\u001b[39m)\n\u001b[0;32m----> 3\u001b[0m \u001b[43mmode\u001b[49m\u001b[38;5;241;43m.\u001b[39;49m\u001b[43mfit\u001b[49m\u001b[43m(\u001b[49m\u001b[43mtrain\u001b[49m\u001b[43m,\u001b[49m\u001b[43m \u001b[49m\u001b[43mitem_features\u001b[49m\u001b[38;5;241;43m=\u001b[39;49m\u001b[43martist_tag_matrix\u001b[49m\u001b[43m,\u001b[49m\u001b[43m \u001b[49m\u001b[43mepochs\u001b[49m\u001b[38;5;241;43m=\u001b[39;49m\u001b[38;5;241;43m10\u001b[39;49m\u001b[43m,\u001b[49m\u001b[43m \u001b[49m\u001b[43mnum_threads\u001b[49m\u001b[38;5;241;43m=\u001b[39;49m\u001b[38;5;241;43m16\u001b[39;49m\u001b[43m)\u001b[49m\n",
      "File \u001b[0;32m~/.local/lib/python3.12/site-packages/lightfm/lightfm.py:550\u001b[0m, in \u001b[0;36mLightFM.fit\u001b[0;34m(self, interactions, user_features, item_features, sample_weight, epochs, num_threads, verbose)\u001b[0m\n\u001b[1;32m    547\u001b[0m \u001b[38;5;66;03m# Discard old results, if any\u001b[39;00m\n\u001b[1;32m    548\u001b[0m \u001b[38;5;28mself\u001b[39m\u001b[38;5;241m.\u001b[39m_reset_state()\n\u001b[0;32m--> 550\u001b[0m \u001b[38;5;28;01mreturn\u001b[39;00m \u001b[38;5;28;43mself\u001b[39;49m\u001b[38;5;241;43m.\u001b[39;49m\u001b[43mfit_partial\u001b[49m\u001b[43m(\u001b[49m\n\u001b[1;32m    551\u001b[0m \u001b[43m    \u001b[49m\u001b[43minteractions\u001b[49m\u001b[43m,\u001b[49m\n\u001b[1;32m    552\u001b[0m \u001b[43m    \u001b[49m\u001b[43muser_features\u001b[49m\u001b[38;5;241;43m=\u001b[39;49m\u001b[43muser_features\u001b[49m\u001b[43m,\u001b[49m\n\u001b[1;32m    553\u001b[0m \u001b[43m    \u001b[49m\u001b[43mitem_features\u001b[49m\u001b[38;5;241;43m=\u001b[39;49m\u001b[43mitem_features\u001b[49m\u001b[43m,\u001b[49m\n\u001b[1;32m    554\u001b[0m \u001b[43m    \u001b[49m\u001b[43msample_weight\u001b[49m\u001b[38;5;241;43m=\u001b[39;49m\u001b[43msample_weight\u001b[49m\u001b[43m,\u001b[49m\n\u001b[1;32m    555\u001b[0m \u001b[43m    \u001b[49m\u001b[43mepochs\u001b[49m\u001b[38;5;241;43m=\u001b[39;49m\u001b[43mepochs\u001b[49m\u001b[43m,\u001b[49m\n\u001b[1;32m    556\u001b[0m \u001b[43m    \u001b[49m\u001b[43mnum_threads\u001b[49m\u001b[38;5;241;43m=\u001b[39;49m\u001b[43mnum_threads\u001b[49m\u001b[43m,\u001b[49m\n\u001b[1;32m    557\u001b[0m \u001b[43m    \u001b[49m\u001b[43mverbose\u001b[49m\u001b[38;5;241;43m=\u001b[39;49m\u001b[43mverbose\u001b[49m\u001b[43m,\u001b[49m\n\u001b[1;32m    558\u001b[0m \u001b[43m\u001b[49m\u001b[43m)\u001b[49m\n",
      "File \u001b[0;32m~/.local/lib/python3.12/site-packages/lightfm/lightfm.py:625\u001b[0m, in \u001b[0;36mLightFM.fit_partial\u001b[0;34m(self, interactions, user_features, item_features, sample_weight, epochs, num_threads, verbose)\u001b[0m\n\u001b[1;32m    622\u001b[0m sample_weight_data \u001b[38;5;241m=\u001b[39m \u001b[38;5;28mself\u001b[39m\u001b[38;5;241m.\u001b[39m_process_sample_weight(interactions, sample_weight)\n\u001b[1;32m    624\u001b[0m n_users, n_items \u001b[38;5;241m=\u001b[39m interactions\u001b[38;5;241m.\u001b[39mshape\n\u001b[0;32m--> 625\u001b[0m (user_features, item_features) \u001b[38;5;241m=\u001b[39m \u001b[38;5;28;43mself\u001b[39;49m\u001b[38;5;241;43m.\u001b[39;49m\u001b[43m_construct_feature_matrices\u001b[49m\u001b[43m(\u001b[49m\n\u001b[1;32m    626\u001b[0m \u001b[43m    \u001b[49m\u001b[43mn_users\u001b[49m\u001b[43m,\u001b[49m\u001b[43m \u001b[49m\u001b[43mn_items\u001b[49m\u001b[43m,\u001b[49m\u001b[43m \u001b[49m\u001b[43muser_features\u001b[49m\u001b[43m,\u001b[49m\u001b[43m \u001b[49m\u001b[43mitem_features\u001b[49m\n\u001b[1;32m    627\u001b[0m \u001b[43m\u001b[49m\u001b[43m)\u001b[49m\n\u001b[1;32m    629\u001b[0m \u001b[38;5;28;01mfor\u001b[39;00m input_data \u001b[38;5;129;01min\u001b[39;00m (\n\u001b[1;32m    630\u001b[0m     user_features\u001b[38;5;241m.\u001b[39mdata,\n\u001b[1;32m    631\u001b[0m     item_features\u001b[38;5;241m.\u001b[39mdata,\n\u001b[1;32m    632\u001b[0m     interactions\u001b[38;5;241m.\u001b[39mdata,\n\u001b[1;32m    633\u001b[0m     sample_weight_data,\n\u001b[1;32m    634\u001b[0m ):\n\u001b[1;32m    635\u001b[0m     \u001b[38;5;28mself\u001b[39m\u001b[38;5;241m.\u001b[39m_check_input_finite(input_data)\n",
      "File \u001b[0;32m~/.local/lib/python3.12/site-packages/lightfm/lightfm.py:334\u001b[0m, in \u001b[0;36mLightFM._construct_feature_matrices\u001b[0;34m(self, n_users, n_items, user_features, item_features)\u001b[0m\n\u001b[1;32m    329\u001b[0m     \u001b[38;5;28;01mraise\u001b[39;00m \u001b[38;5;167;01mException\u001b[39;00m(\n\u001b[1;32m    330\u001b[0m         \u001b[38;5;124m\"\u001b[39m\u001b[38;5;124mNumber of user feature rows does not equal the number of users\u001b[39m\u001b[38;5;124m\"\u001b[39m\n\u001b[1;32m    331\u001b[0m     )\n\u001b[1;32m    333\u001b[0m \u001b[38;5;28;01mif\u001b[39;00m n_items \u001b[38;5;241m>\u001b[39m item_features\u001b[38;5;241m.\u001b[39mshape[\u001b[38;5;241m0\u001b[39m]:\n\u001b[0;32m--> 334\u001b[0m     \u001b[38;5;28;01mraise\u001b[39;00m \u001b[38;5;167;01mException\u001b[39;00m(\n\u001b[1;32m    335\u001b[0m         \u001b[38;5;124m\"\u001b[39m\u001b[38;5;124mNumber of item feature rows does not equal the number of items\u001b[39m\u001b[38;5;124m\"\u001b[39m\n\u001b[1;32m    336\u001b[0m     )\n\u001b[1;32m    338\u001b[0m \u001b[38;5;66;03m# If we already have embeddings, verify that\u001b[39;00m\n\u001b[1;32m    339\u001b[0m \u001b[38;5;66;03m# we have them for all the supplied features\u001b[39;00m\n\u001b[1;32m    340\u001b[0m \u001b[38;5;28;01mif\u001b[39;00m \u001b[38;5;28mself\u001b[39m\u001b[38;5;241m.\u001b[39muser_embeddings \u001b[38;5;129;01mis\u001b[39;00m \u001b[38;5;129;01mnot\u001b[39;00m \u001b[38;5;28;01mNone\u001b[39;00m:\n",
      "\u001b[0;31mException\u001b[0m: Number of item feature rows does not equal the number of items"
     ]
    }
   ],
   "source": [
    "from lightfm import LightFM\n",
    "mode = LightFM(loss='bpr', no_components=30)\n",
    "mode.fit(train, item_features=artist_tag_matrix, epochs=10, num_threads=16)"
   ]
  }
 ],
 "metadata": {
  "kernelspec": {
   "display_name": "Python 3",
   "language": "python",
   "name": "python3"
  },
  "language_info": {
   "codemirror_mode": {
    "name": "ipython",
    "version": 3
   },
   "file_extension": ".py",
   "mimetype": "text/x-python",
   "name": "python",
   "nbconvert_exporter": "python",
   "pygments_lexer": "ipython3",
   "version": "3.12.7"
  }
 },
 "nbformat": 4,
 "nbformat_minor": 2
}
