{
 "cells": [
  {
   "cell_type": "code",
   "execution_count": 31,
   "metadata": {},
   "outputs": [
    {
     "name": "stdout",
     "output_type": "stream",
     "text": [
      "Original length: 92834\n"
     ]
    },
    {
     "data": {
      "text/html": [
       "<div>\n",
       "<style scoped>\n",
       "    .dataframe tbody tr th:only-of-type {\n",
       "        vertical-align: middle;\n",
       "    }\n",
       "\n",
       "    .dataframe tbody tr th {\n",
       "        vertical-align: top;\n",
       "    }\n",
       "\n",
       "    .dataframe thead th {\n",
       "        text-align: right;\n",
       "    }\n",
       "</style>\n",
       "<table border=\"1\" class=\"dataframe\">\n",
       "  <thead>\n",
       "    <tr style=\"text-align: right;\">\n",
       "      <th></th>\n",
       "      <th>id</th>\n",
       "      <th>name</th>\n",
       "      <th>url</th>\n",
       "      <th>pictureURL</th>\n",
       "    </tr>\n",
       "  </thead>\n",
       "  <tbody>\n",
       "    <tr>\n",
       "      <th>0</th>\n",
       "      <td>0</td>\n",
       "      <td>MALICE MIZER</td>\n",
       "      <td>http://www.last.fm/music/MALICE+MIZER</td>\n",
       "      <td>http://userserve-ak.last.fm/serve/252/10808.jpg</td>\n",
       "    </tr>\n",
       "    <tr>\n",
       "      <th>1</th>\n",
       "      <td>1</td>\n",
       "      <td>Diary of Dreams</td>\n",
       "      <td>http://www.last.fm/music/Diary+of+Dreams</td>\n",
       "      <td>http://userserve-ak.last.fm/serve/252/3052066.jpg</td>\n",
       "    </tr>\n",
       "    <tr>\n",
       "      <th>2</th>\n",
       "      <td>2</td>\n",
       "      <td>Carpathian Forest</td>\n",
       "      <td>http://www.last.fm/music/Carpathian+Forest</td>\n",
       "      <td>http://userserve-ak.last.fm/serve/252/40222717...</td>\n",
       "    </tr>\n",
       "    <tr>\n",
       "      <th>3</th>\n",
       "      <td>3</td>\n",
       "      <td>Moi dix Mois</td>\n",
       "      <td>http://www.last.fm/music/Moi+dix+Mois</td>\n",
       "      <td>http://userserve-ak.last.fm/serve/252/54697835...</td>\n",
       "    </tr>\n",
       "    <tr>\n",
       "      <th>4</th>\n",
       "      <td>4</td>\n",
       "      <td>Bella Morte</td>\n",
       "      <td>http://www.last.fm/music/Bella+Morte</td>\n",
       "      <td>http://userserve-ak.last.fm/serve/252/14789013...</td>\n",
       "    </tr>\n",
       "  </tbody>\n",
       "</table>\n",
       "</div>"
      ],
      "text/plain": [
       "   id               name                                         url  \\\n",
       "0   0       MALICE MIZER       http://www.last.fm/music/MALICE+MIZER   \n",
       "1   1    Diary of Dreams    http://www.last.fm/music/Diary+of+Dreams   \n",
       "2   2  Carpathian Forest  http://www.last.fm/music/Carpathian+Forest   \n",
       "3   3       Moi dix Mois       http://www.last.fm/music/Moi+dix+Mois   \n",
       "4   4        Bella Morte        http://www.last.fm/music/Bella+Morte   \n",
       "\n",
       "                                          pictureURL  \n",
       "0    http://userserve-ak.last.fm/serve/252/10808.jpg  \n",
       "1  http://userserve-ak.last.fm/serve/252/3052066.jpg  \n",
       "2  http://userserve-ak.last.fm/serve/252/40222717...  \n",
       "3  http://userserve-ak.last.fm/serve/252/54697835...  \n",
       "4  http://userserve-ak.last.fm/serve/252/14789013...  "
      ]
     },
     "execution_count": 31,
     "metadata": {},
     "output_type": "execute_result"
    }
   ],
   "source": [
    "import pandas as pd\n",
    "\n",
    "artists = pd.read_csv('dataset/remapped/artists.csv')\n",
    "tags = pd.read_csv('dataset/remapped/tags.csv')\n",
    "user_artists = pd.read_csv('dataset/remapped/user_artists.csv')\n",
    "user_tags = pd.read_csv('dataset/remapped/user_tags.csv')\n",
    "\n",
    "print(f\"Original length: {len(user_artists)}\")\n",
    "artists.head()"
   ]
  },
  {
   "cell_type": "code",
   "execution_count": 3,
   "metadata": {},
   "outputs": [
    {
     "name": "stdout",
     "output_type": "stream",
     "text": [
      "Artists in user_artists but not in user_tags: 5499\n",
      "Artists in user_tags but not in user_artists: 0\n"
     ]
    }
   ],
   "source": [
    "user_artist_ids = set(user_artists['artistID'].unique())\n",
    "user_tag_artist_ids = set(user_tags['artistID'].unique())\n",
    "\n",
    "# Step 2: Find discrepancies\n",
    "missing_in_user_tags = user_artist_ids - user_tag_artist_ids\n",
    "missing_in_user_artists = user_tag_artist_ids - user_artist_ids\n",
    "\n",
    "# Print debug information\n",
    "print(f\"Artists in user_artists but not in user_tags: {len(missing_in_user_tags)}\")\n",
    "print(f\"Artists in user_tags but not in user_artists: {len(missing_in_user_artists)}\")\n",
    "\n",
    "user_artists = user_artists[~user_artists['artistID'].isin(missing_in_user_tags)]\n",
    "user_tags = user_tags[~user_tags['artistID'].isin(missing_in_user_artists)]\n"
   ]
  },
  {
   "cell_type": "code",
   "execution_count": 4,
   "metadata": {},
   "outputs": [
    {
     "data": {
      "text/plain": [
       "(1892, 17631)"
      ]
     },
     "execution_count": 4,
     "metadata": {},
     "output_type": "execute_result"
    }
   ],
   "source": [
    "import numpy as np\n",
    "from scipy.sparse import coo_matrix\n",
    "\n",
    "def build_user_item_matrix(user_artists):\n",
    "    users = user_artists['userID'].values\n",
    "    items = user_artists['artistID'].values\n",
    "    weights = user_artists['weight'].values\n",
    "\n",
    "    num_users = users.max() + 1\n",
    "    num_items = items.max() + 1\n",
    "\n",
    "    user_item_matrix = coo_matrix((weights, (users, items)), shape=(num_users, num_items))\n",
    "    return user_item_matrix\n",
    "\n",
    "user_item_matrix = build_user_item_matrix(user_artists)\n",
    "user_item_matrix.shape"
   ]
  },
  {
   "cell_type": "code",
   "execution_count": 5,
   "metadata": {},
   "outputs": [],
   "source": [
    "from lightfm import LightFM\n",
    "from lightfm.data import Dataset\n",
    "from lightfm.cross_validation import random_train_test_split\n",
    "from lightfm.evaluation import precision_at_k, recall_at_k\n",
    "\n",
    "train, test = random_train_test_split(user_item_matrix, test_percentage=0.2)\n"
   ]
  },
  {
   "cell_type": "code",
   "execution_count": 6,
   "metadata": {},
   "outputs": [],
   "source": [
    "model = LightFM(loss='warp')"
   ]
  },
  {
   "cell_type": "code",
   "execution_count": 7,
   "metadata": {},
   "outputs": [],
   "source": [
    "EPOCHS = 10\n",
    "THREADS = 16"
   ]
  },
  {
   "cell_type": "code",
   "execution_count": 75,
   "metadata": {},
   "outputs": [
    {
     "name": "stdout",
     "output_type": "stream",
     "text": [
      "Finished fit\n"
     ]
    }
   ],
   "source": [
    "model.fit(train, epochs=EPOCHS, num_threads=THREADS)\n",
    "print('Finished fit')"
   ]
  },
  {
   "cell_type": "code",
   "execution_count": 17,
   "metadata": {},
   "outputs": [
    {
     "name": "stdout",
     "output_type": "stream",
     "text": [
      "Precision: 0.43\n"
     ]
    }
   ],
   "source": [
    "precision = precision_at_k(model, train, k=5).mean()\n",
    "print(f\"Precision: {precision:.2f}\")"
   ]
  },
  {
   "cell_type": "code",
   "execution_count": 8,
   "metadata": {},
   "outputs": [],
   "source": [
    "# Using lightfm dataset format\n",
    "max_item_id = user_item_matrix.shape[1]\n",
    "max_user_id = user_item_matrix.shape[0]"
   ]
  },
  {
   "cell_type": "code",
   "execution_count": 9,
   "metadata": {},
   "outputs": [
    {
     "ename": "ValueError",
     "evalue": "You must fit the model before trying to obtain predictions.",
     "output_type": "error",
     "traceback": [
      "\u001b[0;31m---------------------------------------------------------------------------\u001b[0m",
      "\u001b[0;31mValueError\u001b[0m                                Traceback (most recent call last)",
      "Cell \u001b[0;32mIn[9], line 47\u001b[0m\n\u001b[1;32m     45\u001b[0m user_to_recommend \u001b[38;5;241m=\u001b[39m \u001b[38;5;241m2\u001b[39m\n\u001b[1;32m     46\u001b[0m \u001b[38;5;66;03m# Example usage\u001b[39;00m\n\u001b[0;32m---> 47\u001b[0m top_artists \u001b[38;5;241m=\u001b[39m \u001b[43mrecommend_artists_for_user\u001b[49m\u001b[43m(\u001b[49m\n\u001b[1;32m     48\u001b[0m \u001b[43m    \u001b[49m\u001b[43mmodel\u001b[49m\u001b[38;5;241;43m=\u001b[39;49m\u001b[43mmodel\u001b[49m\u001b[43m,\u001b[49m\n\u001b[1;32m     49\u001b[0m \u001b[43m    \u001b[49m\u001b[43muser_id\u001b[49m\u001b[38;5;241;43m=\u001b[39;49m\u001b[43muser_to_recommend\u001b[49m\u001b[43m,\u001b[49m\n\u001b[1;32m     50\u001b[0m \u001b[43m    \u001b[49m\u001b[43muser_artists\u001b[49m\u001b[38;5;241;43m=\u001b[39;49m\u001b[43muser_artists\u001b[49m\u001b[43m,\u001b[49m\n\u001b[1;32m     51\u001b[0m \u001b[43m    \u001b[49m\u001b[43martists\u001b[49m\u001b[38;5;241;43m=\u001b[39;49m\u001b[43martists\u001b[49m\u001b[43m,\u001b[49m\n\u001b[1;32m     52\u001b[0m \u001b[43m    \u001b[49m\u001b[43mmax_item_id\u001b[49m\u001b[38;5;241;43m=\u001b[39;49m\u001b[43mmax_item_id\u001b[49m\u001b[43m,\u001b[49m\n\u001b[1;32m     53\u001b[0m \u001b[43m    \u001b[49m\u001b[43mk\u001b[49m\u001b[38;5;241;43m=\u001b[39;49m\u001b[38;5;241;43m10\u001b[39;49m\u001b[43m,\u001b[49m\n\u001b[1;32m     54\u001b[0m \u001b[43m    \u001b[49m\u001b[43mthreads\u001b[49m\u001b[38;5;241;43m=\u001b[39;49m\u001b[43mTHREADS\u001b[49m\n\u001b[1;32m     55\u001b[0m \u001b[43m)\u001b[49m\n\u001b[1;32m     57\u001b[0m \u001b[38;5;28mprint\u001b[39m(\u001b[38;5;124m\"\u001b[39m\u001b[38;5;124mTop recommended artists:\u001b[39m\u001b[38;5;124m\"\u001b[39m, top_artists)\n",
      "Cell \u001b[0;32mIn[9], line 31\u001b[0m, in \u001b[0;36mrecommend_artists_for_user\u001b[0;34m(model, user_id, user_artists, artists, max_item_id, k, threads)\u001b[0m\n\u001b[1;32m     28\u001b[0m user_ids \u001b[38;5;241m=\u001b[39m np\u001b[38;5;241m.\u001b[39mfull(\u001b[38;5;28mlen\u001b[39m(artist_ids_to_predict), user_id, dtype\u001b[38;5;241m=\u001b[39mnp\u001b[38;5;241m.\u001b[39mint32)\n\u001b[1;32m     30\u001b[0m \u001b[38;5;66;03m# Generate predictions for the user\u001b[39;00m\n\u001b[0;32m---> 31\u001b[0m predictions \u001b[38;5;241m=\u001b[39m \u001b[43mmodel\u001b[49m\u001b[38;5;241;43m.\u001b[39;49m\u001b[43mpredict\u001b[49m\u001b[43m(\u001b[49m\n\u001b[1;32m     32\u001b[0m \u001b[43m    \u001b[49m\u001b[43muser_ids\u001b[49m\u001b[43m,\u001b[49m\n\u001b[1;32m     33\u001b[0m \u001b[43m    \u001b[49m\u001b[43martist_ids_to_predict\u001b[49m\u001b[43m,\u001b[49m\n\u001b[1;32m     34\u001b[0m \u001b[43m    \u001b[49m\u001b[43mnum_threads\u001b[49m\u001b[38;5;241;43m=\u001b[39;49m\u001b[43mthreads\u001b[49m\n\u001b[1;32m     35\u001b[0m \u001b[43m\u001b[49m\u001b[43m)\u001b[49m\n\u001b[1;32m     37\u001b[0m \u001b[38;5;66;03m# Get the top-k artist IDs sorted by prediction scores\u001b[39;00m\n\u001b[1;32m     38\u001b[0m top_artist_ids \u001b[38;5;241m=\u001b[39m artist_ids_to_predict[np\u001b[38;5;241m.\u001b[39margsort(\u001b[38;5;241m-\u001b[39mpredictions)][:k]\n",
      "File \u001b[0;32m~/.local/lib/python3.12/site-packages/lightfm/lightfm.py:819\u001b[0m, in \u001b[0;36mLightFM.predict\u001b[0;34m(self, user_ids, item_ids, item_features, user_features, num_threads)\u001b[0m\n\u001b[1;32m    761\u001b[0m \u001b[38;5;28;01mdef\u001b[39;00m \u001b[38;5;21mpredict\u001b[39m(\n\u001b[1;32m    762\u001b[0m     \u001b[38;5;28mself\u001b[39m, user_ids, item_ids, item_features\u001b[38;5;241m=\u001b[39m\u001b[38;5;28;01mNone\u001b[39;00m, user_features\u001b[38;5;241m=\u001b[39m\u001b[38;5;28;01mNone\u001b[39;00m, num_threads\u001b[38;5;241m=\u001b[39m\u001b[38;5;241m1\u001b[39m\n\u001b[1;32m    763\u001b[0m ):\n\u001b[1;32m    764\u001b[0m \u001b[38;5;250m    \u001b[39m\u001b[38;5;124;03m\"\"\"\u001b[39;00m\n\u001b[1;32m    765\u001b[0m \u001b[38;5;124;03m    Compute the recommendation score for user-item pairs.\u001b[39;00m\n\u001b[1;32m    766\u001b[0m \n\u001b[0;32m   (...)\u001b[0m\n\u001b[1;32m    816\u001b[0m \n\u001b[1;32m    817\u001b[0m \u001b[38;5;124;03m    \"\"\"\u001b[39;00m\n\u001b[0;32m--> 819\u001b[0m     \u001b[38;5;28;43mself\u001b[39;49m\u001b[38;5;241;43m.\u001b[39;49m\u001b[43m_check_initialized\u001b[49m\u001b[43m(\u001b[49m\u001b[43m)\u001b[49m\n\u001b[1;32m    821\u001b[0m     \u001b[38;5;28;01mif\u001b[39;00m \u001b[38;5;28misinstance\u001b[39m(user_ids, \u001b[38;5;28mint\u001b[39m):\n\u001b[1;32m    822\u001b[0m         user_ids \u001b[38;5;241m=\u001b[39m np\u001b[38;5;241m.\u001b[39mrepeat(np\u001b[38;5;241m.\u001b[39mint32(user_ids), \u001b[38;5;28mlen\u001b[39m(item_ids))\n",
      "File \u001b[0;32m~/.local/lib/python3.12/site-packages/lightfm/lightfm.py:277\u001b[0m, in \u001b[0;36mLightFM._check_initialized\u001b[0;34m(self)\u001b[0m\n\u001b[1;32m    261\u001b[0m \u001b[38;5;28;01mfor\u001b[39;00m var \u001b[38;5;129;01min\u001b[39;00m (\n\u001b[1;32m    262\u001b[0m     \u001b[38;5;28mself\u001b[39m\u001b[38;5;241m.\u001b[39mitem_embeddings,\n\u001b[1;32m    263\u001b[0m     \u001b[38;5;28mself\u001b[39m\u001b[38;5;241m.\u001b[39mitem_embedding_gradients,\n\u001b[0;32m   (...)\u001b[0m\n\u001b[1;32m    273\u001b[0m     \u001b[38;5;28mself\u001b[39m\u001b[38;5;241m.\u001b[39muser_bias_momentum,\n\u001b[1;32m    274\u001b[0m ):\n\u001b[1;32m    276\u001b[0m     \u001b[38;5;28;01mif\u001b[39;00m var \u001b[38;5;129;01mis\u001b[39;00m \u001b[38;5;28;01mNone\u001b[39;00m:\n\u001b[0;32m--> 277\u001b[0m         \u001b[38;5;28;01mraise\u001b[39;00m \u001b[38;5;167;01mValueError\u001b[39;00m(\n\u001b[1;32m    278\u001b[0m             \u001b[38;5;124m\"\u001b[39m\u001b[38;5;124mYou must fit the model before \u001b[39m\u001b[38;5;124m\"\u001b[39m \u001b[38;5;124m\"\u001b[39m\u001b[38;5;124mtrying to obtain predictions.\u001b[39m\u001b[38;5;124m\"\u001b[39m\n\u001b[1;32m    279\u001b[0m         )\n",
      "\u001b[0;31mValueError\u001b[0m: You must fit the model before trying to obtain predictions."
     ]
    }
   ],
   "source": [
    "# make a prediction\n",
    "import numpy as np\n",
    "\n",
    "def recommend_artists_for_user(model, user_id, user_artists, artists, max_item_id, k=5, threads=1):\n",
    "    \"\"\"\n",
    "    Recommend artists for a specific user.\n",
    "\n",
    "    Parameters:\n",
    "        model (LightFM): Trained LightFM model.\n",
    "        user_id (int): User ID for which to make recommendations.\n",
    "        user_artists (DataFrame): DataFrame with user-artist interactions. Should contain 'userID' and 'artistID' columns.\n",
    "        artists (DataFrame): DataFrame with artist information. Should contain 'artistID' and 'name' columns.\n",
    "        max_item_id (int): Maximum artist ID in the dataset.\n",
    "        k (int): Number of recommendations to return.\n",
    "        threads (int): Number of threads to use for prediction.\n",
    "\n",
    "    Returns:\n",
    "        list: List of top artist names recommended for the user.\n",
    "    \"\"\"\n",
    "    # Get the user's interacted artist IDs\n",
    "    user_artist_ids = user_artists[user_artists['userID'] == user_id]['artistID'].values\n",
    "\n",
    "    # Identify artist IDs that the user hasn't interacted with\n",
    "    all_artist_ids = np.arange(max_item_id)\n",
    "    artist_ids_to_predict = np.setdiff1d(all_artist_ids, user_artist_ids)\n",
    "\n",
    "    # Create a single-user array for prediction\n",
    "    user_ids = np.full(len(artist_ids_to_predict), user_id, dtype=np.int32)\n",
    "\n",
    "    # Generate predictions for the user\n",
    "    predictions = model.predict(\n",
    "        user_ids,\n",
    "        artist_ids_to_predict,\n",
    "        num_threads=threads\n",
    "    )\n",
    "\n",
    "    # Get the top-k artist IDs sorted by prediction scores\n",
    "    top_artist_ids = artist_ids_to_predict[np.argsort(-predictions)][:k]\n",
    "    \n",
    "    # Retrieve artist names for the top-k predictions\n",
    "    top_artists = artists.set_index('id').loc[top_artist_ids]['name'].values\n",
    "    return top_artists.tolist()\n",
    "\n",
    "\n",
    "user_to_recommend = 2\n",
    "# Example usage\n",
    "top_artists = recommend_artists_for_user(\n",
    "    model=model,\n",
    "    user_id=user_to_recommend,\n",
    "    user_artists=user_artists,\n",
    "    artists=artists,\n",
    "    max_item_id=max_item_id,\n",
    "    k=10,\n",
    "    threads=THREADS\n",
    ")\n",
    "\n",
    "print(\"Top recommended artists:\", top_artists)\n"
   ]
  },
  {
   "cell_type": "code",
   "execution_count": 10,
   "metadata": {},
   "outputs": [
    {
     "data": {
      "text/html": [
       "<div>\n",
       "<style scoped>\n",
       "    .dataframe tbody tr th:only-of-type {\n",
       "        vertical-align: middle;\n",
       "    }\n",
       "\n",
       "    .dataframe tbody tr th {\n",
       "        vertical-align: top;\n",
       "    }\n",
       "\n",
       "    .dataframe thead th {\n",
       "        text-align: right;\n",
       "    }\n",
       "</style>\n",
       "<table border=\"1\" class=\"dataframe\">\n",
       "  <thead>\n",
       "    <tr style=\"text-align: right;\">\n",
       "      <th></th>\n",
       "      <th>name</th>\n",
       "      <th>weight</th>\n",
       "    </tr>\n",
       "  </thead>\n",
       "  <tbody>\n",
       "    <tr>\n",
       "      <th>5</th>\n",
       "      <td>Depeche Mode</td>\n",
       "      <td>4983</td>\n",
       "    </tr>\n",
       "    <tr>\n",
       "      <th>7</th>\n",
       "      <td>Deep Forest</td>\n",
       "      <td>1807</td>\n",
       "    </tr>\n",
       "    <tr>\n",
       "      <th>8</th>\n",
       "      <td>Porcupine Tree</td>\n",
       "      <td>1208</td>\n",
       "    </tr>\n",
       "    <tr>\n",
       "      <th>9</th>\n",
       "      <td>De/Vision</td>\n",
       "      <td>903</td>\n",
       "    </tr>\n",
       "    <tr>\n",
       "      <th>10</th>\n",
       "      <td>Radiohead</td>\n",
       "      <td>826</td>\n",
       "    </tr>\n",
       "    <tr>\n",
       "      <th>11</th>\n",
       "      <td>Robbie Williams</td>\n",
       "      <td>777</td>\n",
       "    </tr>\n",
       "    <tr>\n",
       "      <th>12</th>\n",
       "      <td>VAST</td>\n",
       "      <td>743</td>\n",
       "    </tr>\n",
       "    <tr>\n",
       "      <th>13</th>\n",
       "      <td>Michael Jackson</td>\n",
       "      <td>732</td>\n",
       "    </tr>\n",
       "    <tr>\n",
       "      <th>14</th>\n",
       "      <td>עברי לידר</td>\n",
       "      <td>729</td>\n",
       "    </tr>\n",
       "    <tr>\n",
       "      <th>15</th>\n",
       "      <td>The Cure</td>\n",
       "      <td>724</td>\n",
       "    </tr>\n",
       "    <tr>\n",
       "      <th>16</th>\n",
       "      <td>אביב גפן</td>\n",
       "      <td>712</td>\n",
       "    </tr>\n",
       "    <tr>\n",
       "      <th>1</th>\n",
       "      <td>Air</td>\n",
       "      <td>686</td>\n",
       "    </tr>\n",
       "    <tr>\n",
       "      <th>17</th>\n",
       "      <td>Enrique Iglesias</td>\n",
       "      <td>632</td>\n",
       "    </tr>\n",
       "    <tr>\n",
       "      <th>18</th>\n",
       "      <td>God Is an Astronaut</td>\n",
       "      <td>524</td>\n",
       "    </tr>\n",
       "    <tr>\n",
       "      <th>19</th>\n",
       "      <td>Pink Floyd</td>\n",
       "      <td>465</td>\n",
       "    </tr>\n",
       "    <tr>\n",
       "      <th>20</th>\n",
       "      <td>יוני בלוך</td>\n",
       "      <td>455</td>\n",
       "    </tr>\n",
       "    <tr>\n",
       "      <th>21</th>\n",
       "      <td>Planet Funk</td>\n",
       "      <td>446</td>\n",
       "    </tr>\n",
       "    <tr>\n",
       "      <th>22</th>\n",
       "      <td>The Cranberries</td>\n",
       "      <td>445</td>\n",
       "    </tr>\n",
       "    <tr>\n",
       "      <th>2</th>\n",
       "      <td>Röyksopp</td>\n",
       "      <td>420</td>\n",
       "    </tr>\n",
       "    <tr>\n",
       "      <th>23</th>\n",
       "      <td>Scissor Sisters</td>\n",
       "      <td>407</td>\n",
       "    </tr>\n",
       "    <tr>\n",
       "      <th>6</th>\n",
       "      <td>George Michael</td>\n",
       "      <td>396</td>\n",
       "    </tr>\n",
       "    <tr>\n",
       "      <th>4</th>\n",
       "      <td>Moby</td>\n",
       "      <td>389</td>\n",
       "    </tr>\n",
       "    <tr>\n",
       "      <th>24</th>\n",
       "      <td>Mew</td>\n",
       "      <td>366</td>\n",
       "    </tr>\n",
       "    <tr>\n",
       "      <th>25</th>\n",
       "      <td>Stereophonics</td>\n",
       "      <td>359</td>\n",
       "    </tr>\n",
       "    <tr>\n",
       "      <th>26</th>\n",
       "      <td>Garbage</td>\n",
       "      <td>309</td>\n",
       "    </tr>\n",
       "    <tr>\n",
       "      <th>3</th>\n",
       "      <td>Coldplay</td>\n",
       "      <td>301</td>\n",
       "    </tr>\n",
       "    <tr>\n",
       "      <th>27</th>\n",
       "      <td>Placebo</td>\n",
       "      <td>292</td>\n",
       "    </tr>\n",
       "    <tr>\n",
       "      <th>28</th>\n",
       "      <td>Infected Mushroom</td>\n",
       "      <td>287</td>\n",
       "    </tr>\n",
       "    <tr>\n",
       "      <th>29</th>\n",
       "      <td>Delerium</td>\n",
       "      <td>285</td>\n",
       "    </tr>\n",
       "    <tr>\n",
       "      <th>30</th>\n",
       "      <td>Scorpions</td>\n",
       "      <td>284</td>\n",
       "    </tr>\n",
       "    <tr>\n",
       "      <th>31</th>\n",
       "      <td>Dolores O'Riordan</td>\n",
       "      <td>279</td>\n",
       "    </tr>\n",
       "    <tr>\n",
       "      <th>32</th>\n",
       "      <td>Tommy Lee</td>\n",
       "      <td>264</td>\n",
       "    </tr>\n",
       "    <tr>\n",
       "      <th>33</th>\n",
       "      <td>Roxette</td>\n",
       "      <td>256</td>\n",
       "    </tr>\n",
       "    <tr>\n",
       "      <th>34</th>\n",
       "      <td>Paradise Lost</td>\n",
       "      <td>255</td>\n",
       "    </tr>\n",
       "    <tr>\n",
       "      <th>35</th>\n",
       "      <td>Keane</td>\n",
       "      <td>254</td>\n",
       "    </tr>\n",
       "    <tr>\n",
       "      <th>36</th>\n",
       "      <td>Jamiroquai</td>\n",
       "      <td>253</td>\n",
       "    </tr>\n",
       "    <tr>\n",
       "      <th>37</th>\n",
       "      <td>James Blunt</td>\n",
       "      <td>247</td>\n",
       "    </tr>\n",
       "    <tr>\n",
       "      <th>38</th>\n",
       "      <td>Reamonn</td>\n",
       "      <td>240</td>\n",
       "    </tr>\n",
       "    <tr>\n",
       "      <th>39</th>\n",
       "      <td>Blackfield</td>\n",
       "      <td>236</td>\n",
       "    </tr>\n",
       "    <tr>\n",
       "      <th>0</th>\n",
       "      <td>Duran Duran</td>\n",
       "      <td>228</td>\n",
       "    </tr>\n",
       "    <tr>\n",
       "      <th>40</th>\n",
       "      <td>a-ha</td>\n",
       "      <td>223</td>\n",
       "    </tr>\n",
       "    <tr>\n",
       "      <th>41</th>\n",
       "      <td>Opeth</td>\n",
       "      <td>221</td>\n",
       "    </tr>\n",
       "    <tr>\n",
       "      <th>42</th>\n",
       "      <td>Poets of the Fall</td>\n",
       "      <td>210</td>\n",
       "    </tr>\n",
       "    <tr>\n",
       "      <th>43</th>\n",
       "      <td>Muse</td>\n",
       "      <td>208</td>\n",
       "    </tr>\n",
       "    <tr>\n",
       "      <th>44</th>\n",
       "      <td>OneRepublic</td>\n",
       "      <td>202</td>\n",
       "    </tr>\n",
       "    <tr>\n",
       "      <th>45</th>\n",
       "      <td>Elton John</td>\n",
       "      <td>197</td>\n",
       "    </tr>\n",
       "    <tr>\n",
       "      <th>46</th>\n",
       "      <td>Tears for Fears</td>\n",
       "      <td>193</td>\n",
       "    </tr>\n",
       "  </tbody>\n",
       "</table>\n",
       "</div>"
      ],
      "text/plain": [
       "                   name  weight\n",
       "5          Depeche Mode    4983\n",
       "7           Deep Forest    1807\n",
       "8        Porcupine Tree    1208\n",
       "9             De/Vision     903\n",
       "10            Radiohead     826\n",
       "11      Robbie Williams     777\n",
       "12                 VAST     743\n",
       "13      Michael Jackson     732\n",
       "14            עברי לידר     729\n",
       "15             The Cure     724\n",
       "16             אביב גפן     712\n",
       "1                   Air     686\n",
       "17     Enrique Iglesias     632\n",
       "18  God Is an Astronaut     524\n",
       "19           Pink Floyd     465\n",
       "20            יוני בלוך     455\n",
       "21          Planet Funk     446\n",
       "22      The Cranberries     445\n",
       "2              Röyksopp     420\n",
       "23      Scissor Sisters     407\n",
       "6        George Michael     396\n",
       "4                  Moby     389\n",
       "24                  Mew     366\n",
       "25        Stereophonics     359\n",
       "26              Garbage     309\n",
       "3              Coldplay     301\n",
       "27              Placebo     292\n",
       "28    Infected Mushroom     287\n",
       "29             Delerium     285\n",
       "30            Scorpions     284\n",
       "31    Dolores O'Riordan     279\n",
       "32            Tommy Lee     264\n",
       "33              Roxette     256\n",
       "34        Paradise Lost     255\n",
       "35                Keane     254\n",
       "36           Jamiroquai     253\n",
       "37          James Blunt     247\n",
       "38              Reamonn     240\n",
       "39           Blackfield     236\n",
       "0           Duran Duran     228\n",
       "40                 a-ha     223\n",
       "41                Opeth     221\n",
       "42    Poets of the Fall     210\n",
       "43                 Muse     208\n",
       "44          OneRepublic     202\n",
       "45           Elton John     197\n",
       "46      Tears for Fears     193"
      ]
     },
     "execution_count": 10,
     "metadata": {},
     "output_type": "execute_result"
    }
   ],
   "source": [
    "# Now, we show top 10 artists for the previous user (not predictions)\n",
    "user_artists[user_artists['userID'] == user_to_recommend].merge(artists, left_on='artistID', right_on='id')[['name', 'weight']].sort_values(by='weight', ascending=False)\n",
    "\n"
   ]
  },
  {
   "cell_type": "code",
   "execution_count": 11,
   "metadata": {},
   "outputs": [
    {
     "name": "stdout",
     "output_type": "stream",
     "text": [
      "Interactions Matrix Shape: (1892, 12133)\n",
      "Weights Matrix Shape: (1892, 12133)\n"
     ]
    }
   ],
   "source": [
    "from lightfm.data import Dataset\n",
    "\n",
    "dataset = Dataset(user_identity_features=False, item_identity_features=True)\n",
    "\n",
    "dataset.fit(users=user_artists['userID'].unique(),\n",
    "            items=user_artists['artistID'].unique())\n",
    "\n",
    "(interactions, weights) = dataset.build_interactions(\n",
    "    zip(user_artists['userID'], user_artists['artistID'], user_artists['weight'])\n",
    ")\n",
    "\n",
    "print(\"Interactions Matrix Shape:\", interactions.shape)\n",
    "print(\"Weights Matrix Shape:\", weights.shape)\n"
   ]
  },
  {
   "cell_type": "code",
   "execution_count": 12,
   "metadata": {},
   "outputs": [],
   "source": [
    "train, test = random_train_test_split(interactions, test_percentage=0.2)"
   ]
  },
  {
   "cell_type": "code",
   "execution_count": 86,
   "metadata": {},
   "outputs": [
    {
     "data": {
      "text/plain": [
       "<lightfm.lightfm.LightFM at 0x7f2f7d3a3dd0>"
      ]
     },
     "execution_count": 86,
     "metadata": {},
     "output_type": "execute_result"
    }
   ],
   "source": [
    "model = LightFM(loss='warp')\n",
    "model.fit(train, epochs=EPOCHS, num_threads=THREADS)\n"
   ]
  },
  {
   "cell_type": "code",
   "execution_count": 90,
   "metadata": {},
   "outputs": [
    {
     "name": "stdout",
     "output_type": "stream",
     "text": [
      "Precision: 0.44\n"
     ]
    }
   ],
   "source": [
    "precision = precision_at_k(model, train, k=5).mean()\n",
    "print(f\"Precision: {precision:.2f}\")"
   ]
  },
  {
   "cell_type": "code",
   "execution_count": 13,
   "metadata": {},
   "outputs": [
    {
     "name": "stdout",
     "output_type": "stream",
     "text": [
      "Missing tagIDs: set()\n"
     ]
    }
   ],
   "source": [
    "missing_tags = set(user_tags['tagID']) - set(tags['tagID'])\n",
    "print(\"Missing tagIDs:\", missing_tags)\n",
    "\n",
    "# Filter out rows with missing tagIDs\n",
    "valid_tagIDs = set(tags['tagID'])\n",
    "user_tags = user_tags[user_tags['tagID'].isin(valid_tagIDs)]\n",
    "\n"
   ]
  },
  {
   "cell_type": "code",
   "execution_count": 14,
   "metadata": {},
   "outputs": [],
   "source": [
    "import pandas as pd\n",
    "from collections import Counter\n",
    "from lightfm.data import Dataset\n",
    "\n",
    "# Step 1: Map tagID to tagValue\n",
    "tag_map = dict(zip(tags['tagID'], tags['tagValue']))\n",
    "\n",
    "# Step 2: Aggregate tags for artists\n",
    "artist_tags = (\n",
    "    user_tags.groupby('artistID')['tagID']\n",
    "    .apply(lambda x: Counter(x).most_common(10))  # Get top 10 tags per artist\n",
    "    .reset_index(name='top_tags')\n",
    ")\n",
    "\n",
    "artist_tags['top_tags'] = artist_tags['top_tags'].apply(\n",
    "    lambda x: [tag_map[tag[0]] for tag in x]  # Replace tagID with tagValue\n",
    ")\n",
    "\n",
    "# Step 3: Aggregate tags for users\n",
    "user_tags_agg = (\n",
    "    user_tags.groupby('userID')['tagID']\n",
    "    .apply(lambda x: Counter(x).most_common(10))  # Get top 10 tags per user\n",
    "    .reset_index(name='top_tags')\n",
    ")\n",
    "\n",
    "user_tags_agg['top_tags'] = user_tags_agg['top_tags'].apply(\n",
    "    lambda x: [tag_map[tag[0]] for tag in x]  # Replace tagID with tagValue\n",
    ")\n"
   ]
  },
  {
   "cell_type": "code",
   "execution_count": 15,
   "metadata": {},
   "outputs": [
    {
     "name": "stdout",
     "output_type": "stream",
     "text": [
      "Empty DataFrame\n",
      "Columns: [artistID, top_tags]\n",
      "Index: []\n",
      "       artistID                                           top_tags\n",
      "0             0  [j-rock, visual kei, gothic, japanese, weeabo,...\n",
      "1             1  [darkwave, german, gothic, seen live, industri...\n",
      "2             2  [black metal, true norwegian black metal, norw...\n",
      "3             3  [j-rock, japanese, visual kei, gothic, metal, ...\n",
      "4             4  [darkwave, gothic, gothic rock, deathrock, cov...\n",
      "...         ...                                                ...\n",
      "12128     17623  [alternative, electronica, trip beat, 80s, noise]\n",
      "12129     17625  [favorite, electronic, trip-hop, rock, alterna...\n",
      "12130     17626                                  [industrial, ebm]\n",
      "12131     17627                         [experimental, dead music]\n",
      "12132     17630  [chillout, ambient, downtempo, avant-garde, tr...\n",
      "\n",
      "[12133 rows x 2 columns]\n"
     ]
    }
   ],
   "source": [
    "print(artist_tags[artist_tags['top_tags'].apply(len) == 0])\n",
    "\n",
    "print(artist_tags)"
   ]
  },
  {
   "cell_type": "code",
   "execution_count": 16,
   "metadata": {},
   "outputs": [
    {
     "name": "stdout",
     "output_type": "stream",
     "text": [
      "Artist Features Shape: (12133, 24079)\n",
      "User Features Shape: (1892, 13838)\n",
      "Interactions Matrix Shape: (1892, 12133)\n"
     ]
    }
   ],
   "source": [
    "# Drop all artists that do not have interactions\n",
    "user_artists = user_artists[user_artists['artistID'].isin(artist_tags['artistID'])]\n",
    "\n",
    "# Step 4: Initialize Dataset and fit user and item mappings\n",
    "dataset = Dataset()\n",
    "dataset.fit(users=user_artists['userID'].unique(),\n",
    "            items=user_artists['artistID'].unique(),\n",
    "            user_features=tags['tagValue'].unique(),\n",
    "            item_features=tags['tagValue'].unique())\n",
    "\n",
    "\n",
    "# Step 5: Build item features (artist embeddings)\n",
    "artist_features = dataset.build_item_features(\n",
    "    [(row['artistID'], row['top_tags']) for _, row in artist_tags.iterrows()]\n",
    ")\n",
    "\n",
    "# Step 6: Build user features (user embeddings)\n",
    "user_features = dataset.build_user_features(\n",
    "    [(row['userID'], row['top_tags']) for _, row in user_tags_agg.iterrows()]\n",
    ")\n",
    "\n",
    "\n",
    "(interactions, weights) = dataset.build_interactions(\n",
    "    zip(user_artists['userID'], user_artists['artistID'], user_artists['weight'])\n",
    ")\n",
    "\n",
    "# Print feature matrix shapes\n",
    "print(\"Artist Features Shape:\", artist_features.shape)\n",
    "print(\"User Features Shape:\", user_features.shape)\n",
    "print(\"Interactions Matrix Shape:\", train.shape)\n"
   ]
  },
  {
   "cell_type": "code",
   "execution_count": 17,
   "metadata": {},
   "outputs": [],
   "source": [
    "train, test = random_train_test_split(interactions, test_percentage=0.2)"
   ]
  },
  {
   "cell_type": "code",
   "execution_count": 149,
   "metadata": {},
   "outputs": [
    {
     "data": {
      "text/plain": [
       "<lightfm.lightfm.LightFM at 0x7f2f7d3a2240>"
      ]
     },
     "execution_count": 149,
     "metadata": {},
     "output_type": "execute_result"
    }
   ],
   "source": [
    "model = LightFM(loss='warp')\n",
    "model.fit(train, item_features=artist_features, user_features=user_features, epochs=10, num_threads=4)"
   ]
  },
  {
   "cell_type": "code",
   "execution_count": 150,
   "metadata": {},
   "outputs": [
    {
     "name": "stdout",
     "output_type": "stream",
     "text": [
      "Precision: 0.40\n"
     ]
    }
   ],
   "source": [
    "precision = precision_at_k(model, train,item_features=artist_features, user_features=user_features, k=5).mean()\n",
    "print(f\"Precision: {precision:.2f}\")"
   ]
  },
  {
   "cell_type": "code",
   "execution_count": 151,
   "metadata": {},
   "outputs": [
    {
     "data": {
      "text/plain": [
       "<lightfm.lightfm.LightFM at 0x7f2f7d3a14f0>"
      ]
     },
     "execution_count": 151,
     "metadata": {},
     "output_type": "execute_result"
    }
   ],
   "source": [
    "# ok, remove user features\n",
    "model = LightFM(loss='warp')\n",
    "model.fit(train, item_features=artist_features, epochs=10, num_threads=4)"
   ]
  },
  {
   "cell_type": "code",
   "execution_count": 152,
   "metadata": {},
   "outputs": [
    {
     "name": "stdout",
     "output_type": "stream",
     "text": [
      "Precision: 0.43\n"
     ]
    }
   ],
   "source": [
    "precision = precision_at_k(model, train, item_features=artist_features, k=5).mean()\n",
    "print(f\"Precision: {precision:.2f}\")\n"
   ]
  },
  {
   "cell_type": "code",
   "execution_count": 22,
   "metadata": {},
   "outputs": [
    {
     "data": {
      "text/plain": [
       "<lightfm.lightfm.LightFM at 0x7f757dbc7b00>"
      ]
     },
     "execution_count": 22,
     "metadata": {},
     "output_type": "execute_result"
    }
   ],
   "source": [
    "longer = LightFM(loss='warp')\n",
    "longer.fit(train,sample_weight= item_features=artist_features, epochs=30, num_threads=4, verbose=True)"
   ]
  },
  {
   "cell_type": "code",
   "execution_count": 45,
   "metadata": {},
   "outputs": [
    {
     "name": "stdout",
     "output_type": "stream",
     "text": [
      "Precision: 0.47\n",
      "Precision Test: 0.12\n",
      "Recall: 0.07\n"
     ]
    }
   ],
   "source": [
    "precision = precision_at_k(longer, train, item_features=artist_features, k=5, num_threads=4).mean()\n",
    "precision_test = precision_at_k(longer, test, item_features=artist_features, k=5,num_threads=4).mean()\n",
    "recall = recall_at_k(longer, train, item_features=artist_features, k=5, num_threads=4).mean()\n",
    "print(f\"Precision: {precision:.2f}\")\n",
    "print(f\"Precision Test: {precision_test:.2f}\")\n",
    "print(f\"Recall: {recall:.2f}\")"
   ]
  },
  {
   "cell_type": "code",
   "execution_count": 46,
   "metadata": {},
   "outputs": [
    {
     "data": {
      "text/plain": [
       "(214, 1959)"
      ]
     },
     "execution_count": 46,
     "metadata": {},
     "output_type": "execute_result"
    }
   ],
   "source": [
    "# let's get item similarity\n",
    "tagsValues = tags['tagValue']\n",
    "\n",
    "# Get top 10 tags for red hot chili peppers and rage against the machine\n",
    "rhcp_id = artists[artists['name'] == 'Red Hot Chili Peppers']['id'].values[0]\n",
    "ratm_id = artists[artists['name'] == 'Rage Against the Machine']['id'].values[0]\n",
    "\n",
    "rhcp_id, ratm_id"
   ]
  },
  {
   "cell_type": "code",
   "execution_count": 47,
   "metadata": {},
   "outputs": [
    {
     "data": {
      "text/plain": [
       "(['rock',\n",
       "  'alternative rock',\n",
       "  'alternative',\n",
       "  'funk',\n",
       "  '90s',\n",
       "  'funk rock',\n",
       "  'classic rock',\n",
       "  'american',\n",
       "  'punk',\n",
       "  'cover'],\n",
       " ['alternative',\n",
       "  'rock',\n",
       "  'alternative rock',\n",
       "  'metal',\n",
       "  '90s',\n",
       "  'nu metal',\n",
       "  'hard rock',\n",
       "  'rapcore',\n",
       "  'alternative metal',\n",
       "  'political'])"
      ]
     },
     "execution_count": 47,
     "metadata": {},
     "output_type": "execute_result"
    }
   ],
   "source": [
    "rhcp_tags = artist_tags[artist_tags['artistID'] == rhcp_id]['top_tags'].values[0]\n",
    "ratm_tags = artist_tags[artist_tags['artistID'] == ratm_id]['top_tags'].values[0]\n",
    "\n",
    "rhcp_tags, ratm_tags"
   ]
  },
  {
   "cell_type": "code",
   "execution_count": 48,
   "metadata": {},
   "outputs": [],
   "source": [
    "new_item_tags = ['funk', 'political', 'alternative rock', 'nu metal', 'funk rock']"
   ]
  },
  {
   "cell_type": "code",
   "execution_count": 49,
   "metadata": {},
   "outputs": [],
   "source": [
    "from sklearn.metrics.pairwise import cosine_similarity\n",
    "\n",
    "# extract item similarities\n",
    "item_biases, item_embeddings = longer.get_item_representations()\n",
    "\n",
    "item_to_item = pd.DataFrame(cosine_similarity(item_embeddings))\n",
    "\n",
    "similar = item_to_item[rhcp_id].sort_values(ascending=False).head(20)\n",
    "\n"
   ]
  },
  {
   "cell_type": "code",
   "execution_count": 50,
   "metadata": {},
   "outputs": [
    {
     "data": {
      "text/plain": [
       "array(['Red Hot Chili Peppers', 'Bob Dylan', 'Kelly Clarkson',\n",
       "       \"The Swingin' Neckbreakers\", 'Kleitman, Michael', 'Maxwell',\n",
       "       '松浦亜弥', 'Acoustic brasil', 'Gladiator Theme', 'Linkin Park',\n",
       "       'Local Natives', 'Gareth Emery', 'John Lee Hooker',\n",
       "       'Good Charlotte', 'Lazy Bitches', 'Buddy Guy & Junior Wells',\n",
       "       'My Chemical Romance', 'Mooncake', 'Tamia', 'Wintersun'],\n",
       "      dtype=object)"
      ]
     },
     "execution_count": 50,
     "metadata": {},
     "output_type": "execute_result"
    }
   ],
   "source": [
    "# Get the names of the top 10 similar artists\n",
    "similar_artists = artists.set_index('id').loc[similar.index]['name'].values\n",
    "\n",
    "similar_artists\n"
   ]
  },
  {
   "cell_type": "code",
   "execution_count": 44,
   "metadata": {},
   "outputs": [
    {
     "name": "stderr",
     "output_type": "stream",
     "text": [
      "Epoch: 100%|██████████| 20/20 [01:03<00:00,  3.18s/it]\n"
     ]
    },
    {
     "name": "stdout",
     "output_type": "stream",
     "text": [
      "['Red Hot Chili Peppers' 'Delta Goodrem' 'Tamia' 'E-40'\n",
      " 'Death Cab for Cutie' 'Animal Collective' 'Richard Marx' 'Lea Michele'\n",
      " 'Unlord' 'Local Natives']\n"
     ]
    }
   ],
   "source": [
    "# Do it again but remove features\n",
    "model = LightFM(loss='warp')\n",
    "model.fit(train, epochs=20, num_threads=4, verbose=True)\n",
    "\n",
    "item_biases, item_embeddings = model.get_item_representations()\n",
    "item_to_item = pd.DataFrame(cosine_similarity(item_embeddings))\n",
    "similar = item_to_item[rhcp_id].sort_values(ascending=False).head(10)\n",
    "print(artists.set_index('id').loc[similar.index]['name'].values)\n"
   ]
  }
 ],
 "metadata": {
  "kernelspec": {
   "display_name": "Python 3",
   "language": "python",
   "name": "python3"
  },
  "language_info": {
   "codemirror_mode": {
    "name": "ipython",
    "version": 3
   },
   "file_extension": ".py",
   "mimetype": "text/x-python",
   "name": "python",
   "nbconvert_exporter": "python",
   "pygments_lexer": "ipython3",
   "version": "3.12.7"
  }
 },
 "nbformat": 4,
 "nbformat_minor": 2
}
