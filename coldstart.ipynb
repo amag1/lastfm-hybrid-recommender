{
 "cells": [
  {
   "cell_type": "code",
   "execution_count": 1,
   "metadata": {},
   "outputs": [
    {
     "name": "stdout",
     "output_type": "stream",
     "text": [
      "Original length: 92834\n"
     ]
    },
    {
     "data": {
      "text/html": [
       "<div>\n",
       "<style scoped>\n",
       "    .dataframe tbody tr th:only-of-type {\n",
       "        vertical-align: middle;\n",
       "    }\n",
       "\n",
       "    .dataframe tbody tr th {\n",
       "        vertical-align: top;\n",
       "    }\n",
       "\n",
       "    .dataframe thead th {\n",
       "        text-align: right;\n",
       "    }\n",
       "</style>\n",
       "<table border=\"1\" class=\"dataframe\">\n",
       "  <thead>\n",
       "    <tr style=\"text-align: right;\">\n",
       "      <th></th>\n",
       "      <th>userID</th>\n",
       "      <th>artistID</th>\n",
       "      <th>weight</th>\n",
       "    </tr>\n",
       "  </thead>\n",
       "  <tbody>\n",
       "    <tr>\n",
       "      <th>0</th>\n",
       "      <td>0</td>\n",
       "      <td>45</td>\n",
       "      <td>13883</td>\n",
       "    </tr>\n",
       "    <tr>\n",
       "      <th>1</th>\n",
       "      <td>0</td>\n",
       "      <td>46</td>\n",
       "      <td>11690</td>\n",
       "    </tr>\n",
       "    <tr>\n",
       "      <th>2</th>\n",
       "      <td>0</td>\n",
       "      <td>47</td>\n",
       "      <td>11351</td>\n",
       "    </tr>\n",
       "    <tr>\n",
       "      <th>3</th>\n",
       "      <td>0</td>\n",
       "      <td>48</td>\n",
       "      <td>10300</td>\n",
       "    </tr>\n",
       "    <tr>\n",
       "      <th>4</th>\n",
       "      <td>0</td>\n",
       "      <td>49</td>\n",
       "      <td>8983</td>\n",
       "    </tr>\n",
       "  </tbody>\n",
       "</table>\n",
       "</div>"
      ],
      "text/plain": [
       "   userID  artistID  weight\n",
       "0       0        45   13883\n",
       "1       0        46   11690\n",
       "2       0        47   11351\n",
       "3       0        48   10300\n",
       "4       0        49    8983"
      ]
     },
     "execution_count": 1,
     "metadata": {},
     "output_type": "execute_result"
    }
   ],
   "source": [
    "import pandas as pd\n",
    "\n",
    "artists = pd.read_csv('dataset/remapped/artists.csv')\n",
    "tags = pd.read_csv('dataset/remapped/tags.csv')\n",
    "user_artists = pd.read_csv('dataset/remapped/user_artists.csv')\n",
    "user_tags = pd.read_csv('dataset/remapped/user_tags.csv')\n",
    "\n",
    "print(f\"Original length: {len(user_artists)}\")\n",
    "user_artists.head()"
   ]
  },
  {
   "cell_type": "code",
   "execution_count": 2,
   "metadata": {},
   "outputs": [
    {
     "data": {
      "text/plain": [
       "(12133, 9719)"
      ]
     },
     "execution_count": 2,
     "metadata": {},
     "output_type": "execute_result"
    }
   ],
   "source": [
    "import numpy as np\n",
    "from scipy.sparse import csr_matrix\n",
    "\n",
    "# Assuming user_tags, tags, and artists DataFrames are already loaded\n",
    "\n",
    "# 1. Get the distribution of tags for each artist\n",
    "artist_tag_distribution = (\n",
    "    user_tags.groupby(['artistID', 'tagID'])\n",
    "    .size()\n",
    "    .unstack(fill_value=0)  # Converts to wide format with tagIDs as columns\n",
    ")\n",
    "artist_tag_distribution.columns.name = None  # Remove column name for clarity\n",
    "artist_tag_distribution.reset_index(inplace=True)  # Make artistID a regular column\n",
    "\n",
    "artist_tag_distribution.shape"
   ]
  },
  {
   "cell_type": "code",
   "execution_count": 3,
   "metadata": {},
   "outputs": [
    {
     "data": {
      "text/html": [
       "<div>\n",
       "<style scoped>\n",
       "    .dataframe tbody tr th:only-of-type {\n",
       "        vertical-align: middle;\n",
       "    }\n",
       "\n",
       "    .dataframe tbody tr th {\n",
       "        vertical-align: top;\n",
       "    }\n",
       "\n",
       "    .dataframe thead th {\n",
       "        text-align: right;\n",
       "    }\n",
       "</style>\n",
       "<table border=\"1\" class=\"dataframe\">\n",
       "  <thead>\n",
       "    <tr style=\"text-align: right;\">\n",
       "      <th></th>\n",
       "      <th>artistID</th>\n",
       "      <th>tagValue</th>\n",
       "    </tr>\n",
       "  </thead>\n",
       "  <tbody>\n",
       "    <tr>\n",
       "      <th>0</th>\n",
       "      <td>0</td>\n",
       "      <td>weeabo jrock j-rock visual kei better than lad...</td>\n",
       "    </tr>\n",
       "    <tr>\n",
       "      <th>1</th>\n",
       "      <td>1</td>\n",
       "      <td>german seen live darkwave industrial german ge...</td>\n",
       "    </tr>\n",
       "    <tr>\n",
       "      <th>2</th>\n",
       "      <td>2</td>\n",
       "      <td>black metal black metal norwegian black metal ...</td>\n",
       "    </tr>\n",
       "    <tr>\n",
       "      <th>3</th>\n",
       "      <td>3</td>\n",
       "      <td>j-rock visual kei metal gothic japanese bazaro...</td>\n",
       "    </tr>\n",
       "    <tr>\n",
       "      <th>4</th>\n",
       "      <td>4</td>\n",
       "      <td>gothic gothic rock darkwave darkwave deathrock...</td>\n",
       "    </tr>\n",
       "  </tbody>\n",
       "</table>\n",
       "</div>"
      ],
      "text/plain": [
       "   artistID                                           tagValue\n",
       "0         0  weeabo jrock j-rock visual kei better than lad...\n",
       "1         1  german seen live darkwave industrial german ge...\n",
       "2         2  black metal black metal norwegian black metal ...\n",
       "3         3  j-rock visual kei metal gothic japanese bazaro...\n",
       "4         4  gothic gothic rock darkwave darkwave deathrock..."
      ]
     },
     "execution_count": 3,
     "metadata": {},
     "output_type": "execute_result"
    }
   ],
   "source": [
    "\n",
    "# 2. Build bag-of-words embeddings\n",
    "# Merge `user_tags` with `tags` to get the tag values\n",
    "user_tags_with_values = user_tags.merge(tags, how='left', left_on='tagID', right_on='tagID')\n",
    "\n",
    "# Combine all tag values for each artist\n",
    "artist_bow = user_tags_with_values.groupby('artistID')['tagValue'].apply(\n",
    "    lambda x: ' '.join(map(str, x))\n",
    ").reset_index()\n",
    "\n",
    "\n",
    "artist_bow.head()"
   ]
  },
  {
   "cell_type": "code",
   "execution_count": 4,
   "metadata": {},
   "outputs": [
    {
     "name": "stdout",
     "output_type": "stream",
     "text": [
      "Embedding dimension: 7592\n"
     ]
    }
   ],
   "source": [
    "\n",
    "# Vectorize using CountVectorizer to build bag-of-words embeddings\n",
    "from sklearn.feature_extraction.text import CountVectorizer\n",
    "\n",
    "vectorizer = CountVectorizer()\n",
    "bow_matrix = vectorizer.fit_transform(artist_bow['tagValue'])\n",
    "\n",
    "embedding_dim = len(vectorizer.get_feature_names_out())\n",
    "print(f\"Embedding dimension: {embedding_dim}\")"
   ]
  },
  {
   "cell_type": "code",
   "execution_count": 68,
   "metadata": {},
   "outputs": [
    {
     "data": {
      "text/plain": [
       "(12133, 7592)"
      ]
     },
     "execution_count": 68,
     "metadata": {},
     "output_type": "execute_result"
    }
   ],
   "source": [
    "# Create a DataFrame with bag-of-words embeddings\n",
    "artist_embeddings = pd.DataFrame.sparse.from_spmatrix(\n",
    "    bow_matrix, columns=vectorizer.get_feature_names_out(), index=artist_bow['artistID']\n",
    ")\n",
    "\n",
    "artist_embeddings.shape\n"
   ]
  },
  {
   "cell_type": "code",
   "execution_count": 71,
   "metadata": {},
   "outputs": [],
   "source": [
    "# Normalize rows in the embedding matrix\n",
    "artist_embeddings = artist_embeddings.div(artist_embeddings.sum(axis=0), axis=1)"
   ]
  },
  {
   "cell_type": "code",
   "execution_count": 72,
   "metadata": {},
   "outputs": [
    {
     "data": {
      "text/plain": [
       "(12133, 7592)"
      ]
     },
     "execution_count": 72,
     "metadata": {},
     "output_type": "execute_result"
    }
   ],
   "source": [
    "artist_embeddings.shape"
   ]
  },
  {
   "cell_type": "code",
   "execution_count": 73,
   "metadata": {},
   "outputs": [
    {
     "name": "stdout",
     "output_type": "stream",
     "text": [
      "Tag distribution by artist:\n",
      "       artistID  0  1  2  3  4  5  6  7  8  ...  11935  11936  11937  11938  \\\n",
      "0             0  0  0  0  0  0  0  0  0  0  ...      0      0      0      0   \n",
      "1             1  0  0  0  0  0  0  0  0  0  ...      0      0      0      0   \n",
      "2             2  0  0  0  3  0  0  0  0  0  ...      0      0      0      0   \n",
      "3             3  2  0  0  0  0  0  1  0  0  ...      0      0      0      0   \n",
      "4             4  0  0  0  0  0  0  0  0  0  ...      0      0      0      0   \n",
      "...         ... .. .. .. .. .. .. .. .. ..  ...    ...    ...    ...    ...   \n",
      "12128     17623  0  0  0  0  0  0  0  0  0  ...      0      0      0      0   \n",
      "12129     17625  0  0  0  0  0  0  0  0  0  ...      0      0      0      0   \n",
      "12130     17626  0  0  0  0  0  0  0  0  0  ...      0      0      0      0   \n",
      "12131     17627  0  0  0  0  0  0  0  0  0  ...      0      0      0      0   \n",
      "12132     17630  0  0  0  0  0  0  0  0  0  ...      0      0      0      0   \n",
      "\n",
      "       11939  11940  11941  11942  11943  11944  \n",
      "0          0      0      0      0      0      0  \n",
      "1          0      0      0      0      0      0  \n",
      "2          0      0      0      0      0      0  \n",
      "3          0      0      0      0      0      0  \n",
      "4          0      0      0      0      0      0  \n",
      "...      ...    ...    ...    ...    ...    ...  \n",
      "12128      0      0      0      0      0      0  \n",
      "12129      0      0      0      0      0      0  \n",
      "12130      0      0      0      0      0      0  \n",
      "12131      0      0      0      0      0      0  \n",
      "12132      0      0      0      0      0      0  \n",
      "\n",
      "[12133 rows x 9719 columns]\n",
      "\n",
      "Bag-of-Words Embeddings for artists:\n",
      "           00  007  00s   01   06   07   08   09   10  100  ...  zombie  \\\n",
      "artistID                                                    ...           \n",
      "0         0.0  0.0  0.0  0.0  0.0  0.0  0.0  0.0  0.0  0.0  ...     0.0   \n",
      "1         0.0  0.0  0.0  0.0  0.0  0.0  0.0  0.0  0.0  0.0  ...     0.0   \n",
      "2         0.0  0.0  0.0  0.0  0.0  0.0  0.0  0.0  0.0  0.0  ...     0.0   \n",
      "3         0.0  0.0  0.0  0.0  0.0  0.0  0.0  0.0  0.0  0.0  ...     0.0   \n",
      "4         0.0  0.0  0.0  0.0  0.0  0.0  0.0  0.0  0.0  0.0  ...     0.0   \n",
      "...       ...  ...  ...  ...  ...  ...  ...  ...  ...  ...  ...     ...   \n",
      "17623     0.0  0.0  0.0  0.0  0.0  0.0  0.0  0.0  0.0  0.0  ...     0.0   \n",
      "17625     0.0  0.0  0.0  0.0  0.0  0.0  0.0  0.0  0.0  0.0  ...     0.0   \n",
      "17626     0.0  0.0  0.0  0.0  0.0  0.0  0.0  0.0  0.0  0.0  ...     0.0   \n",
      "17627     0.0  0.0  0.0  0.0  0.0  0.0  0.0  0.0  0.0  0.0  ...     0.0   \n",
      "17630     0.0  0.0  0.0  0.0  0.0  0.0  0.0  0.0  0.0  0.0  ...     0.0   \n",
      "\n",
      "          zombieland  zone  zoocore  zooey  zorn  zornish  ztt   zu  ärzte  \n",
      "artistID                                                                    \n",
      "0                0.0   0.0      0.0    0.0   0.0      0.0  0.0  0.0    0.0  \n",
      "1                0.0   0.0      0.0    0.0   0.0      0.0  0.0  0.0    0.0  \n",
      "2                0.0   0.0      0.0    0.0   0.0      0.0  0.0  0.0    0.0  \n",
      "3                0.0   0.0      0.0    0.0   0.0      0.0  0.0  0.0    0.0  \n",
      "4                0.0   0.0      0.0    0.0   0.0      0.0  0.0  0.0    0.0  \n",
      "...              ...   ...      ...    ...   ...      ...  ...  ...    ...  \n",
      "17623            0.0   0.0      0.0    0.0   0.0      0.0  0.0  0.0    0.0  \n",
      "17625            0.0   0.0      0.0    0.0   0.0      0.0  0.0  0.0    0.0  \n",
      "17626            0.0   0.0      0.0    0.0   0.0      0.0  0.0  0.0    0.0  \n",
      "17627            0.0   0.0      0.0    0.0   0.0      0.0  0.0  0.0    0.0  \n",
      "17630            0.0   0.0      0.0    0.0   0.0      0.0  0.0  0.0    0.0  \n",
      "\n",
      "[12133 rows x 7592 columns]\n",
      "\n",
      "Sparse matrix shape (artist_count x embedding_dim): (17632, 7592)\n"
     ]
    }
   ],
   "source": [
    "# 3. Build a sparse matrix of shape (artist_count, embedding_dim)\n",
    "# Ensure all artists have rows in the sparse matrix\n",
    "all_artists = artists[['id']].rename(columns={'id': 'artistID'})\n",
    "artist_embeddings_full = all_artists.merge(artist_embeddings, how='left', on='artistID').fillna(0)\n",
    "\n",
    "# Convert to sparse matrix\n",
    "embedding_sparse_matrix = csr_matrix(artist_embeddings_full.drop(columns=['artistID']).values)\n",
    "\n",
    "# Output results\n",
    "print(\"Tag distribution by artist:\")\n",
    "print(artist_tag_distribution)\n",
    "\n",
    "print(\"\\nBag-of-Words Embeddings for artists:\")\n",
    "print(artist_embeddings)\n",
    "\n",
    "print(\"\\nSparse matrix shape (artist_count x embedding_dim):\", embedding_sparse_matrix.shape)\n"
   ]
  },
  {
   "cell_type": "code",
   "execution_count": 74,
   "metadata": {},
   "outputs": [],
   "source": [
    "def get_artist_name(artist_id):\n",
    "    return artists.loc[artists['id'] == artist_id, 'name'].values[0]"
   ]
  },
  {
   "cell_type": "code",
   "execution_count": 75,
   "metadata": {},
   "outputs": [
    {
     "name": "stdout",
     "output_type": "stream",
     "text": [
      "Top similar artists to artist 221:\n",
      "Artist: The Kills, Similarity: 0.0268\n",
      "Artist: Madonna, Similarity: 0.0259\n",
      "Artist: The Cult, Similarity: 0.0250\n",
      "Artist: Kasabian, Similarity: 0.0248\n",
      "Artist: Michelle Williams, Similarity: 0.0201\n"
     ]
    }
   ],
   "source": [
    "from sklearn.metrics.pairwise import cosine_similarity\n",
    "\n",
    "def get_top_k_similar_artists(artist_id, embeddings, artist_index_map, k=5):\n",
    "    \"\"\"\n",
    "    Get the top K most similar artists to the given artist_id.\n",
    "\n",
    "    Parameters:\n",
    "    - artist_id (int): The ID of the artist to find similar artists for.\n",
    "    - embeddings (csr_matrix): The sparse matrix containing artist embeddings.\n",
    "    - artist_index_map (dict): A mapping of artist IDs to row indices in the embeddings matrix.\n",
    "    - k (int): The number of similar artists to return.\n",
    "\n",
    "    Returns:\n",
    "    - List of tuples: [(artist_id, similarity), ...] for the top K similar artists.\n",
    "    \"\"\"\n",
    "    # Ensure the artist ID is in the index map\n",
    "    if artist_id not in artist_index_map:\n",
    "        raise ValueError(f\"Artist ID {artist_id} not found in the embeddings.\")\n",
    "\n",
    "    # Get the index of the given artist\n",
    "    artist_idx = artist_index_map[artist_id]\n",
    "    \n",
    "    # Compute cosine similarity between the given artist and all others\n",
    "    artist_vector = embeddings[artist_idx]  # Sparse row for the given artist\n",
    "    similarities = cosine_similarity(artist_vector, embeddings).flatten()\n",
    "    \n",
    "    # Get the top K similar indices (excluding itself)\n",
    "    similar_indices = similarities.argsort()[::-1]  # Sort in descending order\n",
    "    top_k_indices = [idx for idx in similar_indices if idx != artist_idx][:k]\n",
    "    \n",
    "    # Map indices back to artist IDs and return their similarities\n",
    "    index_artist_map = {v: k for k, v in artist_index_map.items()}\n",
    "    top_k_artists = [(index_artist_map[idx], similarities[idx]) for idx in top_k_indices]\n",
    "\n",
    "    return top_k_artists\n",
    "\n",
    "# Create a mapping of artist IDs to their row indices in the embeddings matrix\n",
    "artist_index_map = {artist_id: idx for idx, artist_id in enumerate(artist_embeddings_full['artistID'])}\n",
    "\n",
    "# Example: Get the top 5 similar artists for a specific artist\n",
    "example_artist_id = 221\n",
    "top_k_similar_artists = get_top_k_similar_artists(example_artist_id, embedding_sparse_matrix, artist_index_map, k=5)\n",
    "\n",
    "# Output results\n",
    "print(f\"Top similar artists to artist {example_artist_id}:\")\n",
    "for artist_id, similarity in top_k_similar_artists:\n",
    "    print(f\"Artist: {get_artist_name(artist_id)}, Similarity: {similarity:.4f}\")\n"
   ]
  },
  {
   "cell_type": "code",
   "execution_count": 76,
   "metadata": {},
   "outputs": [],
   "source": [
    "def get_tag_name(tag_id):\n",
    "    return tags.loc[tags['tagID'] == tag_id, 'tagValue'].values[0]"
   ]
  },
  {
   "cell_type": "code",
   "execution_count": 77,
   "metadata": {},
   "outputs": [
    {
     "name": "stdout",
     "output_type": "stream",
     "text": [
      "Suggested tags for artist 221:\n",
      "Tag: pop, Score: 2.2756\n",
      "Tag: dance, Score: 1.7218\n",
      "Tag: female vocalists, Score: 1.4053\n",
      "Tag: indie, Score: 1.2302\n",
      "Tag: 80s, Score: 1.0840\n",
      "Tag: electronic, Score: 1.0715\n",
      "Tag: rock, Score: 0.9333\n",
      "Tag: alternative, Score: 0.8244\n",
      "Tag: indie rock, Score: 0.7238\n",
      "Tag: 90s, Score: 0.6729\n"
     ]
    }
   ],
   "source": [
    "def suggest_tags_for_artist(artist_id, embeddings, artist_index_map, artist_tag_distribution, tag_names, k=5, top_tags=5):\n",
    "    \"\"\"\n",
    "    Suggest tags for a given artist based on similar artists' tags.\n",
    "\n",
    "    Parameters:\n",
    "    - artist_id (int): The ID of the artist to suggest tags for.\n",
    "    - embeddings (csr_matrix): The sparse matrix containing artist embeddings.\n",
    "    - artist_index_map (dict): A mapping of artist IDs to row indices in the embeddings matrix.\n",
    "    - artist_tag_distribution (pd.DataFrame): Tag distribution (artist x tags).\n",
    "    - tag_names (pd.DataFrame): Mapping of tag IDs to tag names.\n",
    "    - k (int): Number of similar artists to consider for tag suggestions.\n",
    "    - top_tags (int): Number of tags to suggest.\n",
    "\n",
    "    Returns:\n",
    "    - List of tuples: [(tag_id, tag_name, relevance_score), ...] for the suggested tags.\n",
    "    \"\"\"\n",
    "    # Ensure the artist ID is in the index map\n",
    "    if artist_id not in artist_index_map:\n",
    "        raise ValueError(f\"Artist ID {artist_id} not found in the embeddings.\")\n",
    "    \n",
    "    # Get the top K similar artists\n",
    "    similar_artists = get_top_k_similar_artists(artist_id, embeddings, artist_index_map, k=k)\n",
    "    \n",
    "    # Aggregate tag frequencies from similar artists\n",
    "    tag_scores = pd.Series(dtype=float)\n",
    "    for similar_artist_id, similarity in similar_artists:\n",
    "        if similar_artist_id in artist_tag_distribution['artistID'].values:\n",
    "            similar_tags = artist_tag_distribution.loc[\n",
    "                artist_tag_distribution['artistID'] == similar_artist_id\n",
    "            ].drop(columns=['artistID']).iloc[0]\n",
    "            # Weighted score for tags based on similarity\n",
    "            tag_scores = tag_scores.add(similar_tags * similarity, fill_value=0)\n",
    "    \n",
    "    # Sort tags by their weighted scores\n",
    "    suggested_tags = tag_scores.sort_values(ascending=False).head(top_tags)\n",
    "    \n",
    "    return suggested_tags.items()\n",
    "\n",
    "suggested_tags = suggest_tags_for_artist(\n",
    "    example_artist_id, embedding_sparse_matrix, artist_index_map, artist_tag_distribution, tags, k=10, top_tags=10\n",
    ")\n",
    "\n",
    "# Output results\n",
    "print(f\"Suggested tags for artist {example_artist_id}:\")\n",
    "for tag_id, score in suggested_tags:\n",
    "    tag_name = get_tag_name(tag_id)\n",
    "    print(f\"Tag: {tag_name}, Score: {score:.4f}\")"
   ]
  },
  {
   "cell_type": "code",
   "execution_count": 78,
   "metadata": {},
   "outputs": [
    {
     "name": "stdout",
     "output_type": "stream",
     "text": [
      "Explained variance after reduction: 0.3434\n",
      "Reduced embedding for artist ID 221:\n",
      "[ 3.27663044e-04  1.71340024e-04  8.01349483e-04  2.24470574e-04\n",
      " -2.39077543e-05  7.84174424e-04  7.50172173e-06  3.10852493e-05\n",
      " -1.06969254e-04  1.47692868e-02  2.01094398e-05  6.54847324e-02\n",
      " -5.67610833e-04 -1.07471263e-04 -2.26894343e-05 -4.06669174e-05\n",
      " -5.86726854e-06 -2.66673411e-03  7.07894524e-05 -9.30910553e-05\n",
      " -2.82091042e-03 -2.23281883e-04 -3.64230936e-05  1.08697561e-04\n",
      "  1.37487257e-04  2.04007434e-05  6.30574062e-04 -1.77361495e-04\n",
      " -3.89065732e-04  1.53142479e-03 -1.02622045e-03  3.40753774e-04\n",
      " -1.00099655e-04 -9.02488724e-06  5.52115843e-04  1.41962368e-04\n",
      "  3.41582591e-04 -1.04737328e-03  1.53686872e-03  1.05392071e-03\n",
      "  5.81825134e-04  7.36540313e-04 -1.07418517e-03 -1.71384826e-04\n",
      "  7.44782736e-04  7.63983428e-03  1.83397449e-03  9.95477691e-04\n",
      " -1.95255781e-03 -2.76314600e-04  1.52857681e-03  1.57823883e-03\n",
      "  1.64991050e-03 -1.55239587e-03 -1.18222188e-03 -1.49817291e-03\n",
      "  3.10964721e-03 -1.52425535e-03 -1.29796444e-03  2.34492642e-04\n",
      "  9.18889990e-04 -1.18789598e-03 -2.13689652e-03 -1.46868647e-03\n",
      "  2.27471118e-03 -5.34588702e-03  3.57170219e-03 -2.70199519e-03\n",
      "  1.07339040e-03 -1.55302588e-05  3.68542154e-03  4.45609860e-03\n",
      "  2.45550728e-03  8.20170886e-03 -1.15507973e-02  3.63851590e-03\n",
      "  4.84854576e-03  4.69205458e-03 -5.76572881e-03  1.02940035e-02\n",
      "  2.80181601e-03 -1.28130408e-02 -1.91201206e-03  5.54606144e-03\n",
      "  3.67396998e-03 -1.65613419e-03 -1.27765971e-02 -3.68705187e-03\n",
      " -2.64395709e-03  3.50943914e-02  1.44837229e-02  1.96758453e-03\n",
      "  3.40833731e-02  7.54036378e-03 -1.28660955e-02 -8.24783042e-03\n",
      "  6.38117703e-03  8.45992727e-03  7.39405179e-03 -1.14893860e-02\n",
      " -6.85172346e-03  2.88003322e-02  2.16640339e-03  1.05409245e-02\n",
      " -1.10614887e-02  3.04159518e-02 -2.62144131e-02  1.16779227e-02\n",
      " -3.50134190e-02  7.30635225e-03 -2.02947393e-02  2.00959163e-02\n",
      " -2.67870455e-02 -5.68477627e-02  1.16489609e-02 -1.87724845e-02\n",
      " -3.45048305e-02 -6.04730340e-02 -4.82532298e-03 -4.52245124e-03\n",
      " -3.55961375e-02 -1.53919497e-02  4.21151770e-02  3.80823865e-03\n",
      "  2.75303256e-02 -6.96072936e-02 -3.11679712e-02 -1.99893452e-02\n",
      "  5.61834606e-02  3.63154964e-03  1.52569281e-02 -6.39358937e-02\n",
      " -1.40828001e-02  3.35241358e-02  1.46779785e-02 -2.66126899e-03\n",
      " -1.06289898e-01  3.91806914e-03  8.39200646e-02  9.35721150e-02\n",
      "  7.27140685e-02 -7.04433707e-02 -1.00055581e-01 -4.83716243e-03\n",
      "  5.06251840e-03 -9.34476920e-02  4.44219711e-02  3.35335470e-02\n",
      " -2.72204613e-02 -4.56969089e-02 -2.40628136e-02 -8.12502929e-02\n",
      " -4.81318250e-02  4.64228511e-02 -1.28301211e-01 -1.76521683e-01\n",
      "  8.48224844e-02  6.27982085e-02 -1.15015244e-02  4.95724869e-02\n",
      " -6.24443881e-02 -2.19055790e-02 -1.41773863e-01  1.60351827e-01\n",
      " -2.70294595e-02  4.19896797e-02  3.43057000e-02  1.42003958e-01\n",
      " -4.64835800e-02  7.33611744e-02 -1.78582671e-01  1.81620398e-01\n",
      " -7.76366540e-02  1.34151939e-01  2.15248972e-01 -1.98201364e-01\n",
      " -1.73163193e-01  1.14956338e-01  3.74626189e-02  1.77391699e-01\n",
      " -1.58071184e-01 -3.00875648e-01 -1.24953684e-01  3.95076363e-01\n",
      " -3.91015697e-01 -3.03074309e-01  3.61749389e-01  4.36519677e-01\n",
      " -1.25846212e-01  5.14758912e-01  2.38552468e-01  9.91241064e-02\n",
      "  3.40361718e-01  2.38331661e-01  1.71699011e-01  4.46734040e-02\n",
      "  2.39894190e-01  4.42011426e-02 -1.22382549e-01  2.51927012e-01]\n",
      "Shape of reduced embedding matrix: (17632, 200)\n"
     ]
    }
   ],
   "source": [
    "from sklearn.decomposition import TruncatedSVD\n",
    "\n",
    "def reduce_embedding_dimension(embeddings, target_dim=200):\n",
    "    \"\"\"\n",
    "    Reduce the dimension of embeddings to a specified size using Truncated SVD.\n",
    "\n",
    "    Parameters:\n",
    "    - embeddings (csr_matrix): Sparse matrix of artist embeddings.\n",
    "    - target_dim (int): The desired number of dimensions for the reduced embeddings.\n",
    "\n",
    "    Returns:\n",
    "    - reduced_embeddings (np.ndarray): Dense array of reduced embeddings.\n",
    "    \"\"\"\n",
    "    # Initialize Truncated SVD\n",
    "    svd = TruncatedSVD(n_components=target_dim, random_state=42)\n",
    "    \n",
    "    # Fit and transform the sparse matrix\n",
    "    reduced_embeddings = svd.fit_transform(embeddings)\n",
    "    \n",
    "    # Explained variance ratio to ensure the quality of reduction\n",
    "    explained_variance = np.sum(svd.explained_variance_ratio_)\n",
    "    print(f\"Explained variance after reduction: {explained_variance:.4f}\")\n",
    "    \n",
    "    return reduced_embeddings\n",
    "\n",
    "\n",
    "# Reduce the embedding space to 200 dimensions\n",
    "reduced_embeddings = reduce_embedding_dimension(embedding_sparse_matrix, target_dim=200)\n",
    "\n",
    "# Example: Get reduced embedding for artist ID 2\n",
    "artist_idx = artist_index_map[example_artist_id]\n",
    "artist_reduced_embedding = reduced_embeddings[artist_idx]\n",
    "\n",
    "# Output results\n",
    "print(f\"Reduced embedding for artist ID {example_artist_id}:\")\n",
    "print(artist_reduced_embedding)\n",
    "print(f\"Shape of reduced embedding matrix: {reduced_embeddings.shape}\")\n"
   ]
  },
  {
   "cell_type": "code",
   "execution_count": 79,
   "metadata": {},
   "outputs": [
    {
     "name": "stdout",
     "output_type": "stream",
     "text": [
      "Sparse matrix shape: (1892, 17632)\n"
     ]
    }
   ],
   "source": [
    "from scipy.sparse import coo_matrix\n",
    "\n",
    "# Create a sparse matrix for user-artist interactions\n",
    "user_artist_matrix = coo_matrix(\n",
    "    (user_artists['weight'], (user_artists['userID'], user_artists['artistID']))\n",
    ")\n",
    "\n",
    "# Output the shape of the matrix\n",
    "print(f\"Sparse matrix shape: {user_artist_matrix.shape}\")\n"
   ]
  },
  {
   "cell_type": "code",
   "execution_count": 80,
   "metadata": {},
   "outputs": [
    {
     "name": "stdout",
     "output_type": "stream",
     "text": [
      "Interactions matrix shape: (1892, 17632)\n"
     ]
    }
   ],
   "source": [
    "from lightfm.data import Dataset\n",
    "\n",
    "# Initialize the Dataset object\n",
    "dataset = Dataset(user_identity_features=False, item_identity_features=False)\n",
    "\n",
    "# Fit the dataset with users and items\n",
    "# Specify the number of users and items based on the user_artist_matrix\n",
    "num_users, num_artists = user_artist_matrix.shape\n",
    "dataset.fit(\n",
    "    range(num_users),  # User IDs\n",
    "    range(num_artists)  # Artist IDs\n",
    ")\n",
    "\n",
    "# Build interactions and weights matrices\n",
    "(interactions, weights) = dataset.build_interactions(\n",
    "    [(row['userID'], row['artistID'], row['weight']) for _, row in user_artists.iterrows()]\n",
    ")\n",
    "\n",
    "# Output the shape of the interactions matrix\n",
    "print(f\"Interactions matrix shape: {interactions.shape}\")"
   ]
  },
  {
   "cell_type": "code",
   "execution_count": 81,
   "metadata": {},
   "outputs": [
    {
     "name": "stdout",
     "output_type": "stream",
     "text": [
      "Training interactions: 74267\n",
      "Testing interactions: 18567\n"
     ]
    }
   ],
   "source": [
    "from lightfm.cross_validation import random_train_test_split\n",
    "\n",
    "# Split the interactions into training and testing datasets\n",
    "train, test = random_train_test_split(interactions, test_percentage=0.2, random_state=42)\n",
    "trainweighted, testweighted = random_train_test_split(weights, test_percentage=0.2, random_state=42)\n",
    "\n",
    "# Output the number of interactions in train and test\n",
    "print(f\"Training interactions: {train.getnnz()}\")\n",
    "print(f\"Testing interactions: {test.getnnz()}\")"
   ]
  },
  {
   "cell_type": "code",
   "execution_count": 82,
   "metadata": {},
   "outputs": [
    {
     "name": "stdout",
     "output_type": "stream",
     "text": [
      "Item features shape: (17632, 7592)\n"
     ]
    }
   ],
   "source": [
    "from scipy.sparse import csr_matrix\n",
    "\n",
    "# Ensure the embeddings have the same number of items as in the dataset\n",
    "item_features = csr_matrix(embedding_sparse_matrix)\n",
    "\n",
    "# Check the shape of the item_features\n",
    "print(f\"Item features shape: {item_features.shape}\")"
   ]
  },
  {
   "cell_type": "code",
   "execution_count": 83,
   "metadata": {},
   "outputs": [
    {
     "name": "stdout",
     "output_type": "stream",
     "text": [
      "Model training complete.\n"
     ]
    }
   ],
   "source": [
    "from lightfm import LightFM\n",
    "\n",
    "# Initialize the LightFM model\n",
    "embedding_dim = embedding_sparse_matrix.shape[1]\n",
    "model = LightFM(no_components=20, loss='warp')\n",
    "\n",
    "# Train the model for one epoch\n",
    "model.fit(train, item_features=item_features, epochs=10, num_threads=4)\n",
    "\n",
    "print(\"Model training complete.\")"
   ]
  },
  {
   "cell_type": "code",
   "execution_count": 87,
   "metadata": {},
   "outputs": [
    {
     "name": "stdout",
     "output_type": "stream",
     "text": [
      "Train AUC: 0.8843\n",
      "Test AUC: 0.8550\n"
     ]
    },
    {
     "ename": "",
     "evalue": "",
     "output_type": "error",
     "traceback": [
      "\u001b[1;31mThe Kernel crashed while executing code in the current cell or a previous cell. \n",
      "\u001b[1;31mPlease review the code in the cell(s) to identify a possible cause of the failure. \n",
      "\u001b[1;31mClick <a href='https://aka.ms/vscodeJupyterKernelCrash'>here</a> for more info. \n",
      "\u001b[1;31mView Jupyter <a href='command:jupyter.viewOutput'>log</a> for further details."
     ]
    }
   ],
   "source": [
    "# Evaluate performance\n",
    "from lightfm.evaluation import auc_score\n",
    "\n",
    "# Compute and print the AUC score\n",
    "train_auc = auc_score(model, train, item_features=item_features, num_threads=4).mean()\n",
    "test_auc = auc_score(model, test, item_features=item_features, num_threads=4).mean()\n",
    "\n",
    "print(f\"Train AUC: {train_auc:.4f}\")\n",
    "print(f\"Test AUC: {test_auc:.4f}\")"
   ]
  },
  {
   "cell_type": "code",
   "execution_count": 84,
   "metadata": {},
   "outputs": [],
   "source": [
    "# Get embeddings from the trained model\n",
    "item_biases, item_embeddings = model.get_item_representations(features=item_features)"
   ]
  },
  {
   "cell_type": "code",
   "execution_count": 43,
   "metadata": {},
   "outputs": [],
   "source": [
    "# Get similar artists as above using resulting embeddings\n",
    "def get_top_k_similar_artists_lightfm(model, artist_id, k=5):\n",
    "    \"\"\"\n",
    "    Get the top K most similar artists to the given artist_id using the LightFM model.\n",
    "\n",
    "    Parameters:\n",
    "    - model (LightFM): The trained LightFM model.\n",
    "    - artist_id (int): The ID of the artist to find similar artists for.\n",
    "    - k (int): The number of similar artists to return.\n",
    "\n",
    "    Returns:\n",
    "    - List of tuples: [(artist_id, similarity), ...] for the top K similar artists.\n",
    "    \"\"\"\n",
    "    # Get the index of the given artist\n",
    "    artist_idx = artist_index_map[artist_id]\n",
    "    \n",
    "    # Compute artist embeddings\n",
    "    artist_embedding = model.get_item_representations(features=item_features)[1]\n",
    "    print(artist_embedding.shape)\n",
    "    \n",
    "    # Compute cosine similarity between the given artist and all others\n",
    "    similarities = cosine_similarity([artist_embedding[artist_idx]], artist_embedding).flatten()\n",
    "    # Get the top K similar indices (excluding itself)\n",
    "    similar_indices = similarities.argsort()[::-1]  # Sort in descending order\n",
    "    top_k_indices = [idx for idx in similar_indices if idx != artist_idx][:k]\n",
    "\n",
    "    # Map indices back to artist IDs and return their similarities\n",
    "    index_artist_map = {v: k for k, v in artist_index_map.items()}\n",
    "    top_k_artists = [(index_artist_map[idx], similarities[idx]) for idx in top_k_indices]\n",
    "\n",
    "\n",
    "    return top_k_artists"
   ]
  },
  {
   "cell_type": "code",
   "execution_count": 45,
   "metadata": {},
   "outputs": [
    {
     "name": "stdout",
     "output_type": "stream",
     "text": [
      "(17632, 20)\n",
      "[ 0.31058118 -0.07600567 -0.45401764 ...  0.         -0.11866216\n",
      "  0.        ] [1405, 727, 1795, 505, 593]\n",
      "0.9812064\n",
      "[(1405, 0.9812064), (727, 0.9771702), (1795, 0.9683263), (505, 0.96734214), (593, 0.95420647)]\n"
     ]
    }
   ],
   "source": [
    "similar = get_top_k_similar_artists_lightfm(model, example_artist_id, k=5)\n",
    "print(similar)"
   ]
  },
  {
   "cell_type": "code",
   "execution_count": 46,
   "metadata": {},
   "outputs": [
    {
     "name": "stdout",
     "output_type": "stream",
     "text": [
      "Top similar artists to artist 221:\n",
      "['Paul McCartney', 'John Lennon', 'T. Rex', 'U2', 'David Bowie']\n"
     ]
    }
   ],
   "source": [
    "similarNames = [get_artist_name(artist_id) for artist_id, _ in similar]\n",
    "similarScores = [score for _, score in similar]\n",
    "\n",
    "# Output results\n",
    "print(f\"Top similar artists to artist {example_artist_id}:\")\n",
    "print(similarNames)"
   ]
  },
  {
   "cell_type": "code",
   "execution_count": 86,
   "metadata": {},
   "outputs": [
    {
     "name": "stdout",
     "output_type": "stream",
     "text": [
      "         cosine  artistID              artistName\n",
      "2319   0.909862      2319           Levent Yüksel\n",
      "16550  0.894124     16550            Shawn Colvin\n",
      "9645   0.817164      9645  Die Fantastischen Vier\n",
      "2307   0.804606      2307             Zerrin Özer\n",
      "2286   0.796336      2286             Ajda Pekkan\n"
     ]
    }
   ],
   "source": [
    "def get_tag_id_by_name(tag_name):\n",
    "    return tags.loc[tags['tagValue'] == tag_name, 'tagID'].values[0]\n",
    "\n",
    "def get_cold_start_similar_artists(model,item_tags, importance_schema='equal'):\n",
    "    importance_weights = []\n",
    "    try:\n",
    "        item_tag_ids = [get_tag_id_by_name(tag) for tag in item_tags]\n",
    "    except Exception as e:\n",
    "        raise ValueError(f\"Tag not found: {e}\")\n",
    "    \n",
    "    if importance_schema == 'equal':\n",
    "        importance_weights = np.ones(shape=len(item_tags))\n",
    "    elif importance_schema == 'scaled':\n",
    "        importance_weights = [len(item_tags) - i for i in range(len(item_tags))]\n",
    "    else:\n",
    "        raise ValueError(f'schema not found: {importance_schema}')\n",
    "\n",
    "    normalized_weights = [weight / sum(importance_weights) for weight in importance_weights]\n",
    "\n",
    "    new_embedding = np.zeros(shape=embedding_dim)\n",
    "    for tag_id, weight in zip(item_tag_ids, normalized_weights):\n",
    "        new_embedding[tag_id] = weight\n",
    "\n",
    "    new_item_sparse = csr_matrix(new_embedding)\n",
    "\n",
    "    cold_bias, cold_embedding = model.get_item_representations(new_item_sparse)\n",
    "    sim = pd.DataFrame(cosine_similarity(cold_embedding, item_embeddings).T, columns=([\"cosine\"]))\n",
    "    \n",
    "    sim = sim.sort_values(by=\"cosine\", ascending=False).head(5)\n",
    "\n",
    "    # Add the artist names to the DataFrame\n",
    "    sim['artistID'] = sim.index\n",
    "    sim['artistName'] = sim['artistID'].apply(get_artist_name)\n",
    "\n",
    "    return sim\n",
    "\n",
    "new_item_tags = ['rock', 'punk', 'alternative']\n",
    "similar_cold_start = get_cold_start_similar_artists(model, new_item_tags, importance_schema='scaled')\n",
    "print(similar_cold_start)\n",
    "\n"
   ]
  },
  {
   "cell_type": "code",
   "execution_count": 93,
   "metadata": {},
   "outputs": [
    {
     "data": {
      "text/plain": [
       "[72, 209, 87, 191, 303]"
      ]
     },
     "execution_count": 93,
     "metadata": {},
     "output_type": "execute_result"
    }
   ],
   "source": [
    "new_item_tags = ['rock', '00s', 'psychedelic', 'classic rock', 'hip hop']\n",
    "importance_weights = [len(new_item_tags) - i for i in range(len(new_item_tags))]\n",
    "\n",
    "new_item_tag_ids = [get_tag_id_by_name(tag) for tag in new_item_tags]\n",
    "new_item_tag_ids"
   ]
  },
  {
   "cell_type": "code",
   "execution_count": 94,
   "metadata": {},
   "outputs": [],
   "source": [
    "normalized_weights = [weight / sum(importance_weights) for weight in importance_weights]\n",
    "\n",
    "# Create the embedding for the new item with weighted tags\n",
    "new_item = np.zeros((1, embedding_dim))\n",
    "for tag_id, weight in zip(new_item_tag_ids, normalized_weights):\n",
    "    new_item[0, tag_id] = weight\n",
    "\n",
    "assert new_item.shape[1] == embedding_dim\n",
    "assert np.isclose(new_item.sum(), 1.0)\n",
    "\n"
   ]
  },
  {
   "cell_type": "code",
   "execution_count": 95,
   "metadata": {},
   "outputs": [],
   "source": [
    "# convert t to a sparse matrix\n",
    "new_item_sparse = csr_matrix(new_item)\n",
    "\n",
    "cold_bias, cold_embedding = model.get_item_representations(new_item_sparse)"
   ]
  },
  {
   "cell_type": "code",
   "execution_count": 102,
   "metadata": {},
   "outputs": [],
   "source": [
    "sim = pd.DataFrame(cosine_similarity(cold_embedding, item_embeddings).T, columns=([\"cosine\"]))"
   ]
  },
  {
   "cell_type": "code",
   "execution_count": 103,
   "metadata": {},
   "outputs": [
    {
     "data": {
      "text/html": [
       "<div>\n",
       "<style scoped>\n",
       "    .dataframe tbody tr th:only-of-type {\n",
       "        vertical-align: middle;\n",
       "    }\n",
       "\n",
       "    .dataframe tbody tr th {\n",
       "        vertical-align: top;\n",
       "    }\n",
       "\n",
       "    .dataframe thead th {\n",
       "        text-align: right;\n",
       "    }\n",
       "</style>\n",
       "<table border=\"1\" class=\"dataframe\">\n",
       "  <thead>\n",
       "    <tr style=\"text-align: right;\">\n",
       "      <th></th>\n",
       "      <th>cosine</th>\n",
       "      <th>artistID</th>\n",
       "      <th>artistName</th>\n",
       "    </tr>\n",
       "  </thead>\n",
       "  <tbody>\n",
       "    <tr>\n",
       "      <th>7136</th>\n",
       "      <td>0.953377</td>\n",
       "      <td>7136</td>\n",
       "      <td>Erin McCarley</td>\n",
       "    </tr>\n",
       "    <tr>\n",
       "      <th>3608</th>\n",
       "      <td>0.950420</td>\n",
       "      <td>3608</td>\n",
       "      <td>Angus &amp; Julia Stone</td>\n",
       "    </tr>\n",
       "    <tr>\n",
       "      <th>12108</th>\n",
       "      <td>0.946691</td>\n",
       "      <td>12108</td>\n",
       "      <td>Ximena Sariñana</td>\n",
       "    </tr>\n",
       "    <tr>\n",
       "      <th>10412</th>\n",
       "      <td>0.945458</td>\n",
       "      <td>10412</td>\n",
       "      <td>The Sound of Arrows</td>\n",
       "    </tr>\n",
       "    <tr>\n",
       "      <th>5853</th>\n",
       "      <td>0.940304</td>\n",
       "      <td>5853</td>\n",
       "      <td>Neon Trees</td>\n",
       "    </tr>\n",
       "  </tbody>\n",
       "</table>\n",
       "</div>"
      ],
      "text/plain": [
       "         cosine  artistID           artistName\n",
       "7136   0.953377      7136        Erin McCarley\n",
       "3608   0.950420      3608  Angus & Julia Stone\n",
       "12108  0.946691     12108      Ximena Sariñana\n",
       "10412  0.945458     10412  The Sound of Arrows\n",
       "5853   0.940304      5853           Neon Trees"
      ]
     },
     "execution_count": 103,
     "metadata": {},
     "output_type": "execute_result"
    }
   ],
   "source": [
    "sim = sim.sort_values(by=\"cosine\", ascending=False).head(5)\n",
    "\n",
    "# Add the artist names to the DataFrame\n",
    "sim['artistID'] = sim.index\n",
    "sim['artistName'] = sim['artistID'].apply(get_artist_name)\n",
    "\n",
    "sim"
   ]
  },
  {
   "cell_type": "code",
   "execution_count": null,
   "metadata": {},
   "outputs": [],
   "source": []
  }
 ],
 "metadata": {
  "kernelspec": {
   "display_name": "Python 3",
   "language": "python",
   "name": "python3"
  },
  "language_info": {
   "codemirror_mode": {
    "name": "ipython",
    "version": 3
   },
   "file_extension": ".py",
   "mimetype": "text/x-python",
   "name": "python",
   "nbconvert_exporter": "python",
   "pygments_lexer": "ipython3",
   "version": "3.12.7"
  }
 },
 "nbformat": 4,
 "nbformat_minor": 2
}
