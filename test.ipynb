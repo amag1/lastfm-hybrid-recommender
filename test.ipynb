{
 "cells": [
  {
   "cell_type": "code",
   "execution_count": 9,
   "metadata": {},
   "outputs": [
    {
     "name": "stdout",
     "output_type": "stream",
     "text": [
      "(3213, 72360)\n",
      "(3213, 72360)\n",
      "(72360, 1246)\n",
      "<Compressed Sparse Row sparse matrix of dtype 'float32'\n",
      "\twith 2 stored elements and shape (1, 1246)>\n",
      "  Coords\tValues\n",
      "  (0, 3)\t1.0\n",
      "  (0, 7)\t1.0\n"
     ]
    }
   ],
   "source": [
    "import numpy as np\n",
    "\n",
    "from lightfm.datasets import fetch_stackexchange\n",
    "\n",
    "data = fetch_stackexchange('crossvalidated',\n",
    "                           test_set_fraction=0.1,\n",
    "                           indicator_features=False,\n",
    "                           tag_features=True)\n",
    "\n",
    "train = data['train']\n",
    "test = data['test']\n",
    "\n",
    "features = data['item_features']\n",
    "tag_labels = data['item_feature_labels']\n",
    "\n",
    "print(train.shape)\n",
    "print(test.shape)\n",
    "print(features.shape)"
   ]
  }
 ],
 "metadata": {
  "kernelspec": {
   "display_name": "Python 3",
   "language": "python",
   "name": "python3"
  },
  "language_info": {
   "codemirror_mode": {
    "name": "ipython",
    "version": 3
   },
   "file_extension": ".py",
   "mimetype": "text/x-python",
   "name": "python",
   "nbconvert_exporter": "python",
   "pygments_lexer": "ipython3",
   "version": "3.12.7"
  }
 },
 "nbformat": 4,
 "nbformat_minor": 2
}
